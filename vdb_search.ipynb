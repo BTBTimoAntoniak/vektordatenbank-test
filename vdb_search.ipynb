{
 "cells": [
  {
   "cell_type": "markdown",
   "id": "e8573c27",
   "metadata": {},
   "source": [
    "# Vektordatenbank Suche\n",
    "Ein Notebook nur spezialisiert auf die Suche in der Vektordatenbank"
   ]
  },
  {
   "cell_type": "code",
   "execution_count": 8,
   "id": "03fa0700",
   "metadata": {},
   "outputs": [],
   "source": [
    "from classes import get_test_data, MitarbeiterSkills, TechnologieWissen\n",
    "from embeddings_utils import get_or_create_embeddings, get_query_embedding\n",
    "from visualisation import plot_with_query_umap\n",
    "import numpy as np\n",
    "import faiss\n",
    "import ipywidgets as widgets\n",
    "from IPython.display import display, clear_output\n",
    "\n",
    "# Testdaten laden und ggf. erweitern\n",
    "workers = get_test_data()\n",
    "\n",
    "# Zusätzliche Test-Mitarbeiter\n",
    "extra_workers = [\n",
    "    MitarbeiterSkills(\n",
    "        name=\"Boris Backend\",\n",
    "        technologien=[\n",
    "            TechnologieWissen(name=\"Java\", letzte_verwendung=0),\n",
    "            TechnologieWissen(name=\"Docker\", letzte_verwendung=0),\n",
    "            TechnologieWissen(name=\"SQL\", letzte_verwendung=0),\n",
    "            TechnologieWissen(name=\"MongoDB\", letzte_verwendung=0),\n",
    "            TechnologieWissen(name=\"PostgreSQL\", letzte_verwendung=0),\n",
    "            TechnologieWissen(name=\"MySQL\", letzte_verwendung=0)\n",
    "        ]\n",
    "    ),\n",
    "    MitarbeiterSkills(\n",
    "        name=\"Fritz Frontend\",\n",
    "        technologien=[\n",
    "            TechnologieWissen(name=\"JavaScript\", letzte_verwendung=0),\n",
    "            TechnologieWissen(name=\"TypeScript\", letzte_verwendung=0),\n",
    "            TechnologieWissen(name=\"React\", letzte_verwendung=0),\n",
    "            TechnologieWissen(name=\"Vue.js\", letzte_verwendung=0),\n",
    "            TechnologieWissen(name=\"Angular\", letzte_verwendung=0)\n",
    "        ]\n",
    "    ),\n",
    "    MitarbeiterSkills(\n",
    "        name=\"Tim Technik\",\n",
    "        technologien=[\n",
    "            TechnologieWissen(name=\"Azure\", letzte_verwendung=0),\n",
    "            TechnologieWissen(name=\"AWS\", letzte_verwendung=0),\n",
    "            TechnologieWissen(name=\"GCP\", letzte_verwendung=0),\n",
    "            TechnologieWissen(name=\"Kubernetes\", letzte_verwendung=0),\n",
    "            TechnologieWissen(name=\"Docker\", letzte_verwendung=0)\n",
    "        ]\n",
    "    )\n",
    "]\n",
    "workers.extend(extra_workers)"
   ]
  },
  {
   "cell_type": "code",
   "execution_count": 9,
   "id": "54b7341a",
   "metadata": {},
   "outputs": [],
   "source": [
    "# OpenAI Embedding Funktion (API-Key muss konfiguriert sein)\n",
    "from openai import OpenAI\n",
    "client = OpenAI()\n",
    "def embedd(text):\n",
    "    return client.embeddings.create(input=text, model=\"text-embedding-3-small\").data[0].embedding"
   ]
  },
  {
   "cell_type": "code",
   "execution_count": 10,
   "id": "85c9e125",
   "metadata": {},
   "outputs": [
    {
     "name": "stdout",
     "output_type": "stream",
     "text": [
      "Lade gespeicherte Embeddings...\n"
     ]
    }
   ],
   "source": [
    "# Embeddings laden oder erzeugen\n",
    "embedded_data = get_or_create_embeddings(workers, embedd)"
   ]
  },
  {
   "cell_type": "code",
   "execution_count": 11,
   "id": "1ce33c01",
   "metadata": {},
   "outputs": [],
   "source": [
    "# FAISS Index initialisieren\n",
    "if len(embedded_data.shape) == 1:\n",
    "    embedded_data = np.expand_dims(embedded_data, axis=0)\n",
    "dim = embedded_data.shape[1]\n",
    "index = faiss.IndexFlatL2(dim)\n",
    "embeddings_np = embedded_data.astype(\"float32\")\n",
    "index.add(embeddings_np)"
   ]
  },
  {
   "cell_type": "markdown",
   "id": "eae83f70",
   "metadata": {},
   "source": [
    "## Interaktive Suche\n",
    "Geben Sie eine Suchanfrage ein, um ähnliche Mitarbeiter zu finden und die Ergebnisse zu visualisieren."
   ]
  },
  {
   "cell_type": "code",
   "execution_count": 12,
   "id": "90555581",
   "metadata": {},
   "outputs": [],
   "source": [
    "def search_and_visualize(query, erg_anzahl=5):\n",
    "    query_vector = get_query_embedding(query, embedd)\n",
    "    search_vector = np.array([query_vector]).astype('float32')\n",
    "    D, indices = index.search(search_vector, erg_anzahl)\n",
    "    hover_texts = [str(w) for w in workers]\n",
    "    plot_with_query_umap(embeddings_np, query_vector, highlight_indices=indices[0], hover_texts=hover_texts)\n",
    "    print(f\"Distances: {D}\")\n",
    "    print(f\"Indices: {indices}\")\n",
    "    for i in indices[0]:\n",
    "        print(workers[i])"
   ]
  },
  {
   "cell_type": "code",
   "execution_count": 13,
   "id": "af9df2de",
   "metadata": {},
   "outputs": [
    {
     "data": {
      "application/vnd.jupyter.widget-view+json": {
       "model_id": "6106abab85f24446b0f689c700dd8dcf",
       "version_major": 2,
       "version_minor": 0
      },
      "text/plain": [
       "Text(value='Erfahrung mit Backend Technologien', description='Query:', placeholder='Suchanfrage eingeben...')"
      ]
     },
     "metadata": {},
     "output_type": "display_data"
    },
    {
     "data": {
      "application/vnd.jupyter.widget-view+json": {
       "model_id": "2fcc0a6bedb841f495bb6673e4b830b3",
       "version_major": 2,
       "version_minor": 0
      },
      "text/plain": [
       "Output()"
      ]
     },
     "metadata": {},
     "output_type": "display_data"
    }
   ],
   "source": [
    "query_input = widgets.Text(\n",
    "    value='Erfahrung mit Backend Technologien',\n",
    "    placeholder='Suchanfrage eingeben...',\n",
    "    description='Query:',\n",
    "    disabled=False\n",
    ")\n",
    "output = widgets.Output()\n",
    "\n",
    "def on_query_change(change):\n",
    "    with output:\n",
    "        clear_output(wait=True)\n",
    "        search_and_visualize(change['new'])\n",
    "\n",
    "query_input.observe(on_query_change, names='value')\n",
    "display(query_input, output)\n",
    "# Initial plot\n",
    "on_query_change({'new': query_input.value})"
   ]
  },
  {
   "cell_type": "markdown",
   "id": "81c483a7",
   "metadata": {},
   "source": [
    "## Notitz\n",
    "Es gibt 2 Ansätze, die man noch probieren könnte.\n",
    "\n",
    "1. Alle Daten vor dem Embedding in Fließtext konvertieren\n",
    "2. Query-Vektor in Stichpunkte bzw. konkrete Technologie suche Konvertieren (siehe Excalidraw) "
   ]
  }
 ],
 "metadata": {
  "kernelspec": {
   "display_name": "vdb",
   "language": "python",
   "name": "python3"
  },
  "language_info": {
   "codemirror_mode": {
    "name": "ipython",
    "version": 3
   },
   "file_extension": ".py",
   "mimetype": "text/x-python",
   "name": "python",
   "nbconvert_exporter": "python",
   "pygments_lexer": "ipython3",
   "version": "3.12.11"
  }
 },
 "nbformat": 4,
 "nbformat_minor": 5
}

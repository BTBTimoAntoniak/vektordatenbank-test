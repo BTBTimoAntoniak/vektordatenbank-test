{
 "cells": [
  {
   "cell_type": "markdown",
   "id": "e8573c27",
   "metadata": {},
   "source": [
    "# Vektordatenbank Suche\n",
    "Ein Notebook nur spezialisiert auf die Suche in der Vektordatenbank"
   ]
  },
  {
   "cell_type": "code",
   "execution_count": 20,
   "id": "03fa0700",
   "metadata": {},
   "outputs": [],
   "source": [
    "from classes import *\n",
    "\n",
    "workers = get_test_data()"
   ]
  },
  {
   "cell_type": "markdown",
   "id": "82550584",
   "metadata": {},
   "source": [
    "Einige spezialisierte Test-Mitarbeiter hinzufügen"
   ]
  },
  {
   "cell_type": "code",
   "execution_count": 21,
   "id": "3d04dc8a",
   "metadata": {},
   "outputs": [],
   "source": [
    "test_mitarbeiter = [\n",
    "    MitarbeiterSkills(\n",
    "        name=\"Boris Backend\",\n",
    "        technologien=[\n",
    "            TechnologieWissen(name=\"Java\", letzte_verwendung=0),\n",
    "            TechnologieWissen(name=\"Docker\", letzte_verwendung=0),\n",
    "            TechnologieWissen(name=\"SQL\", letzte_verwendung=0),\n",
    "            TechnologieWissen(name=\"MongoDB\", letzte_verwendung=0),\n",
    "            TechnologieWissen(name=\"PostgreSQL\", letzte_verwendung=0),\n",
    "            TechnologieWissen(name=\"MySQL\", letzte_verwendung=0)\n",
    "        ]\n",
    "    ),\n",
    "    MitarbeiterSkills(\n",
    "        name=\"Fritz Frontend\",\n",
    "        technologien=[\n",
    "            TechnologieWissen(name=\"JavaScript\", letzte_verwendung=0),\n",
    "            TechnologieWissen(name=\"TypeScript\", letzte_verwendung=0),\n",
    "            TechnologieWissen(name=\"React\", letzte_verwendung=0),\n",
    "            TechnologieWissen(name=\"Vue.js\", letzte_verwendung=0),\n",
    "            TechnologieWissen(name=\"Angular\", letzte_verwendung=0)\n",
    "        ]\n",
    "    ),\n",
    "    MitarbeiterSkills(\n",
    "        name=\"Tim Technik\",\n",
    "        technologien=[\n",
    "            TechnologieWissen(name=\"Azure\", letzte_verwendung=0),\n",
    "            TechnologieWissen(name=\"AWS\", letzte_verwendung=0),\n",
    "            TechnologieWissen(name=\"GCP\", letzte_verwendung=0),\n",
    "            TechnologieWissen(name=\"Kubernetes\", letzte_verwendung=0),\n",
    "            TechnologieWissen(name=\"Docker\", letzte_verwendung=0)\n",
    "        ]\n",
    "    )\n",
    "]\n",
    "\n",
    "# Füge die Test-Mitarbeiter zu den bestehenden Mitarbeitern hinzu\n",
    "workers.extend(test_mitarbeiter)"
   ]
  },
  {
   "cell_type": "code",
   "execution_count": 22,
   "id": "4e32ec15",
   "metadata": {},
   "outputs": [],
   "source": [
    "from openai import OpenAI\n",
    "\n",
    "client = OpenAI()\n",
    "\n",
    "def embedd(data):\n",
    "    return client.embeddings.create(input=data, model=\"text-embedding-3-small\").data[0].embedding"
   ]
  },
  {
   "cell_type": "code",
   "execution_count": 23,
   "id": "8a5eaa6d",
   "metadata": {},
   "outputs": [
    {
     "name": "stdout",
     "output_type": "stream",
     "text": [
      "Berechne Embeddings und speichere sie...\n"
     ]
    }
   ],
   "source": [
    "import os\n",
    "import numpy as np\n",
    "\n",
    "EMBEDDINGS_PATH = \"embeddings.npy\"\n",
    "\n",
    "embedded_data = []\n",
    "\n",
    "if os.path.exists(EMBEDDINGS_PATH):\n",
    "    print(\"Lade gespeicherte Embeddings...\")\n",
    "    embedded_data = np.load(EMBEDDINGS_PATH)\n",
    "else:\n",
    "    print(\"Berechne Embeddings und speichere sie...\")\n",
    "    embedded_data = []\n",
    "    for worker in workers:\n",
    "        embedded_data.append(embedd(worker.to_embedding()))\n",
    "    embedded_data = np.array(embedded_data)\n",
    "    np.save(EMBEDDINGS_PATH, embedded_data)"
   ]
  },
  {
   "cell_type": "code",
   "execution_count": 24,
   "id": "6d0da7ea",
   "metadata": {},
   "outputs": [],
   "source": [
    "import faiss\n",
    "import numpy as np\n",
    "\n",
    "dim = len(embedded_data[0])\n",
    "index = faiss.IndexFlatL2(dim)\n",
    "\n",
    "embeddings_np = np.array(embedded_data).astype(\"float32\")\n",
    "index.add(embeddings_np)"
   ]
  },
  {
   "cell_type": "markdown",
   "id": "81c483a7",
   "metadata": {},
   "source": [
    "## Notitz\n",
    "Es gibt 2 Ansätze, die man noch probieren könnte.\n",
    "\n",
    "1. Alle Daten vor dem Embedding in Fließtext konvertieren\n",
    "2. Query-Vektor in Stichpunkte bzw. konkrete Technologie suche Konvertieren (siehe Excalidraw) "
   ]
  },
  {
   "cell_type": "code",
   "execution_count": null,
   "id": "4fe6b1d2",
   "metadata": {},
   "outputs": [
    {
     "name": "stdout",
     "output_type": "stream",
     "text": [
      "Distances: [[1.1303233 1.1606724 1.2330351 1.2354889 1.2402079]]\n",
      "Indices: [[225 162  96 190 206]]\n",
      "Mitarbeiter:\n",
      "  Name: Alina Uhlig\n",
      "  Skills:\n",
      "    Java: vor 262 Tagen\n",
      "    JIRA: vor 110 Tagen\n",
      "Mitarbeiter:\n",
      "  Name: Tarek Scholz\n",
      "  Skills:\n",
      "    Unity: vor 706 Tagen\n",
      "    Jenkins: vor 368 Tagen\n",
      "Mitarbeiter:\n",
      "  Name: Henrik Vogt\n",
      "  Skills:\n",
      "    Unity: vor 445 Tagen\n",
      "    Java: vor 259 Tagen\n",
      "Mitarbeiter:\n",
      "  Name: Kevin Heinemann\n",
      "  Skills:\n",
      "    JIRA: vor 233 Tagen\n",
      "    Confluence: vor 469 Tagen\n",
      "    TypeScript: vor 52 Tagen\n",
      "    Ruby: vor 569 Tagen\n",
      "    Terraform: vor 220 Tagen\n",
      "Mitarbeiter:\n",
      "  Name: Jette Mathis\n",
      "  Skills:\n",
      "    JIRA: vor 85 Tagen\n",
      "    Git: vor 320 Tagen\n",
      "    Swift: vor 284 Tagen\n",
      "    Confluence: vor 658 Tagen\n"
     ]
    }
   ],
   "source": [
    "from embeddings_utils import get_query_embedding\n",
    "\n",
    "query = \"Erfahrung mit Backend Technologien\"\n",
    "query_vector = get_query_embedding(query, embedd)\n",
    "\n",
    "search_vector = np.array([query_vector]).astype('float32')\n",
    "\n",
    "erg_anzahl = 5\n",
    "\n",
    "D, indices = index.search(search_vector, erg_anzahl)\n",
    "\n",
    "print(f\"Distances: {D}\")\n",
    "print(f\"Indices: {indices}\")\n",
    "\n",
    "for i in indices[0]:\n",
    "    print(workers[i])"
   ]
  },
  {
   "cell_type": "code",
   "execution_count": null,
   "id": "d6b7054a",
   "metadata": {},
   "outputs": [],
   "source": []
  }
 ],
 "metadata": {
  "kernelspec": {
   "display_name": "vdb",
   "language": "python",
   "name": "python3"
  },
  "language_info": {
   "codemirror_mode": {
    "name": "ipython",
    "version": 3
   },
   "file_extension": ".py",
   "mimetype": "text/x-python",
   "name": "python",
   "nbconvert_exporter": "python",
   "pygments_lexer": "ipython3",
   "version": "3.12.11"
  }
 },
 "nbformat": 4,
 "nbformat_minor": 5
}

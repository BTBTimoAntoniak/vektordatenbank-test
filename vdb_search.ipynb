{
 "cells": [
  {
   "cell_type": "markdown",
   "id": "e8573c27",
   "metadata": {},
   "source": [
    "# Vektordatenbank Suche\n",
    "Ein Notebook nur spezialisiert auf die Suche in der Vektordatenbank"
   ]
  },
  {
   "cell_type": "code",
   "execution_count": 1,
   "id": "03fa0700",
   "metadata": {},
   "outputs": [],
   "source": [
    "from classes import *\n",
    "\n",
    "workers = get_test_data()"
   ]
  },
  {
   "cell_type": "markdown",
   "id": "82550584",
   "metadata": {},
   "source": [
    "Einige spezialisierte Test-Mitarbeiter hinzufügen"
   ]
  },
  {
   "cell_type": "code",
   "execution_count": 2,
   "id": "3d04dc8a",
   "metadata": {},
   "outputs": [],
   "source": [
    "test_mitarbeiter = [\n",
    "    MitarbeiterSkills(\n",
    "        name=\"Boris Backend\",\n",
    "        technologien=[\n",
    "            TechnologieWissen(name=\"Java\", letzte_verwendung=0),\n",
    "            TechnologieWissen(name=\"Docker\", letzte_verwendung=0),\n",
    "            TechnologieWissen(name=\"SQL\", letzte_verwendung=0),\n",
    "            TechnologieWissen(name=\"MongoDB\", letzte_verwendung=0),\n",
    "            TechnologieWissen(name=\"PostgreSQL\", letzte_verwendung=0),\n",
    "            TechnologieWissen(name=\"MySQL\", letzte_verwendung=0)\n",
    "        ]\n",
    "    ),\n",
    "    MitarbeiterSkills(\n",
    "        name=\"Fritz Frontend\",\n",
    "        technologien=[\n",
    "            TechnologieWissen(name=\"JavaScript\", letzte_verwendung=0),\n",
    "            TechnologieWissen(name=\"TypeScript\", letzte_verwendung=0),\n",
    "            TechnologieWissen(name=\"React\", letzte_verwendung=0),\n",
    "            TechnologieWissen(name=\"Vue.js\", letzte_verwendung=0),\n",
    "            TechnologieWissen(name=\"Angular\", letzte_verwendung=0)\n",
    "        ]\n",
    "    ),\n",
    "    MitarbeiterSkills(\n",
    "        name=\"Tim Technik\",\n",
    "        technologien=[\n",
    "            TechnologieWissen(name=\"Azure\", letzte_verwendung=0),\n",
    "            TechnologieWissen(name=\"AWS\", letzte_verwendung=0),\n",
    "            TechnologieWissen(name=\"GCP\", letzte_verwendung=0),\n",
    "            TechnologieWissen(name=\"Kubernetes\", letzte_verwendung=0),\n",
    "            TechnologieWissen(name=\"Docker\", letzte_verwendung=0)\n",
    "        ]\n",
    "    )\n",
    "]\n",
    "\n",
    "# Füge die Test-Mitarbeiter zu den bestehenden Mitarbeitern hinzu\n",
    "workers.extend(test_mitarbeiter)"
   ]
  },
  {
   "cell_type": "code",
   "execution_count": 3,
   "id": "4e32ec15",
   "metadata": {},
   "outputs": [],
   "source": [
    "from openai import OpenAI\n",
    "\n",
    "client = OpenAI()\n",
    "\n",
    "def embedd(data):\n",
    "    return client.embeddings.create(input=data, model=\"text-embedding-3-small\").data[0].embedding"
   ]
  },
  {
   "cell_type": "code",
   "execution_count": 4,
   "id": "8a5eaa6d",
   "metadata": {},
   "outputs": [
    {
     "name": "stdout",
     "output_type": "stream",
     "text": [
      "Lade gespeicherte Embeddings...\n"
     ]
    }
   ],
   "source": [
    "import os\n",
    "import numpy as np\n",
    "\n",
    "EMBEDDINGS_PATH = \"embeddings.npy\"\n",
    "\n",
    "embedded_data = []\n",
    "\n",
    "if os.path.exists(EMBEDDINGS_PATH):\n",
    "    print(\"Lade gespeicherte Embeddings...\")\n",
    "    embedded_data = np.load(EMBEDDINGS_PATH)\n",
    "else:\n",
    "    print(\"Berechne Embeddings und speichere sie...\")\n",
    "    embedded_data = []\n",
    "    for worker in workers:\n",
    "        embedded_data.append(embedd(worker.to_embedding()))\n",
    "    embedded_data = np.array(embedded_data)\n",
    "    np.save(EMBEDDINGS_PATH, embedded_data)"
   ]
  },
  {
   "cell_type": "code",
   "execution_count": 5,
   "id": "6d0da7ea",
   "metadata": {},
   "outputs": [],
   "source": [
    "import faiss\n",
    "import numpy as np\n",
    "\n",
    "dim = len(embedded_data[0])\n",
    "index = faiss.IndexFlatL2(dim)\n",
    "\n",
    "embeddings_np = np.array(embedded_data).astype(\"float32\")\n",
    "index.add(embeddings_np)"
   ]
  },
  {
   "cell_type": "markdown",
   "id": "81c483a7",
   "metadata": {},
   "source": [
    "## Notitz\n",
    "Es gibt 2 Ansätze, die man noch probieren könnte.\n",
    "\n",
    "1. Alle Daten vor dem Embedding in Fließtext konvertieren\n",
    "2. Query-Vektor in Stichpunkte bzw. konkrete Technologie suche Konvertieren (siehe Excalidraw) "
   ]
  },
  {
   "cell_type": "code",
   "execution_count": 6,
   "id": "4fe6b1d2",
   "metadata": {},
   "outputs": [
    {
     "name": "stdout",
     "output_type": "stream",
     "text": [
      "Distances: [[1.1821351 1.2131362 1.2248633 1.2301035 1.2459797]]\n",
      "Indices: [[199 106 228  26 152]]\n",
      "Bianca Grebe (Express.js, PHP, Flask, Unreal Engine, Azure)\n",
      "Manuel Schuster (Kubernetes, Java, Docker, Terraform, JavaScript)\n",
      "Boris Backend (Java, Docker, SQL, MongoDB, PostgreSQL, MySQL)\n",
      "Tom Weiß (Keras, PHP, Google Cloud, Salesforce, Swift)\n",
      "Kevin Ostermann (AWS, AWS)\n"
     ]
    }
   ],
   "source": [
    "from embeddings_utils import get_query_embedding\n",
    "\n",
    "query = \"Erfahrung mit Backend Technologien\"\n",
    "query_vector = get_query_embedding(query, embedd)\n",
    "\n",
    "search_vector = np.array([query_vector]).astype('float32')\n",
    "\n",
    "erg_anzahl = 5\n",
    "\n",
    "D, indices = index.search(search_vector, erg_anzahl)\n",
    "\n",
    "print(f\"Distances: {D}\")\n",
    "print(f\"Indices: {indices}\")\n",
    "\n",
    "for i in indices[0]:\n",
    "    print(workers[i])"
   ]
  },
  {
   "cell_type": "code",
   "execution_count": 7,
   "id": "acf255e5",
   "metadata": {},
   "outputs": [
    {
     "data": {
      "application/vnd.jupyter.widget-view+json": {
       "model_id": "4c290738ad974d2aa2f8ea12373ef3d7",
       "version_major": 2,
       "version_minor": 0
      },
      "text/plain": [
       "Text(value='Erfahrung mit Backend Technologien', description='Query:', placeholder='Suchanfrage eingeben...')"
      ]
     },
     "metadata": {},
     "output_type": "display_data"
    },
    {
     "data": {
      "application/vnd.jupyter.widget-view+json": {
       "model_id": "faa5869aff7b481bb2092369e232a229",
       "version_major": 2,
       "version_minor": 0
      },
      "text/plain": [
       "Output()"
      ]
     },
     "metadata": {},
     "output_type": "display_data"
    }
   ],
   "source": [
    "import ipywidgets as widgets\n",
    "from IPython.display import display, clear_output\n",
    "from embeddings_utils import get_query_embedding\n",
    "from visualisation import plot_with_query_umap\n",
    "\n",
    "query_input = widgets.Text(\n",
    "    value='Erfahrung mit Backend Technologien',\n",
    "    placeholder='Suchanfrage eingeben...',\n",
    "    description='Query:',\n",
    "    disabled=False\n",
    ")\n",
    "\n",
    "output = widgets.Output()\n",
    "\n",
    "def on_query_change(change):\n",
    "    with output:\n",
    "        clear_output(wait=True)\n",
    "        query = change['new']\n",
    "        query_vector = get_query_embedding(query, embedd)\n",
    "        search_vector = np.array([query_vector]).astype('float32')\n",
    "        erg_anzahl = 5\n",
    "        D, indices = index.search(search_vector, erg_anzahl)\n",
    "        # Use string representation of each worker for hover info\n",
    "        hover_texts = [str(w) for w in workers]\n",
    "        plot_with_query_umap(embeddings_np, query_vector, highlight_indices=indices[0], hover_texts=hover_texts)\n",
    "        print(f\"Distances: {D}\")\n",
    "        print(f\"Indices: {indices}\")\n",
    "        for i in indices[0]:\n",
    "            print(workers[i])\n",
    "\n",
    "query_input.observe(on_query_change, names='value')\n",
    "display(query_input, output)\n",
    "# Initial plot\n",
    "on_query_change({'new': query_input.value})"
   ]
  }
 ],
 "metadata": {
  "kernelspec": {
   "display_name": "vdb",
   "language": "python",
   "name": "python3"
  },
  "language_info": {
   "codemirror_mode": {
    "name": "ipython",
    "version": 3
   },
   "file_extension": ".py",
   "mimetype": "text/x-python",
   "name": "python",
   "nbconvert_exporter": "python",
   "pygments_lexer": "ipython3",
   "version": "3.12.11"
  }
 },
 "nbformat": 4,
 "nbformat_minor": 5
}

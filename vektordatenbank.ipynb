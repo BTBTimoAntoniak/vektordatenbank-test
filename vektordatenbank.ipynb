{
 "cells": [
  {
   "cell_type": "code",
   "execution_count": 2,
   "id": "59ee1761",
   "metadata": {},
   "outputs": [],
   "source": [
    "class TechnologieWissen:\n",
    "    def __init__(self, name: str, letzte_verwendung: int):\n",
    "        self.name = name\n",
    "        self.letzte_verwendung = letzte_verwendung\n",
    "\n",
    "    def __repr__(self):\n",
    "        return f\"{self.name}: vor {self.letzte_verwendung} Tagen\"\n",
    "\n",
    "class MitarbeiterSkills:\n",
    "    def __init__(self, name: str, technologien: list[TechnologieWissen]):\n",
    "        self.name = name\n",
    "        self.technologien = technologien\n",
    "\n",
    "    def __repr__(self):\n",
    "        technologien_str = \"\\n    \".join([repr(t) for t in self.technologien])\n",
    "        return (\n",
    "            f\"Mitarbeiter:\\n\"\n",
    "            f\"  Name: {self.name}\\n\"\n",
    "            f\"  Skills:\\n\"\n",
    "            f\"    {technologien_str}\"\n",
    "        )\n",
    "    \n",
    "    def to_embedding(self):\n",
    "        # Konvertiere die Technologien in eine Liste von Strings\n",
    "        technologien_str = [t.name for t in self.technologien]\n",
    "        # Erstelle ein Embedding aus den Technologien\n",
    "        return \" \".join(technologien_str)"
   ]
  },
  {
   "cell_type": "code",
   "execution_count": 3,
   "id": "53c3b48b",
   "metadata": {},
   "outputs": [],
   "source": [
    "import json\n",
    "import random\n",
    "\n",
    "with open(\"technologien.json\", \"r\", encoding=\"utf-8\") as f:\n",
    "    technologien = json.load(f)\n",
    "with open(\"namen.json\", \"r\", encoding=\"utf-8\") as f:\n",
    "    namen = json.load(f)\n",
    "\n",
    "def get_random_skills():\n",
    "    skills = []\n",
    "    for _ in range(1, random.randint(1, 5) + 1):\n",
    "        tech_name = random.choice(technologien)\n",
    "        skills.append(TechnologieWissen(tech_name, random.randint(0, 2 * 365)))\n",
    "    return skills"
   ]
  },
  {
   "cell_type": "markdown",
   "id": "adefc5c1",
   "metadata": {},
   "source": []
  },
  {
   "cell_type": "markdown",
   "id": "7fdbba51",
   "metadata": {},
   "source": [
    "## Formatieren der Daten"
   ]
  },
  {
   "cell_type": "code",
   "execution_count": 4,
   "id": "7df7dd72",
   "metadata": {},
   "outputs": [
    {
     "name": "stdout",
     "output_type": "stream",
     "text": [
      "Mitarbeiter:\n",
      "  Name: Laura Müller\n",
      "  Skills:\n",
      "    Docker: vor 503 Tagen\n",
      "    Google Cloud: vor 194 Tagen\n",
      "Mitarbeiter:\n",
      "  Name: Maximilian Schmidt\n",
      "  Skills:\n",
      "    AWS: vor 65 Tagen\n",
      "    Go: vor 203 Tagen\n",
      "    Ruby: vor 339 Tagen\n",
      "    Rust: vor 449 Tagen\n",
      "Mitarbeiter:\n",
      "  Name: Anna Fischer\n",
      "  Skills:\n",
      "    Git: vor 701 Tagen\n",
      "    JIRA: vor 374 Tagen\n",
      "    NumPy: vor 308 Tagen\n",
      "    Docker: vor 712 Tagen\n",
      "    Flask: vor 704 Tagen\n",
      "Mitarbeiter:\n",
      "  Name: Jonas Wagner\n",
      "  Skills:\n",
      "    Flask: vor 303 Tagen\n",
      "    Ansible: vor 273 Tagen\n",
      "Mitarbeiter:\n",
      "  Name: Sofia Hofmann\n",
      "  Skills:\n",
      "    Keras: vor 281 Tagen\n",
      "    Go: vor 483 Tagen\n",
      "Mitarbeiter:\n",
      "  Name: Paul Klein\n",
      "  Skills:\n",
      "    Django: vor 684 Tagen\n",
      "    Docker: vor 193 Tagen\n",
      "    Express.js: vor 648 Tagen\n",
      "Mitarbeiter:\n",
      "  Name: Emma Lehmann\n",
      "  Skills:\n",
      "    PostgreSQL: vor 57 Tagen\n",
      "    Power BI: vor 316 Tagen\n",
      "Mitarbeiter:\n",
      "  Name: Liam Becker\n",
      "  Skills:\n",
      "    Bitbucket: vor 216 Tagen\n",
      "    Rust: vor 298 Tagen\n",
      "    Angular: vor 294 Tagen\n",
      "Mitarbeiter:\n",
      "  Name: Mia Krüger\n",
      "  Skills:\n",
      "    PostgreSQL: vor 684 Tagen\n",
      "    React: vor 133 Tagen\n",
      "    Git: vor 634 Tagen\n",
      "    TensorFlow: vor 230 Tagen\n",
      "Mitarbeiter:\n",
      "  Name: Noah Wolf\n",
      "  Skills:\n",
      "    Salesforce: vor 371 Tagen\n",
      "    GitHub: vor 307 Tagen\n",
      "    Bitbucket: vor 71 Tagen\n",
      "Mitarbeiter:\n",
      "  Name: Emilia Schröder\n",
      "  Skills:\n",
      "    Google Cloud: vor 56 Tagen\n",
      "Mitarbeiter:\n",
      "  Name: Ben Richter\n",
      "  Skills:\n",
      "    GitHub: vor 566 Tagen\n",
      "    Ruby: vor 196 Tagen\n",
      "    Jenkins: vor 397 Tagen\n",
      "Mitarbeiter:\n",
      "  Name: Lea Hofmann\n",
      "  Skills:\n",
      "    MongoDB: vor 653 Tagen\n",
      "    TensorFlow: vor 89 Tagen\n",
      "    Tableau: vor 437 Tagen\n",
      "    Scikit-learn: vor 399 Tagen\n",
      "Mitarbeiter:\n",
      "  Name: Elias Hartmann\n",
      "  Skills:\n",
      "    C#: vor 680 Tagen\n",
      "    Terraform: vor 489 Tagen\n",
      "Mitarbeiter:\n",
      "  Name: Lina Bauer\n",
      "  Skills:\n",
      "    Kotlin: vor 5 Tagen\n",
      "    Keras: vor 350 Tagen\n",
      "    TypeScript: vor 0 Tagen\n",
      "    Power BI: vor 162 Tagen\n",
      "Mitarbeiter:\n",
      "  Name: Finn Neumann\n",
      "  Skills:\n",
      "    MySQL: vor 219 Tagen\n",
      "Mitarbeiter:\n",
      "  Name: Maya Weber\n",
      "  Skills:\n",
      "    Node.js: vor 617 Tagen\n",
      "    Express.js: vor 572 Tagen\n",
      "    C#: vor 600 Tagen\n",
      "Mitarbeiter:\n",
      "  Name: Julian Zimmermann\n",
      "  Skills:\n",
      "    PHP: vor 664 Tagen\n",
      "    Kubernetes: vor 652 Tagen\n",
      "    Unreal Engine: vor 512 Tagen\n",
      "Mitarbeiter:\n",
      "  Name: Marie Voigt\n",
      "  Skills:\n",
      "    Confluence: vor 418 Tagen\n",
      "Mitarbeiter:\n",
      "  Name: Tim Schulz\n",
      "  Skills:\n",
      "    TypeScript: vor 582 Tagen\n",
      "    Scikit-learn: vor 301 Tagen\n",
      "    JIRA: vor 359 Tagen\n",
      "    Confluence: vor 63 Tagen\n",
      "Mitarbeiter:\n",
      "  Name: Hannah König\n",
      "  Skills:\n",
      "    AWS: vor 294 Tagen\n",
      "    Kubernetes: vor 59 Tagen\n",
      "Mitarbeiter:\n",
      "  Name: Luca Braun\n",
      "  Skills:\n",
      "    Ruby: vor 475 Tagen\n",
      "    C#: vor 157 Tagen\n",
      "    GitHub: vor 12 Tagen\n",
      "Mitarbeiter:\n",
      "  Name: Lara Seidel\n",
      "  Skills:\n",
      "    Keras: vor 630 Tagen\n",
      "Mitarbeiter:\n",
      "  Name: Niklas Keller\n",
      "  Skills:\n",
      "    Google Cloud: vor 143 Tagen\n",
      "    Java: vor 425 Tagen\n",
      "    Unity: vor 299 Tagen\n",
      "Mitarbeiter:\n",
      "  Name: Leon Schneider\n",
      "  Skills:\n",
      "    C#: vor 306 Tagen\n",
      "Mitarbeiter:\n",
      "  Name: Clara Fischer\n",
      "  Skills:\n",
      "    Power BI: vor 225 Tagen\n",
      "    Confluence: vor 575 Tagen\n",
      "    Azure: vor 417 Tagen\n",
      "    SQL: vor 457 Tagen\n",
      "    Go: vor 504 Tagen\n",
      "Mitarbeiter:\n",
      "  Name: Tom Weiß\n",
      "  Skills:\n",
      "    Swift: vor 186 Tagen\n",
      "    Terraform: vor 140 Tagen\n",
      "    Tableau: vor 270 Tagen\n",
      "    NumPy: vor 632 Tagen\n",
      "Mitarbeiter:\n",
      "  Name: Sophia Maier\n",
      "  Skills:\n",
      "    Django: vor 169 Tagen\n",
      "    Jenkins: vor 419 Tagen\n",
      "    TypeScript: vor 553 Tagen\n",
      "    Google Cloud: vor 192 Tagen\n",
      "Mitarbeiter:\n",
      "  Name: Felix Hoffmann\n",
      "  Skills:\n",
      "    MySQL: vor 288 Tagen\n",
      "    Bitbucket: vor 568 Tagen\n",
      "    Docker: vor 14 Tagen\n",
      "    Redis: vor 203 Tagen\n",
      "    Tableau: vor 368 Tagen\n",
      "Mitarbeiter:\n",
      "  Name: Elena Bauer\n",
      "  Skills:\n",
      "    Express.js: vor 714 Tagen\n",
      "    Swift: vor 405 Tagen\n",
      "    Confluence: vor 715 Tagen\n",
      "    Python: vor 325 Tagen\n",
      "    Power BI: vor 146 Tagen\n",
      "Mitarbeiter:\n",
      "  Name: Markus Müller\n",
      "  Skills:\n",
      "    Bitbucket: vor 238 Tagen\n",
      "    MongoDB: vor 90 Tagen\n",
      "    Pandas: vor 111 Tagen\n",
      "Mitarbeiter:\n",
      "  Name: Sophie Schneider\n",
      "  Skills:\n",
      "    React: vor 135 Tagen\n",
      "Mitarbeiter:\n",
      "  Name: Lukas Fischer\n",
      "  Skills:\n",
      "    Flask: vor 47 Tagen\n",
      "    Unity: vor 618 Tagen\n",
      "    PostgreSQL: vor 710 Tagen\n",
      "    Jenkins: vor 488 Tagen\n",
      "    JavaScript: vor 399 Tagen\n",
      "Mitarbeiter:\n",
      "  Name: Anna Weber\n",
      "  Skills:\n",
      "    TensorFlow: vor 231 Tagen\n",
      "    TypeScript: vor 424 Tagen\n",
      "    SQL: vor 247 Tagen\n",
      "    Redis: vor 680 Tagen\n",
      "Mitarbeiter:\n",
      "  Name: Paul Wagner\n",
      "  Skills:\n",
      "    MongoDB: vor 219 Tagen\n",
      "    Power BI: vor 501 Tagen\n",
      "    AWS: vor 598 Tagen\n",
      "Mitarbeiter:\n",
      "  Name: Laura Becker\n",
      "  Skills:\n",
      "    Docker: vor 198 Tagen\n",
      "Mitarbeiter:\n",
      "  Name: Tim Schulz\n",
      "  Skills:\n",
      "    Google Cloud: vor 461 Tagen\n",
      "    PyTorch: vor 571 Tagen\n",
      "    Pandas: vor 97 Tagen\n",
      "Mitarbeiter:\n",
      "  Name: Marie Hoffmann\n",
      "  Skills:\n",
      "    TypeScript: vor 694 Tagen\n",
      "    Scikit-learn: vor 556 Tagen\n",
      "    Kubernetes: vor 690 Tagen\n",
      "    TensorFlow: vor 245 Tagen\n",
      "Mitarbeiter:\n",
      "  Name: Felix Meyer\n",
      "  Skills:\n",
      "    JIRA: vor 272 Tagen\n",
      "    Scikit-learn: vor 130 Tagen\n",
      "    Google Cloud: vor 39 Tagen\n",
      "Mitarbeiter:\n",
      "  Name: Lena Richter\n",
      "  Skills:\n",
      "    Git: vor 635 Tagen\n",
      "    JavaScript: vor 409 Tagen\n",
      "Mitarbeiter:\n",
      "  Name: Jonas Klein\n",
      "  Skills:\n",
      "    MLFlow: vor 598 Tagen\n",
      "Mitarbeiter:\n",
      "  Name: Emily Koch\n",
      "  Skills:\n",
      "    React: vor 512 Tagen\n",
      "    Scikit-learn: vor 506 Tagen\n",
      "    Power BI: vor 36 Tagen\n",
      "    Scikit-learn: vor 380 Tagen\n",
      "    Ansible: vor 367 Tagen\n",
      "Mitarbeiter:\n",
      "  Name: Nico Wolf\n",
      "  Skills:\n",
      "    Terraform: vor 729 Tagen\n",
      "    Bitbucket: vor 510 Tagen\n",
      "    Python: vor 560 Tagen\n",
      "Mitarbeiter:\n",
      "  Name: Julia Schröder\n",
      "  Skills:\n",
      "    Redis: vor 601 Tagen\n",
      "    Power BI: vor 221 Tagen\n",
      "    Python: vor 355 Tagen\n",
      "    Terraform: vor 669 Tagen\n",
      "    Docker: vor 623 Tagen\n",
      "Mitarbeiter:\n",
      "  Name: Leon Braun\n",
      "  Skills:\n",
      "    Azure: vor 702 Tagen\n",
      "    Express.js: vor 422 Tagen\n",
      "    Django: vor 165 Tagen\n",
      "Mitarbeiter:\n",
      "  Name: Sarah Hartmann\n",
      "  Skills:\n",
      "    Kotlin: vor 600 Tagen\n",
      "    Azure: vor 362 Tagen\n",
      "Mitarbeiter:\n",
      "  Name: Max Neumann\n",
      "  Skills:\n",
      "    Unreal Engine: vor 105 Tagen\n",
      "    Bitbucket: vor 270 Tagen\n",
      "    Keras: vor 198 Tagen\n",
      "    TypeScript: vor 255 Tagen\n",
      "    Swift: vor 71 Tagen\n",
      "Mitarbeiter:\n",
      "  Name: Lisa Zimmermann\n",
      "  Skills:\n",
      "    Rust: vor 60 Tagen\n",
      "    TypeScript: vor 519 Tagen\n",
      "Mitarbeiter:\n",
      "  Name: Tom Krause\n",
      "  Skills:\n",
      "    Scikit-learn: vor 0 Tagen\n",
      "Mitarbeiter:\n",
      "  Name: Emma Schmitt\n",
      "  Skills:\n",
      "    Terraform: vor 561 Tagen\n",
      "Mitarbeiter:\n",
      "  Name: Anton Lehmann\n",
      "  Skills:\n",
      "    Bitbucket: vor 652 Tagen\n",
      "    Azure: vor 385 Tagen\n",
      "Mitarbeiter:\n",
      "  Name: Mia Seidel\n",
      "  Skills:\n",
      "    Ruby: vor 701 Tagen\n",
      "Mitarbeiter:\n",
      "  Name: Ben Frank\n",
      "  Skills:\n",
      "    Scikit-learn: vor 13 Tagen\n",
      "    Keras: vor 481 Tagen\n",
      "    Kotlin: vor 706 Tagen\n",
      "    Confluence: vor 434 Tagen\n",
      "    Redis: vor 366 Tagen\n",
      "Mitarbeiter:\n",
      "  Name: Hannah Bauer\n",
      "  Skills:\n",
      "    SQL: vor 398 Tagen\n",
      "    Jenkins: vor 356 Tagen\n",
      "    Salesforce: vor 315 Tagen\n",
      "    GitHub: vor 197 Tagen\n",
      "Mitarbeiter:\n",
      "  Name: Luis Zimmer\n",
      "  Skills:\n",
      "    NumPy: vor 470 Tagen\n",
      "    Ansible: vor 626 Tagen\n",
      "    PHP: vor 426 Tagen\n",
      "    Jenkins: vor 32 Tagen\n",
      "Mitarbeiter:\n",
      "  Name: Greta Ludwig\n",
      "  Skills:\n",
      "    Ruby: vor 116 Tagen\n",
      "    Node.js: vor 614 Tagen\n",
      "    Scikit-learn: vor 106 Tagen\n",
      "    Node.js: vor 2 Tagen\n",
      "    Ansible: vor 551 Tagen\n",
      "Mitarbeiter:\n",
      "  Name: Noah Meier\n",
      "  Skills:\n",
      "    Vue.js: vor 150 Tagen\n",
      "Mitarbeiter:\n",
      "  Name: Laura Schwarz\n",
      "  Skills:\n",
      "    NumPy: vor 337 Tagen\n",
      "Mitarbeiter:\n",
      "  Name: Finn Böhm\n",
      "  Skills:\n",
      "    MLFlow: vor 293 Tagen\n",
      "    Go: vor 210 Tagen\n",
      "Mitarbeiter:\n",
      "  Name: Mila Vogel\n",
      "  Skills:\n",
      "    Scikit-learn: vor 235 Tagen\n",
      "    TensorFlow: vor 678 Tagen\n",
      "    Power BI: vor 621 Tagen\n",
      "Mitarbeiter:\n",
      "  Name: Jan Peters\n",
      "  Skills:\n",
      "    AWS: vor 173 Tagen\n",
      "    Kotlin: vor 585 Tagen\n",
      "    TensorFlow: vor 229 Tagen\n",
      "Mitarbeiter:\n",
      "  Name: Clara Scholz\n",
      "  Skills:\n",
      "    Git: vor 66 Tagen\n",
      "    MongoDB: vor 608 Tagen\n",
      "    Node.js: vor 636 Tagen\n",
      "    Confluence: vor 134 Tagen\n",
      "    Tableau: vor 478 Tagen\n",
      "Mitarbeiter:\n",
      "  Name: Oli Hansen\n",
      "  Skills:\n",
      "    Pandas: vor 198 Tagen\n",
      "    PHP: vor 461 Tagen\n",
      "Mitarbeiter:\n",
      "  Name: Nina Lange\n",
      "  Skills:\n",
      "    Swift: vor 104 Tagen\n",
      "Mitarbeiter:\n",
      "  Name: Timo Schuster\n",
      "  Skills:\n",
      "    Power BI: vor 335 Tagen\n",
      "    Terraform: vor 84 Tagen\n",
      "    AWS: vor 289 Tagen\n",
      "    Terraform: vor 505 Tagen\n",
      "Mitarbeiter:\n",
      "  Name: Lilly Busch\n",
      "  Skills:\n",
      "    Jenkins: vor 205 Tagen\n",
      "    Tableau: vor 719 Tagen\n",
      "    Node.js: vor 621 Tagen\n",
      "    AWS: vor 546 Tagen\n",
      "    Swift: vor 345 Tagen\n",
      "Mitarbeiter:\n",
      "  Name: Pia Ziegler\n",
      "  Skills:\n",
      "    Power BI: vor 205 Tagen\n",
      "    Docker: vor 7 Tagen\n",
      "    GitHub: vor 517 Tagen\n",
      "Mitarbeiter:\n",
      "  Name: Janina Engel\n",
      "  Skills:\n",
      "    TypeScript: vor 653 Tagen\n",
      "    Salesforce: vor 350 Tagen\n",
      "    JIRA: vor 36 Tagen\n",
      "Mitarbeiter:\n",
      "  Name: Erik Wirth\n",
      "  Skills:\n",
      "    React: vor 410 Tagen\n",
      "Mitarbeiter:\n",
      "  Name: Ava König\n",
      "  Skills:\n",
      "    Ansible: vor 493 Tagen\n",
      "    Keras: vor 684 Tagen\n",
      "    MySQL: vor 297 Tagen\n",
      "Mitarbeiter:\n",
      "  Name: Linus Bach\n",
      "  Skills:\n",
      "    Git: vor 716 Tagen\n",
      "    Unreal Engine: vor 496 Tagen\n",
      "    PHP: vor 683 Tagen\n",
      "Mitarbeiter:\n",
      "  Name: Paulina Albrecht\n",
      "  Skills:\n",
      "    PHP: vor 667 Tagen\n",
      "    Tableau: vor 478 Tagen\n",
      "Mitarbeiter:\n",
      "  Name: Leonhard Maier\n",
      "  Skills:\n",
      "    Swift: vor 98 Tagen\n",
      "Mitarbeiter:\n",
      "  Name: Jana Dietrich\n",
      "  Skills:\n",
      "    Salesforce: vor 191 Tagen\n",
      "    Angular: vor 174 Tagen\n",
      "Mitarbeiter:\n",
      "  Name: Dominik Winter\n",
      "  Skills:\n",
      "    SQL: vor 131 Tagen\n",
      "Mitarbeiter:\n",
      "  Name: Tina Kuhn\n",
      "  Skills:\n",
      "    TensorFlow: vor 449 Tagen\n",
      "    Kotlin: vor 489 Tagen\n",
      "    Docker: vor 96 Tagen\n",
      "Mitarbeiter:\n",
      "  Name: Moritz Walter\n",
      "  Skills:\n",
      "    MLFlow: vor 429 Tagen\n",
      "    Keras: vor 405 Tagen\n",
      "    PostgreSQL: vor 140 Tagen\n",
      "    Kotlin: vor 109 Tagen\n",
      "    Django: vor 85 Tagen\n",
      "Mitarbeiter:\n",
      "  Name: Jule Simon\n",
      "  Skills:\n",
      "    Git: vor 179 Tagen\n",
      "    Node.js: vor 684 Tagen\n",
      "    SQL: vor 653 Tagen\n",
      "Mitarbeiter:\n",
      "  Name: Kay Fuchs\n",
      "  Skills:\n",
      "    Confluence: vor 435 Tagen\n",
      "    Express.js: vor 226 Tagen\n",
      "Mitarbeiter:\n",
      "  Name: Yasmin Otto\n",
      "  Skills:\n",
      "    Go: vor 210 Tagen\n",
      "    Python: vor 336 Tagen\n",
      "Mitarbeiter:\n",
      "  Name: Robin Kramer\n",
      "  Skills:\n",
      "    Power BI: vor 462 Tagen\n",
      "Mitarbeiter:\n",
      "  Name: Fiona Jäger\n",
      "  Skills:\n",
      "    Unity: vor 92 Tagen\n",
      "    Pandas: vor 511 Tagen\n",
      "    MLFlow: vor 257 Tagen\n",
      "Mitarbeiter:\n",
      "  Name: Nils Schramm\n",
      "  Skills:\n",
      "    JavaScript: vor 265 Tagen\n",
      "    Node.js: vor 366 Tagen\n",
      "    MLFlow: vor 629 Tagen\n",
      "    AWS: vor 37 Tagen\n",
      "Mitarbeiter:\n",
      "  Name: Helena Horn\n",
      "  Skills:\n",
      "    Ruby: vor 538 Tagen\n",
      "    Power BI: vor 451 Tagen\n",
      "    Ruby: vor 174 Tagen\n",
      "    Azure: vor 134 Tagen\n",
      "    NumPy: vor 196 Tagen\n",
      "Mitarbeiter:\n",
      "  Name: Jannik Engelmann\n",
      "  Skills:\n",
      "    Rust: vor 310 Tagen\n",
      "    MLFlow: vor 143 Tagen\n",
      "Mitarbeiter:\n",
      "  Name: Rike Geiger\n",
      "  Skills:\n",
      "    Java: vor 113 Tagen\n",
      "    Keras: vor 689 Tagen\n",
      "Mitarbeiter:\n",
      "  Name: Simon Busch\n",
      "  Skills:\n",
      "    Java: vor 607 Tagen\n",
      "    Google Cloud: vor 626 Tagen\n",
      "    PostgreSQL: vor 179 Tagen\n",
      "Mitarbeiter:\n",
      "  Name: Maurice Sturm\n",
      "  Skills:\n",
      "    Express.js: vor 470 Tagen\n",
      "    Confluence: vor 295 Tagen\n",
      "Mitarbeiter:\n",
      "  Name: Annika Graf\n",
      "  Skills:\n",
      "    Azure: vor 725 Tagen\n",
      "    GitHub: vor 374 Tagen\n",
      "    NumPy: vor 116 Tagen\n",
      "Mitarbeiter:\n",
      "  Name: Julian Paul\n",
      "  Skills:\n",
      "    Kubernetes: vor 611 Tagen\n",
      "    Bitbucket: vor 34 Tagen\n",
      "    Git: vor 338 Tagen\n",
      "    Docker: vor 322 Tagen\n",
      "    Ruby: vor 410 Tagen\n",
      "Mitarbeiter:\n",
      "  Name: Stefan Mayer\n",
      "  Skills:\n",
      "    Angular: vor 427 Tagen\n",
      "    Python: vor 652 Tagen\n",
      "Mitarbeiter:\n",
      "  Name: Alicia Brandt\n",
      "  Skills:\n",
      "    Swift: vor 219 Tagen\n",
      "Mitarbeiter:\n",
      "  Name: Chris Bergmann\n",
      "  Skills:\n",
      "    Redis: vor 476 Tagen\n",
      "    Python: vor 140 Tagen\n",
      "    JIRA: vor 295 Tagen\n",
      "    React: vor 668 Tagen\n",
      "Mitarbeiter:\n",
      "  Name: Caro Günther\n",
      "  Skills:\n",
      "    Git: vor 166 Tagen\n",
      "    MongoDB: vor 517 Tagen\n",
      "    Bitbucket: vor 645 Tagen\n",
      "    Power BI: vor 84 Tagen\n",
      "Mitarbeiter:\n",
      "  Name: Philipp Haas\n",
      "  Skills:\n",
      "    Power BI: vor 483 Tagen\n",
      "    Vue.js: vor 244 Tagen\n",
      "Mitarbeiter:\n",
      "  Name: Melanie Klein\n",
      "  Skills:\n",
      "    Docker: vor 693 Tagen\n",
      "Mitarbeiter:\n",
      "  Name: Henrik Vogt\n",
      "  Skills:\n",
      "    Ruby: vor 242 Tagen\n",
      "Mitarbeiter:\n",
      "  Name: Selina Bauer\n",
      "  Skills:\n",
      "    Flask: vor 661 Tagen\n",
      "    Azure: vor 237 Tagen\n",
      "    Tableau: vor 527 Tagen\n",
      "    Go: vor 310 Tagen\n",
      "Mitarbeiter:\n",
      "  Name: Vincent Weiß\n",
      "  Skills:\n",
      "    C#: vor 190 Tagen\n",
      "    Docker: vor 143 Tagen\n",
      "    Unity: vor 75 Tagen\n",
      "    Tableau: vor 663 Tagen\n",
      "    Java: vor 553 Tagen\n",
      "Mitarbeiter:\n",
      "  Name: Linda Voigt\n",
      "  Skills:\n",
      "    MySQL: vor 230 Tagen\n",
      "    Confluence: vor 641 Tagen\n",
      "    TensorFlow: vor 539 Tagen\n",
      "    Jenkins: vor 84 Tagen\n",
      "    Angular: vor 185 Tagen\n",
      "Mitarbeiter:\n",
      "  Name: Alexander Haase\n",
      "  Skills:\n",
      "    Salesforce: vor 410 Tagen\n",
      "    AWS: vor 48 Tagen\n",
      "    Unreal Engine: vor 346 Tagen\n",
      "Mitarbeiter:\n",
      "  Name: Sara Metzger\n",
      "  Skills:\n",
      "    TypeScript: vor 19 Tagen\n",
      "    Keras: vor 486 Tagen\n",
      "Mitarbeiter:\n",
      "  Name: Ricardo Pfeiffer\n",
      "  Skills:\n",
      "    Git: vor 551 Tagen\n",
      "    JIRA: vor 634 Tagen\n",
      "    Ruby: vor 271 Tagen\n",
      "    Python: vor 573 Tagen\n",
      "Mitarbeiter:\n",
      "  Name: Diana Schubert\n",
      "  Skills:\n",
      "    PHP: vor 236 Tagen\n",
      "    Vue.js: vor 681 Tagen\n",
      "    TypeScript: vor 196 Tagen\n",
      "    SQL: vor 671 Tagen\n",
      "    Unity: vor 185 Tagen\n",
      "Mitarbeiter:\n",
      "  Name: Cedric Kühn\n",
      "  Skills:\n",
      "    MLFlow: vor 492 Tagen\n",
      "    JavaScript: vor 147 Tagen\n",
      "    Ansible: vor 631 Tagen\n",
      "Mitarbeiter:\n",
      "  Name: Annelie Krüger\n",
      "  Skills:\n",
      "    Ruby: vor 443 Tagen\n",
      "    Keras: vor 675 Tagen\n",
      "    Docker: vor 186 Tagen\n",
      "    Unity: vor 205 Tagen\n",
      "Mitarbeiter:\n",
      "  Name: Manuel Schuster\n",
      "  Skills:\n",
      "    Vue.js: vor 409 Tagen\n",
      "Mitarbeiter:\n",
      "  Name: Tatjana Lenz\n",
      "  Skills:\n",
      "    Pandas: vor 630 Tagen\n",
      "    Tableau: vor 358 Tagen\n",
      "Mitarbeiter:\n",
      "  Name: Steffen Horn\n",
      "  Skills:\n",
      "    Vue.js: vor 451 Tagen\n",
      "    Kotlin: vor 288 Tagen\n",
      "    C#: vor 24 Tagen\n",
      "    Flask: vor 403 Tagen\n",
      "    Rust: vor 699 Tagen\n",
      "Mitarbeiter:\n",
      "  Name: Verena Jakob\n",
      "  Skills:\n",
      "    Swift: vor 513 Tagen\n",
      "Mitarbeiter:\n",
      "  Name: Marcel Albrecht\n",
      "  Skills:\n",
      "    Google Cloud: vor 46 Tagen\n",
      "    JavaScript: vor 513 Tagen\n",
      "    Rust: vor 710 Tagen\n",
      "Mitarbeiter:\n",
      "  Name: Leonie Sauer\n",
      "  Skills:\n",
      "    Unity: vor 151 Tagen\n",
      "    Docker: vor 517 Tagen\n",
      "Mitarbeiter:\n",
      "  Name: Raphael König\n",
      "  Skills:\n",
      "    Vue.js: vor 433 Tagen\n",
      "    Jenkins: vor 4 Tagen\n",
      "    Confluence: vor 611 Tagen\n",
      "    Salesforce: vor 285 Tagen\n",
      "    AWS: vor 316 Tagen\n",
      "Mitarbeiter:\n",
      "  Name: Tanja Jahn\n",
      "  Skills:\n",
      "    Django: vor 194 Tagen\n",
      "    Salesforce: vor 59 Tagen\n",
      "    Java: vor 231 Tagen\n",
      "Mitarbeiter:\n",
      "  Name: Kai Köhler\n",
      "  Skills:\n",
      "    Unreal Engine: vor 19 Tagen\n",
      "Mitarbeiter:\n",
      "  Name: Silke Sommer\n",
      "  Skills:\n",
      "    JavaScript: vor 517 Tagen\n",
      "    Flask: vor 684 Tagen\n",
      "Mitarbeiter:\n",
      "  Name: Marco Arnold\n",
      "  Skills:\n",
      "    NumPy: vor 335 Tagen\n",
      "    AWS: vor 149 Tagen\n",
      "    MongoDB: vor 577 Tagen\n",
      "    Google Cloud: vor 93 Tagen\n",
      "    MLFlow: vor 627 Tagen\n",
      "Mitarbeiter:\n",
      "  Name: Claudia Engel\n",
      "  Skills:\n",
      "    MongoDB: vor 154 Tagen\n",
      "    GitHub: vor 185 Tagen\n",
      "    SQL: vor 156 Tagen\n",
      "Mitarbeiter:\n",
      "  Name: Jan Hartwig\n",
      "  Skills:\n",
      "    Salesforce: vor 292 Tagen\n",
      "    Salesforce: vor 109 Tagen\n",
      "    Vue.js: vor 332 Tagen\n",
      "    Kotlin: vor 564 Tagen\n",
      "Mitarbeiter:\n",
      "  Name: Miriam Sturm\n",
      "  Skills:\n",
      "    MLFlow: vor 9 Tagen\n",
      "    Vue.js: vor 42 Tagen\n",
      "Mitarbeiter:\n",
      "  Name: Elias Heinrich\n",
      "  Skills:\n",
      "    Keras: vor 29 Tagen\n",
      "    PyTorch: vor 252 Tagen\n",
      "    Bitbucket: vor 420 Tagen\n",
      "    MySQL: vor 175 Tagen\n",
      "    MLFlow: vor 454 Tagen\n",
      "Mitarbeiter:\n",
      "  Name: Isabel Lang\n",
      "  Skills:\n",
      "    Git: vor 476 Tagen\n",
      "    Jenkins: vor 25 Tagen\n",
      "    Flask: vor 77 Tagen\n",
      "Mitarbeiter:\n",
      "  Name: Fabian Berg\n",
      "  Skills:\n",
      "    Kotlin: vor 678 Tagen\n",
      "    Jenkins: vor 278 Tagen\n",
      "    PyTorch: vor 108 Tagen\n",
      "    Node.js: vor 91 Tagen\n",
      "    Jenkins: vor 176 Tagen\n",
      "Mitarbeiter:\n",
      "  Name: Eva Keller\n",
      "  Skills:\n",
      "    Google Cloud: vor 649 Tagen\n",
      "Mitarbeiter:\n",
      "  Name: Jonathan Höfer\n",
      "  Skills:\n",
      "    Google Cloud: vor 337 Tagen\n",
      "    Azure: vor 583 Tagen\n",
      "    C#: vor 722 Tagen\n",
      "    Ruby: vor 59 Tagen\n",
      "    NumPy: vor 438 Tagen\n",
      "Mitarbeiter:\n",
      "  Name: Anja Vogler\n",
      "  Skills:\n",
      "    Git: vor 8 Tagen\n",
      "    Bitbucket: vor 445 Tagen\n",
      "Mitarbeiter:\n",
      "  Name: Michael Bachmann\n",
      "  Skills:\n",
      "    Flask: vor 631 Tagen\n",
      "    Flask: vor 627 Tagen\n",
      "    Ansible: vor 612 Tagen\n",
      "Mitarbeiter:\n",
      "  Name: Carla Pietsch\n",
      "  Skills:\n",
      "    React: vor 660 Tagen\n",
      "    PHP: vor 137 Tagen\n",
      "    Django: vor 304 Tagen\n",
      "    Java: vor 565 Tagen\n",
      "Mitarbeiter:\n",
      "  Name: Maximilian Urban\n",
      "  Skills:\n",
      "    Kubernetes: vor 460 Tagen\n",
      "    PostgreSQL: vor 144 Tagen\n",
      "    Google Cloud: vor 195 Tagen\n",
      "Mitarbeiter:\n",
      "  Name: Franziska Wolff\n",
      "  Skills:\n",
      "    NumPy: vor 191 Tagen\n",
      "    MLFlow: vor 684 Tagen\n",
      "    Angular: vor 569 Tagen\n",
      "    Git: vor 538 Tagen\n",
      "    Kubernetes: vor 372 Tagen\n",
      "Mitarbeiter:\n",
      "  Name: Rafael Blum\n",
      "  Skills:\n",
      "    Jenkins: vor 77 Tagen\n",
      "    Vue.js: vor 42 Tagen\n",
      "    PHP: vor 312 Tagen\n",
      "    Keras: vor 335 Tagen\n",
      "Mitarbeiter:\n",
      "  Name: Lotte Kaiser\n",
      "  Skills:\n",
      "    NumPy: vor 28 Tagen\n",
      "    Go: vor 189 Tagen\n",
      "    Django: vor 506 Tagen\n",
      "    Angular: vor 461 Tagen\n",
      "    NumPy: vor 17 Tagen\n",
      "Mitarbeiter:\n",
      "  Name: Rene Busch\n",
      "  Skills:\n",
      "    PyTorch: vor 569 Tagen\n",
      "    Ruby: vor 416 Tagen\n",
      "    React: vor 305 Tagen\n",
      "    GitHub: vor 601 Tagen\n",
      "    Ruby: vor 718 Tagen\n",
      "Mitarbeiter:\n",
      "  Name: Ute Paulsen\n",
      "  Skills:\n",
      "    Confluence: vor 417 Tagen\n",
      "    Keras: vor 30 Tagen\n",
      "    Scikit-learn: vor 599 Tagen\n",
      "Mitarbeiter:\n",
      "  Name: Anton Fiedler\n",
      "  Skills:\n",
      "    Keras: vor 94 Tagen\n",
      "    Tableau: vor 388 Tagen\n",
      "    Python: vor 584 Tagen\n",
      "Mitarbeiter:\n",
      "  Name: Paula Seifert\n",
      "  Skills:\n",
      "    MLFlow: vor 102 Tagen\n",
      "Mitarbeiter:\n",
      "  Name: Tommy Hinz\n",
      "  Skills:\n",
      "    MLFlow: vor 445 Tagen\n",
      "    PHP: vor 451 Tagen\n",
      "    Bitbucket: vor 164 Tagen\n",
      "    TensorFlow: vor 275 Tagen\n",
      "Mitarbeiter:\n",
      "  Name: Claudia Witt\n",
      "  Skills:\n",
      "    TypeScript: vor 67 Tagen\n",
      "Mitarbeiter:\n",
      "  Name: Peter Otto\n",
      "  Skills:\n",
      "    Angular: vor 656 Tagen\n",
      "Mitarbeiter:\n",
      "  Name: Nadine Ludwig\n",
      "  Skills:\n",
      "    AWS: vor 426 Tagen\n",
      "    Angular: vor 695 Tagen\n",
      "    Git: vor 404 Tagen\n",
      "    Django: vor 553 Tagen\n",
      "Mitarbeiter:\n",
      "  Name: Jörg Weber\n",
      "  Skills:\n",
      "    Power BI: vor 69 Tagen\n",
      "    Django: vor 494 Tagen\n",
      "    Google Cloud: vor 33 Tagen\n",
      "    MongoDB: vor 718 Tagen\n",
      "    Swift: vor 213 Tagen\n",
      "Mitarbeiter:\n",
      "  Name: Heike Wiese\n",
      "  Skills:\n",
      "    SQL: vor 528 Tagen\n",
      "    Java: vor 121 Tagen\n",
      "    Flask: vor 113 Tagen\n",
      "    Jenkins: vor 368 Tagen\n",
      "    Vue.js: vor 19 Tagen\n",
      "Mitarbeiter:\n",
      "  Name: Bastian Roth\n",
      "  Skills:\n",
      "    Unity: vor 155 Tagen\n",
      "    PHP: vor 722 Tagen\n",
      "Mitarbeiter:\n",
      "  Name: Svenja Franz\n",
      "  Skills:\n",
      "    Django: vor 366 Tagen\n",
      "Mitarbeiter:\n",
      "  Name: Torsten Vetter\n",
      "  Skills:\n",
      "    MLFlow: vor 725 Tagen\n",
      "    Unity: vor 43 Tagen\n",
      "    Unreal Engine: vor 110 Tagen\n",
      "    Google Cloud: vor 620 Tagen\n",
      "    MLFlow: vor 688 Tagen\n",
      "Mitarbeiter:\n",
      "  Name: Christina Martin\n",
      "  Skills:\n",
      "    Jenkins: vor 612 Tagen\n",
      "    Python: vor 666 Tagen\n",
      "    MySQL: vor 520 Tagen\n",
      "    Vue.js: vor 96 Tagen\n",
      "    Power BI: vor 384 Tagen\n",
      "Mitarbeiter:\n",
      "  Name: David Meissner\n",
      "  Skills:\n",
      "    Ruby: vor 706 Tagen\n",
      "    Pandas: vor 293 Tagen\n",
      "    MongoDB: vor 139 Tagen\n",
      "    JavaScript: vor 356 Tagen\n",
      "Mitarbeiter:\n",
      "  Name: Elke Nowak\n",
      "  Skills:\n",
      "    C#: vor 625 Tagen\n",
      "    Scikit-learn: vor 410 Tagen\n",
      "    Python: vor 452 Tagen\n",
      "    MySQL: vor 510 Tagen\n",
      "Mitarbeiter:\n",
      "  Name: Nick Rieger\n",
      "  Skills:\n",
      "    Scikit-learn: vor 368 Tagen\n",
      "    Go: vor 494 Tagen\n",
      "    Power BI: vor 347 Tagen\n",
      "    Azure: vor 55 Tagen\n",
      "Mitarbeiter:\n",
      "  Name: Beate Behrens\n",
      "  Skills:\n",
      "    Docker: vor 181 Tagen\n",
      "    Redis: vor 59 Tagen\n",
      "    Python: vor 708 Tagen\n",
      "    MySQL: vor 172 Tagen\n",
      "    GitHub: vor 264 Tagen\n",
      "Mitarbeiter:\n",
      "  Name: Jens Schrader\n",
      "  Skills:\n",
      "    JIRA: vor 581 Tagen\n",
      "    Scikit-learn: vor 534 Tagen\n",
      "    Git: vor 255 Tagen\n",
      "    Scikit-learn: vor 660 Tagen\n",
      "    Bitbucket: vor 215 Tagen\n",
      "Mitarbeiter:\n",
      "  Name: Simone Möller\n",
      "  Skills:\n",
      "    Scikit-learn: vor 3 Tagen\n",
      "    Confluence: vor 637 Tagen\n",
      "Mitarbeiter:\n",
      "  Name: Kevin Ostermann\n",
      "  Skills:\n",
      "    Terraform: vor 253 Tagen\n",
      "Mitarbeiter:\n",
      "  Name: Vera Rauch\n",
      "  Skills:\n",
      "    TypeScript: vor 552 Tagen\n",
      "    TypeScript: vor 366 Tagen\n",
      "    AWS: vor 489 Tagen\n",
      "    Power BI: vor 521 Tagen\n",
      "Mitarbeiter:\n",
      "  Name: Matthias Neumann\n",
      "  Skills:\n",
      "    React: vor 177 Tagen\n",
      "    Rust: vor 89 Tagen\n",
      "    Java: vor 33 Tagen\n",
      "    Java: vor 536 Tagen\n",
      "Mitarbeiter:\n",
      "  Name: Kerstin Wolters\n",
      "  Skills:\n",
      "    Pandas: vor 371 Tagen\n",
      "    Java: vor 311 Tagen\n",
      "Mitarbeiter:\n",
      "  Name: Eddy Krug\n",
      "  Skills:\n",
      "    Express.js: vor 102 Tagen\n",
      "    Swift: vor 654 Tagen\n",
      "    NumPy: vor 415 Tagen\n",
      "    PostgreSQL: vor 674 Tagen\n",
      "Mitarbeiter:\n",
      "  Name: Lara Reinhardt\n",
      "  Skills:\n",
      "    MongoDB: vor 711 Tagen\n",
      "    MLFlow: vor 134 Tagen\n",
      "    Salesforce: vor 711 Tagen\n",
      "    Power BI: vor 153 Tagen\n",
      "Mitarbeiter:\n",
      "  Name: Martin Hofmann\n",
      "  Skills:\n",
      "    Go: vor 492 Tagen\n",
      "    Power BI: vor 0 Tagen\n",
      "    Swift: vor 486 Tagen\n",
      "    Go: vor 417 Tagen\n",
      "    Azure: vor 633 Tagen\n",
      "Mitarbeiter:\n",
      "  Name: Maja Große\n",
      "  Skills:\n",
      "    Go: vor 728 Tagen\n",
      "    Ansible: vor 604 Tagen\n",
      "    Python: vor 260 Tagen\n",
      "    SQL: vor 321 Tagen\n",
      "    C#: vor 551 Tagen\n",
      "Mitarbeiter:\n",
      "  Name: Oliver Neumann\n",
      "  Skills:\n",
      "    C#: vor 722 Tagen\n",
      "Mitarbeiter:\n",
      "  Name: Nina Gärtner\n",
      "  Skills:\n",
      "    Redis: vor 680 Tagen\n",
      "    TensorFlow: vor 4 Tagen\n",
      "    NumPy: vor 23 Tagen\n",
      "    Ruby: vor 2 Tagen\n",
      "Mitarbeiter:\n",
      "  Name: Tarek Scholz\n",
      "  Skills:\n",
      "    JIRA: vor 397 Tagen\n",
      "    Pandas: vor 253 Tagen\n",
      "    Redis: vor 514 Tagen\n",
      "Mitarbeiter:\n",
      "  Name: Meike Sand\n",
      "  Skills:\n",
      "    Python: vor 599 Tagen\n",
      "    Redis: vor 86 Tagen\n",
      "    PostgreSQL: vor 516 Tagen\n",
      "    Node.js: vor 233 Tagen\n",
      "    Azure: vor 492 Tagen\n",
      "Mitarbeiter:\n",
      "  Name: Hannes Fricke\n",
      "  Skills:\n",
      "    Java: vor 287 Tagen\n",
      "    JIRA: vor 346 Tagen\n",
      "    Scikit-learn: vor 337 Tagen\n",
      "Mitarbeiter:\n",
      "  Name: Gabriela Schulz\n",
      "  Skills:\n",
      "    Ruby: vor 713 Tagen\n",
      "    Unreal Engine: vor 655 Tagen\n",
      "Mitarbeiter:\n",
      "  Name: Lars Hagen\n",
      "  Skills:\n",
      "    Power BI: vor 704 Tagen\n",
      "    Ruby: vor 626 Tagen\n",
      "    Azure: vor 247 Tagen\n",
      "    Ansible: vor 555 Tagen\n",
      "Mitarbeiter:\n",
      "  Name: Mona Kirsch\n",
      "  Skills:\n",
      "    JIRA: vor 121 Tagen\n",
      "    Ansible: vor 535 Tagen\n",
      "Mitarbeiter:\n",
      "  Name: Torben Saalfeld\n",
      "  Skills:\n",
      "    Scikit-learn: vor 666 Tagen\n",
      "    Unity: vor 538 Tagen\n",
      "    Azure: vor 624 Tagen\n",
      "    Vue.js: vor 479 Tagen\n",
      "Mitarbeiter:\n",
      "  Name: Bianca Wolter\n",
      "  Skills:\n",
      "    Ruby: vor 155 Tagen\n",
      "    Ansible: vor 298 Tagen\n",
      "Mitarbeiter:\n",
      "  Name: Finnja Günther\n",
      "  Skills:\n",
      "    MongoDB: vor 86 Tagen\n",
      "    SQL: vor 686 Tagen\n",
      "Mitarbeiter:\n",
      "  Name: Leo Burkhardt\n",
      "  Skills:\n",
      "    Azure: vor 41 Tagen\n",
      "    TypeScript: vor 702 Tagen\n",
      "    Redis: vor 378 Tagen\n",
      "    TensorFlow: vor 48 Tagen\n",
      "    TypeScript: vor 603 Tagen\n",
      "Mitarbeiter:\n",
      "  Name: Katharina Reiter\n",
      "  Skills:\n",
      "    Power BI: vor 352 Tagen\n",
      "    Scikit-learn: vor 96 Tagen\n",
      "    Docker: vor 144 Tagen\n",
      "Mitarbeiter:\n",
      "  Name: Patrick Thiel\n",
      "  Skills:\n",
      "    TypeScript: vor 373 Tagen\n",
      "Mitarbeiter:\n",
      "  Name: Niklas Bachmann\n",
      "  Skills:\n",
      "    Salesforce: vor 37 Tagen\n",
      "    Terraform: vor 390 Tagen\n",
      "    Rust: vor 695 Tagen\n",
      "    AWS: vor 564 Tagen\n",
      "Mitarbeiter:\n",
      "  Name: Victoria Weber\n",
      "  Skills:\n",
      "    TypeScript: vor 635 Tagen\n",
      "    Scikit-learn: vor 304 Tagen\n",
      "    Flask: vor 576 Tagen\n",
      "Mitarbeiter:\n",
      "  Name: Marvin Otto\n",
      "  Skills:\n",
      "    Salesforce: vor 427 Tagen\n",
      "    C#: vor 93 Tagen\n",
      "Mitarbeiter:\n",
      "  Name: Theresa Berger\n",
      "  Skills:\n",
      "    PyTorch: vor 587 Tagen\n",
      "    Terraform: vor 676 Tagen\n",
      "    Ansible: vor 499 Tagen\n",
      "    Kotlin: vor 623 Tagen\n",
      "    Angular: vor 228 Tagen\n",
      "Mitarbeiter:\n",
      "  Name: Florin Lorenz\n",
      "  Skills:\n",
      "    MLFlow: vor 288 Tagen\n",
      "    Pandas: vor 451 Tagen\n",
      "    Keras: vor 349 Tagen\n",
      "    Tableau: vor 118 Tagen\n",
      "    JavaScript: vor 634 Tagen\n",
      "Mitarbeiter:\n",
      "  Name: Marlene Semmler\n",
      "  Skills:\n",
      "    MongoDB: vor 602 Tagen\n",
      "    MySQL: vor 157 Tagen\n",
      "    MLFlow: vor 548 Tagen\n",
      "    Ruby: vor 624 Tagen\n",
      "Mitarbeiter:\n",
      "  Name: Gerrit Mayer\n",
      "  Skills:\n",
      "    Go: vor 200 Tagen\n",
      "    Pandas: vor 525 Tagen\n",
      "    Jenkins: vor 279 Tagen\n",
      "    GitHub: vor 61 Tagen\n",
      "Mitarbeiter:\n",
      "  Name: Sina Hart\n",
      "  Skills:\n",
      "    Go: vor 213 Tagen\n",
      "    Express.js: vor 650 Tagen\n",
      "Mitarbeiter:\n",
      "  Name: Gustav Schramm\n",
      "  Skills:\n",
      "    Bitbucket: vor 219 Tagen\n",
      "Mitarbeiter:\n",
      "  Name: Jessi Brückner\n",
      "  Skills:\n",
      "    Django: vor 530 Tagen\n",
      "Mitarbeiter:\n",
      "  Name: Liam Lang\n",
      "  Skills:\n",
      "    Node.js: vor 37 Tagen\n",
      "    MLFlow: vor 408 Tagen\n",
      "Mitarbeiter:\n",
      "  Name: Sandra Fuchs\n",
      "  Skills:\n",
      "    Docker: vor 259 Tagen\n",
      "    Git: vor 164 Tagen\n",
      "    Scikit-learn: vor 15 Tagen\n",
      "Mitarbeiter:\n",
      "  Name: Tom Barth\n",
      "  Skills:\n",
      "    Go: vor 11 Tagen\n",
      "Mitarbeiter:\n",
      "  Name: Ilona Schwarz\n",
      "  Skills:\n",
      "    Salesforce: vor 498 Tagen\n",
      "    Unity: vor 440 Tagen\n",
      "    AWS: vor 140 Tagen\n",
      "    Unity: vor 110 Tagen\n",
      "    Rust: vor 603 Tagen\n",
      "Mitarbeiter:\n",
      "  Name: Rico Engel\n",
      "  Skills:\n",
      "    TypeScript: vor 501 Tagen\n",
      "    Git: vor 156 Tagen\n",
      "    SQL: vor 358 Tagen\n",
      "    Google Cloud: vor 9 Tagen\n",
      "    SQL: vor 343 Tagen\n",
      "Mitarbeiter:\n",
      "  Name: Ines Fröhlich\n",
      "  Skills:\n",
      "    Unreal Engine: vor 287 Tagen\n",
      "Mitarbeiter:\n",
      "  Name: Kevin Heinemann\n",
      "  Skills:\n",
      "    React: vor 350 Tagen\n",
      "    PHP: vor 658 Tagen\n",
      "    JavaScript: vor 142 Tagen\n",
      "    Angular: vor 234 Tagen\n",
      "Mitarbeiter:\n",
      "  Name: Dorit Schlüter\n",
      "  Skills:\n",
      "    Google Cloud: vor 44 Tagen\n",
      "    PyTorch: vor 629 Tagen\n",
      "    Docker: vor 251 Tagen\n",
      "    Git: vor 570 Tagen\n",
      "    React: vor 2 Tagen\n",
      "Mitarbeiter:\n",
      "  Name: Paul Stoll\n",
      "  Skills:\n",
      "    React: vor 399 Tagen\n",
      "Mitarbeiter:\n",
      "  Name: Nadja Mathis\n",
      "  Skills:\n",
      "    Keras: vor 54 Tagen\n",
      "    PostgreSQL: vor 218 Tagen\n",
      "    AWS: vor 305 Tagen\n",
      "    MongoDB: vor 235 Tagen\n",
      "    Ansible: vor 13 Tagen\n",
      "Mitarbeiter:\n",
      "  Name: Hendrik Vogt\n",
      "  Skills:\n",
      "    Kotlin: vor 691 Tagen\n",
      "    Kubernetes: vor 625 Tagen\n",
      "    Terraform: vor 523 Tagen\n",
      "    Azure: vor 222 Tagen\n",
      "    TypeScript: vor 66 Tagen\n",
      "Mitarbeiter:\n",
      "  Name: Melina Voss\n",
      "  Skills:\n",
      "    Docker: vor 99 Tagen\n",
      "    Pandas: vor 111 Tagen\n",
      "    Tableau: vor 15 Tagen\n",
      "    MLFlow: vor 306 Tagen\n",
      "    JavaScript: vor 634 Tagen\n",
      "Mitarbeiter:\n",
      "  Name: Marcel Vogler\n",
      "  Skills:\n",
      "    Kotlin: vor 592 Tagen\n",
      "    Kotlin: vor 251 Tagen\n",
      "    AWS: vor 408 Tagen\n",
      "    Google Cloud: vor 727 Tagen\n",
      "Mitarbeiter:\n",
      "  Name: Jessi Nowak\n",
      "  Skills:\n",
      "    SQL: vor 244 Tagen\n",
      "    Django: vor 274 Tagen\n",
      "    GitHub: vor 146 Tagen\n",
      "    TensorFlow: vor 142 Tagen\n",
      "    Flask: vor 352 Tagen\n",
      "Mitarbeiter:\n",
      "  Name: Martin Orth\n",
      "  Skills:\n",
      "    MLFlow: vor 225 Tagen\n",
      "    PHP: vor 286 Tagen\n",
      "    Salesforce: vor 594 Tagen\n",
      "    Swift: vor 166 Tagen\n",
      "    MySQL: vor 335 Tagen\n",
      "Mitarbeiter:\n",
      "  Name: Bianca Grebe\n",
      "  Skills:\n",
      "    Pandas: vor 235 Tagen\n",
      "    TypeScript: vor 231 Tagen\n",
      "    SQL: vor 314 Tagen\n",
      "    Tableau: vor 89 Tagen\n",
      "    NumPy: vor 484 Tagen\n",
      "Mitarbeiter:\n",
      "  Name: Elli Haas\n",
      "  Skills:\n",
      "    Tableau: vor 343 Tagen\n",
      "    Kotlin: vor 191 Tagen\n",
      "    C#: vor 513 Tagen\n",
      "    PostgreSQL: vor 275 Tagen\n",
      "    JIRA: vor 437 Tagen\n",
      "Mitarbeiter:\n",
      "  Name: Kilian Winter\n",
      "  Skills:\n",
      "    MySQL: vor 72 Tagen\n",
      "    Unreal Engine: vor 111 Tagen\n",
      "Mitarbeiter:\n",
      "  Name: Renate Bergmann\n",
      "  Skills:\n",
      "    Git: vor 570 Tagen\n",
      "Mitarbeiter:\n",
      "  Name: Philipp Ostermann\n",
      "  Skills:\n",
      "    NumPy: vor 405 Tagen\n",
      "    JIRA: vor 179 Tagen\n",
      "    MLFlow: vor 609 Tagen\n",
      "    Azure: vor 387 Tagen\n",
      "Mitarbeiter:\n",
      "  Name: Viola Raabe\n",
      "  Skills:\n",
      "    Angular: vor 369 Tagen\n",
      "    JavaScript: vor 440 Tagen\n",
      "    Redis: vor 666 Tagen\n",
      "    Python: vor 173 Tagen\n",
      "    Angular: vor 186 Tagen\n",
      "Mitarbeiter:\n",
      "  Name: Kai Fröhlich\n",
      "  Skills:\n",
      "    Express.js: vor 606 Tagen\n",
      "    Jenkins: vor 603 Tagen\n",
      "    MongoDB: vor 59 Tagen\n",
      "    Node.js: vor 249 Tagen\n",
      "Mitarbeiter:\n",
      "  Name: Jette Mathis\n",
      "  Skills:\n",
      "    Node.js: vor 67 Tagen\n",
      "    Node.js: vor 513 Tagen\n",
      "    Scikit-learn: vor 524 Tagen\n",
      "    Pandas: vor 126 Tagen\n",
      "Mitarbeiter:\n",
      "  Name: Luca Kügler\n",
      "  Skills:\n",
      "    Salesforce: vor 438 Tagen\n",
      "    SQL: vor 347 Tagen\n",
      "Mitarbeiter:\n",
      "  Name: Angelina Klee\n",
      "  Skills:\n",
      "    Power BI: vor 441 Tagen\n",
      "    Keras: vor 298 Tagen\n",
      "    Unity: vor 9 Tagen\n",
      "    MLFlow: vor 642 Tagen\n",
      "Mitarbeiter:\n",
      "  Name: Andreas Peters\n",
      "  Skills:\n",
      "    MLFlow: vor 32 Tagen\n",
      "    Confluence: vor 208 Tagen\n",
      "    React: vor 284 Tagen\n",
      "Mitarbeiter:\n",
      "  Name: Aileen Reuter\n",
      "  Skills:\n",
      "    Docker: vor 473 Tagen\n",
      "    Express.js: vor 311 Tagen\n",
      "    Docker: vor 150 Tagen\n",
      "Mitarbeiter:\n",
      "  Name: Harald Voigt\n",
      "  Skills:\n",
      "    Azure: vor 113 Tagen\n",
      "    Kubernetes: vor 45 Tagen\n",
      "Mitarbeiter:\n",
      "  Name: Saskia Jansen\n",
      "  Skills:\n",
      "    Scikit-learn: vor 559 Tagen\n",
      "    JavaScript: vor 581 Tagen\n",
      "    Keras: vor 256 Tagen\n",
      "    TypeScript: vor 374 Tagen\n",
      "    PostgreSQL: vor 5 Tagen\n",
      "Mitarbeiter:\n",
      "  Name: Ruben Korte\n",
      "  Skills:\n",
      "    Node.js: vor 29 Tagen\n",
      "    Swift: vor 62 Tagen\n",
      "Mitarbeiter:\n",
      "  Name: Stefanie Renner\n",
      "  Skills:\n",
      "    Node.js: vor 330 Tagen\n",
      "    PHP: vor 81 Tagen\n",
      "    PostgreSQL: vor 135 Tagen\n",
      "    Ansible: vor 544 Tagen\n",
      "Mitarbeiter:\n",
      "  Name: Karsten Bach\n",
      "  Skills:\n",
      "    Swift: vor 22 Tagen\n",
      "    Docker: vor 209 Tagen\n",
      "    Swift: vor 85 Tagen\n",
      "    Ruby: vor 330 Tagen\n",
      "Mitarbeiter:\n",
      "  Name: Melanie Stahl\n",
      "  Skills:\n",
      "    C#: vor 278 Tagen\n",
      "    Express.js: vor 363 Tagen\n",
      "Mitarbeiter:\n",
      "  Name: Jannick Konrad\n",
      "  Skills:\n",
      "    Tableau: vor 566 Tagen\n",
      "    Kubernetes: vor 335 Tagen\n",
      "    Bitbucket: vor 7 Tagen\n",
      "    NumPy: vor 663 Tagen\n",
      "Mitarbeiter:\n",
      "  Name: Dorothee Hermes\n",
      "  Skills:\n",
      "    Azure: vor 585 Tagen\n",
      "    Confluence: vor 49 Tagen\n",
      "    Tableau: vor 212 Tagen\n",
      "Mitarbeiter:\n",
      "  Name: Mika Dittmann\n",
      "  Skills:\n",
      "    Flask: vor 323 Tagen\n",
      "    Kotlin: vor 348 Tagen\n",
      "    Ansible: vor 583 Tagen\n",
      "    React: vor 69 Tagen\n",
      "Mitarbeiter:\n",
      "  Name: Mandy Rose\n",
      "  Skills:\n",
      "    PostgreSQL: vor 524 Tagen\n",
      "    Jenkins: vor 372 Tagen\n",
      "    Pandas: vor 196 Tagen\n",
      "Mitarbeiter:\n",
      "  Name: Lenny Herbst\n",
      "  Skills:\n",
      "    Swift: vor 84 Tagen\n",
      "    Tableau: vor 139 Tagen\n",
      "    AWS: vor 355 Tagen\n",
      "    Flask: vor 9 Tagen\n",
      "Mitarbeiter:\n",
      "  Name: Sigrid Köster\n",
      "  Skills:\n",
      "    Pandas: vor 580 Tagen\n",
      "Mitarbeiter:\n",
      "  Name: Corrina Brück\n",
      "  Skills:\n",
      "    Swift: vor 143 Tagen\n",
      "    Kubernetes: vor 19 Tagen\n",
      "    Docker: vor 702 Tagen\n",
      "    Go: vor 656 Tagen\n",
      "    Rust: vor 547 Tagen\n",
      "Mitarbeiter:\n",
      "  Name: Tony Frei\n",
      "  Skills:\n",
      "    Jenkins: vor 161 Tagen\n",
      "    Scikit-learn: vor 392 Tagen\n",
      "    Jenkins: vor 610 Tagen\n",
      "    Django: vor 245 Tagen\n",
      "    C#: vor 150 Tagen\n",
      "Mitarbeiter:\n",
      "  Name: Alina Uhlig\n",
      "  Skills:\n",
      "    TensorFlow: vor 582 Tagen\n",
      "    Bitbucket: vor 110 Tagen\n",
      "    Ansible: vor 659 Tagen\n",
      "    JIRA: vor 83 Tagen\n",
      "    SQL: vor 340 Tagen\n",
      "Mitarbeiter:\n",
      "  Name: Benny Scholz\n",
      "  Skills:\n",
      "    MySQL: vor 330 Tagen\n",
      "    AWS: vor 514 Tagen\n",
      "    Ansible: vor 720 Tagen\n",
      "Mitarbeiter:\n",
      "  Name: Inga Bader\n",
      "  Skills:\n",
      "    AWS: vor 21 Tagen\n",
      "    JavaScript: vor 660 Tagen\n",
      "    Swift: vor 497 Tagen\n",
      "    C#: vor 133 Tagen\n"
     ]
    }
   ],
   "source": [
    "data: list[MitarbeiterSkills] = []\n",
    "\n",
    "for name in namen:\n",
    "    skills = get_random_skills()\n",
    "    mitarbeiter = MitarbeiterSkills(name, skills)\n",
    "    data.append(mitarbeiter)\n",
    "\n",
    "for ma in data:\n",
    "    print(ma)"
   ]
  },
  {
   "cell_type": "markdown",
   "id": "500733ff",
   "metadata": {},
   "source": [
    "## Erstellen der Vektoren (Embeddings)"
   ]
  },
  {
   "cell_type": "code",
   "execution_count": 5,
   "id": "f6860f9b",
   "metadata": {},
   "outputs": [],
   "source": [
    "from openai import OpenAI\n",
    "\n",
    "client = OpenAI()\n",
    "\n",
    "def embedd(data):\n",
    "    return client.embeddings.create(input=data, model=\"text-embedding-3-small\").data[0].embedding"
   ]
  },
  {
   "cell_type": "code",
   "execution_count": 6,
   "id": "166899a8",
   "metadata": {},
   "outputs": [],
   "source": [
    "embedded_data = []\n",
    "\n",
    "for ma in data:\n",
    "    embedded_data.append(\n",
    "        embedd(ma.to_embedding())\n",
    "    )"
   ]
  },
  {
   "cell_type": "markdown",
   "id": "9a5188b6",
   "metadata": {},
   "source": [
    "## Erstellen der Vektordatenbank"
   ]
  },
  {
   "cell_type": "code",
   "execution_count": 7,
   "id": "ef98e657",
   "metadata": {},
   "outputs": [],
   "source": [
    "import faiss\n",
    "import numpy as np\n",
    "\n",
    "dim = len(embedded_data[0])\n",
    "index = faiss.IndexFlatL2(dim)\n",
    "\n",
    "embeddings_np = np.array(embedded_data).astype(\"float32\")\n",
    "index.add(embeddings_np)"
   ]
  },
  {
   "cell_type": "markdown",
   "id": "811bc671",
   "metadata": {},
   "source": [
    "## Finden von Clustern mit KMeans"
   ]
  },
  {
   "cell_type": "code",
   "execution_count": 36,
   "id": "160879cb",
   "metadata": {},
   "outputs": [
    {
     "name": "stderr",
     "output_type": "stream",
     "text": [
      "c:\\Users\\TimoAntoniak\\miniconda3\\envs\\vdb\\Lib\\site-packages\\sklearn\\cluster\\_kmeans.py:1419: UserWarning: KMeans is known to have a memory leak on Windows with MKL, when there are less chunks than available threads. You can avoid it by setting the environment variable OMP_NUM_THREADS=1.\n",
      "  warnings.warn(\n",
      "c:\\Users\\TimoAntoniak\\miniconda3\\envs\\vdb\\Lib\\site-packages\\sklearn\\cluster\\_kmeans.py:1419: UserWarning: KMeans is known to have a memory leak on Windows with MKL, when there are less chunks than available threads. You can avoid it by setting the environment variable OMP_NUM_THREADS=1.\n",
      "  warnings.warn(\n",
      "c:\\Users\\TimoAntoniak\\miniconda3\\envs\\vdb\\Lib\\site-packages\\sklearn\\cluster\\_kmeans.py:1419: UserWarning: KMeans is known to have a memory leak on Windows with MKL, when there are less chunks than available threads. You can avoid it by setting the environment variable OMP_NUM_THREADS=1.\n",
      "  warnings.warn(\n",
      "c:\\Users\\TimoAntoniak\\miniconda3\\envs\\vdb\\Lib\\site-packages\\sklearn\\cluster\\_kmeans.py:1419: UserWarning: KMeans is known to have a memory leak on Windows with MKL, when there are less chunks than available threads. You can avoid it by setting the environment variable OMP_NUM_THREADS=1.\n",
      "  warnings.warn(\n",
      "c:\\Users\\TimoAntoniak\\miniconda3\\envs\\vdb\\Lib\\site-packages\\sklearn\\cluster\\_kmeans.py:1419: UserWarning: KMeans is known to have a memory leak on Windows with MKL, when there are less chunks than available threads. You can avoid it by setting the environment variable OMP_NUM_THREADS=1.\n",
      "  warnings.warn(\n",
      "c:\\Users\\TimoAntoniak\\miniconda3\\envs\\vdb\\Lib\\site-packages\\sklearn\\cluster\\_kmeans.py:1419: UserWarning: KMeans is known to have a memory leak on Windows with MKL, when there are less chunks than available threads. You can avoid it by setting the environment variable OMP_NUM_THREADS=1.\n",
      "  warnings.warn(\n",
      "c:\\Users\\TimoAntoniak\\miniconda3\\envs\\vdb\\Lib\\site-packages\\sklearn\\cluster\\_kmeans.py:1419: UserWarning: KMeans is known to have a memory leak on Windows with MKL, when there are less chunks than available threads. You can avoid it by setting the environment variable OMP_NUM_THREADS=1.\n",
      "  warnings.warn(\n",
      "c:\\Users\\TimoAntoniak\\miniconda3\\envs\\vdb\\Lib\\site-packages\\sklearn\\cluster\\_kmeans.py:1419: UserWarning: KMeans is known to have a memory leak on Windows with MKL, when there are less chunks than available threads. You can avoid it by setting the environment variable OMP_NUM_THREADS=1.\n",
      "  warnings.warn(\n",
      "c:\\Users\\TimoAntoniak\\miniconda3\\envs\\vdb\\Lib\\site-packages\\sklearn\\cluster\\_kmeans.py:1419: UserWarning: KMeans is known to have a memory leak on Windows with MKL, when there are less chunks than available threads. You can avoid it by setting the environment variable OMP_NUM_THREADS=1.\n",
      "  warnings.warn(\n",
      "c:\\Users\\TimoAntoniak\\miniconda3\\envs\\vdb\\Lib\\site-packages\\sklearn\\cluster\\_kmeans.py:1419: UserWarning: KMeans is known to have a memory leak on Windows with MKL, when there are less chunks than available threads. You can avoid it by setting the environment variable OMP_NUM_THREADS=1.\n",
      "  warnings.warn(\n",
      "c:\\Users\\TimoAntoniak\\miniconda3\\envs\\vdb\\Lib\\site-packages\\sklearn\\cluster\\_kmeans.py:1419: UserWarning: KMeans is known to have a memory leak on Windows with MKL, when there are less chunks than available threads. You can avoid it by setting the environment variable OMP_NUM_THREADS=1.\n",
      "  warnings.warn(\n",
      "c:\\Users\\TimoAntoniak\\miniconda3\\envs\\vdb\\Lib\\site-packages\\sklearn\\cluster\\_kmeans.py:1419: UserWarning: KMeans is known to have a memory leak on Windows with MKL, when there are less chunks than available threads. You can avoid it by setting the environment variable OMP_NUM_THREADS=1.\n",
      "  warnings.warn(\n",
      "c:\\Users\\TimoAntoniak\\miniconda3\\envs\\vdb\\Lib\\site-packages\\sklearn\\cluster\\_kmeans.py:1419: UserWarning: KMeans is known to have a memory leak on Windows with MKL, when there are less chunks than available threads. You can avoid it by setting the environment variable OMP_NUM_THREADS=1.\n",
      "  warnings.warn(\n",
      "c:\\Users\\TimoAntoniak\\miniconda3\\envs\\vdb\\Lib\\site-packages\\sklearn\\cluster\\_kmeans.py:1419: UserWarning: KMeans is known to have a memory leak on Windows with MKL, when there are less chunks than available threads. You can avoid it by setting the environment variable OMP_NUM_THREADS=1.\n",
      "  warnings.warn(\n",
      "c:\\Users\\TimoAntoniak\\miniconda3\\envs\\vdb\\Lib\\site-packages\\sklearn\\cluster\\_kmeans.py:1419: UserWarning: KMeans is known to have a memory leak on Windows with MKL, when there are less chunks than available threads. You can avoid it by setting the environment variable OMP_NUM_THREADS=1.\n",
      "  warnings.warn(\n",
      "c:\\Users\\TimoAntoniak\\miniconda3\\envs\\vdb\\Lib\\site-packages\\sklearn\\cluster\\_kmeans.py:1419: UserWarning: KMeans is known to have a memory leak on Windows with MKL, when there are less chunks than available threads. You can avoid it by setting the environment variable OMP_NUM_THREADS=1.\n",
      "  warnings.warn(\n",
      "c:\\Users\\TimoAntoniak\\miniconda3\\envs\\vdb\\Lib\\site-packages\\sklearn\\cluster\\_kmeans.py:1419: UserWarning: KMeans is known to have a memory leak on Windows with MKL, when there are less chunks than available threads. You can avoid it by setting the environment variable OMP_NUM_THREADS=1.\n",
      "  warnings.warn(\n",
      "c:\\Users\\TimoAntoniak\\miniconda3\\envs\\vdb\\Lib\\site-packages\\sklearn\\cluster\\_kmeans.py:1419: UserWarning: KMeans is known to have a memory leak on Windows with MKL, when there are less chunks than available threads. You can avoid it by setting the environment variable OMP_NUM_THREADS=1.\n",
      "  warnings.warn(\n",
      "c:\\Users\\TimoAntoniak\\miniconda3\\envs\\vdb\\Lib\\site-packages\\sklearn\\cluster\\_kmeans.py:1419: UserWarning: KMeans is known to have a memory leak on Windows with MKL, when there are less chunks than available threads. You can avoid it by setting the environment variable OMP_NUM_THREADS=1.\n",
      "  warnings.warn(\n",
      "c:\\Users\\TimoAntoniak\\miniconda3\\envs\\vdb\\Lib\\site-packages\\sklearn\\cluster\\_kmeans.py:1419: UserWarning: KMeans is known to have a memory leak on Windows with MKL, when there are less chunks than available threads. You can avoid it by setting the environment variable OMP_NUM_THREADS=1.\n",
      "  warnings.warn(\n",
      "c:\\Users\\TimoAntoniak\\miniconda3\\envs\\vdb\\Lib\\site-packages\\sklearn\\cluster\\_kmeans.py:1419: UserWarning: KMeans is known to have a memory leak on Windows with MKL, when there are less chunks than available threads. You can avoid it by setting the environment variable OMP_NUM_THREADS=1.\n",
      "  warnings.warn(\n",
      "c:\\Users\\TimoAntoniak\\miniconda3\\envs\\vdb\\Lib\\site-packages\\sklearn\\cluster\\_kmeans.py:1419: UserWarning: KMeans is known to have a memory leak on Windows with MKL, when there are less chunks than available threads. You can avoid it by setting the environment variable OMP_NUM_THREADS=1.\n",
      "  warnings.warn(\n",
      "c:\\Users\\TimoAntoniak\\miniconda3\\envs\\vdb\\Lib\\site-packages\\sklearn\\cluster\\_kmeans.py:1419: UserWarning: KMeans is known to have a memory leak on Windows with MKL, when there are less chunks than available threads. You can avoid it by setting the environment variable OMP_NUM_THREADS=1.\n",
      "  warnings.warn(\n",
      "c:\\Users\\TimoAntoniak\\miniconda3\\envs\\vdb\\Lib\\site-packages\\sklearn\\cluster\\_kmeans.py:1419: UserWarning: KMeans is known to have a memory leak on Windows with MKL, when there are less chunks than available threads. You can avoid it by setting the environment variable OMP_NUM_THREADS=1.\n",
      "  warnings.warn(\n",
      "c:\\Users\\TimoAntoniak\\miniconda3\\envs\\vdb\\Lib\\site-packages\\sklearn\\cluster\\_kmeans.py:1419: UserWarning: KMeans is known to have a memory leak on Windows with MKL, when there are less chunks than available threads. You can avoid it by setting the environment variable OMP_NUM_THREADS=1.\n",
      "  warnings.warn(\n",
      "c:\\Users\\TimoAntoniak\\miniconda3\\envs\\vdb\\Lib\\site-packages\\sklearn\\cluster\\_kmeans.py:1419: UserWarning: KMeans is known to have a memory leak on Windows with MKL, when there are less chunks than available threads. You can avoid it by setting the environment variable OMP_NUM_THREADS=1.\n",
      "  warnings.warn(\n",
      "c:\\Users\\TimoAntoniak\\miniconda3\\envs\\vdb\\Lib\\site-packages\\sklearn\\cluster\\_kmeans.py:1419: UserWarning: KMeans is known to have a memory leak on Windows with MKL, when there are less chunks than available threads. You can avoid it by setting the environment variable OMP_NUM_THREADS=1.\n",
      "  warnings.warn(\n",
      "c:\\Users\\TimoAntoniak\\miniconda3\\envs\\vdb\\Lib\\site-packages\\sklearn\\cluster\\_kmeans.py:1419: UserWarning: KMeans is known to have a memory leak on Windows with MKL, when there are less chunks than available threads. You can avoid it by setting the environment variable OMP_NUM_THREADS=1.\n",
      "  warnings.warn(\n",
      "c:\\Users\\TimoAntoniak\\miniconda3\\envs\\vdb\\Lib\\site-packages\\sklearn\\cluster\\_kmeans.py:1419: UserWarning: KMeans is known to have a memory leak on Windows with MKL, when there are less chunks than available threads. You can avoid it by setting the environment variable OMP_NUM_THREADS=1.\n",
      "  warnings.warn(\n",
      "c:\\Users\\TimoAntoniak\\miniconda3\\envs\\vdb\\Lib\\site-packages\\sklearn\\cluster\\_kmeans.py:1419: UserWarning: KMeans is known to have a memory leak on Windows with MKL, when there are less chunks than available threads. You can avoid it by setting the environment variable OMP_NUM_THREADS=1.\n",
      "  warnings.warn(\n",
      "c:\\Users\\TimoAntoniak\\miniconda3\\envs\\vdb\\Lib\\site-packages\\sklearn\\cluster\\_kmeans.py:1419: UserWarning: KMeans is known to have a memory leak on Windows with MKL, when there are less chunks than available threads. You can avoid it by setting the environment variable OMP_NUM_THREADS=1.\n",
      "  warnings.warn(\n",
      "c:\\Users\\TimoAntoniak\\miniconda3\\envs\\vdb\\Lib\\site-packages\\sklearn\\cluster\\_kmeans.py:1419: UserWarning: KMeans is known to have a memory leak on Windows with MKL, when there are less chunks than available threads. You can avoid it by setting the environment variable OMP_NUM_THREADS=1.\n",
      "  warnings.warn(\n",
      "c:\\Users\\TimoAntoniak\\miniconda3\\envs\\vdb\\Lib\\site-packages\\sklearn\\cluster\\_kmeans.py:1419: UserWarning: KMeans is known to have a memory leak on Windows with MKL, when there are less chunks than available threads. You can avoid it by setting the environment variable OMP_NUM_THREADS=1.\n",
      "  warnings.warn(\n",
      "c:\\Users\\TimoAntoniak\\miniconda3\\envs\\vdb\\Lib\\site-packages\\sklearn\\cluster\\_kmeans.py:1419: UserWarning: KMeans is known to have a memory leak on Windows with MKL, when there are less chunks than available threads. You can avoid it by setting the environment variable OMP_NUM_THREADS=1.\n",
      "  warnings.warn(\n",
      "c:\\Users\\TimoAntoniak\\miniconda3\\envs\\vdb\\Lib\\site-packages\\sklearn\\cluster\\_kmeans.py:1419: UserWarning: KMeans is known to have a memory leak on Windows with MKL, when there are less chunks than available threads. You can avoid it by setting the environment variable OMP_NUM_THREADS=1.\n",
      "  warnings.warn(\n",
      "c:\\Users\\TimoAntoniak\\miniconda3\\envs\\vdb\\Lib\\site-packages\\sklearn\\cluster\\_kmeans.py:1419: UserWarning: KMeans is known to have a memory leak on Windows with MKL, when there are less chunks than available threads. You can avoid it by setting the environment variable OMP_NUM_THREADS=1.\n",
      "  warnings.warn(\n",
      "c:\\Users\\TimoAntoniak\\miniconda3\\envs\\vdb\\Lib\\site-packages\\sklearn\\cluster\\_kmeans.py:1419: UserWarning: KMeans is known to have a memory leak on Windows with MKL, when there are less chunks than available threads. You can avoid it by setting the environment variable OMP_NUM_THREADS=1.\n",
      "  warnings.warn(\n",
      "c:\\Users\\TimoAntoniak\\miniconda3\\envs\\vdb\\Lib\\site-packages\\sklearn\\cluster\\_kmeans.py:1419: UserWarning: KMeans is known to have a memory leak on Windows with MKL, when there are less chunks than available threads. You can avoid it by setting the environment variable OMP_NUM_THREADS=1.\n",
      "  warnings.warn(\n",
      "c:\\Users\\TimoAntoniak\\miniconda3\\envs\\vdb\\Lib\\site-packages\\sklearn\\cluster\\_kmeans.py:1419: UserWarning: KMeans is known to have a memory leak on Windows with MKL, when there are less chunks than available threads. You can avoid it by setting the environment variable OMP_NUM_THREADS=1.\n",
      "  warnings.warn(\n",
      "c:\\Users\\TimoAntoniak\\miniconda3\\envs\\vdb\\Lib\\site-packages\\sklearn\\cluster\\_kmeans.py:1419: UserWarning: KMeans is known to have a memory leak on Windows with MKL, when there are less chunks than available threads. You can avoid it by setting the environment variable OMP_NUM_THREADS=1.\n",
      "  warnings.warn(\n",
      "c:\\Users\\TimoAntoniak\\miniconda3\\envs\\vdb\\Lib\\site-packages\\sklearn\\cluster\\_kmeans.py:1419: UserWarning: KMeans is known to have a memory leak on Windows with MKL, when there are less chunks than available threads. You can avoid it by setting the environment variable OMP_NUM_THREADS=1.\n",
      "  warnings.warn(\n",
      "c:\\Users\\TimoAntoniak\\miniconda3\\envs\\vdb\\Lib\\site-packages\\sklearn\\cluster\\_kmeans.py:1419: UserWarning: KMeans is known to have a memory leak on Windows with MKL, when there are less chunks than available threads. You can avoid it by setting the environment variable OMP_NUM_THREADS=1.\n",
      "  warnings.warn(\n",
      "c:\\Users\\TimoAntoniak\\miniconda3\\envs\\vdb\\Lib\\site-packages\\sklearn\\cluster\\_kmeans.py:1419: UserWarning: KMeans is known to have a memory leak on Windows with MKL, when there are less chunks than available threads. You can avoid it by setting the environment variable OMP_NUM_THREADS=1.\n",
      "  warnings.warn(\n",
      "c:\\Users\\TimoAntoniak\\miniconda3\\envs\\vdb\\Lib\\site-packages\\sklearn\\cluster\\_kmeans.py:1419: UserWarning: KMeans is known to have a memory leak on Windows with MKL, when there are less chunks than available threads. You can avoid it by setting the environment variable OMP_NUM_THREADS=1.\n",
      "  warnings.warn(\n",
      "c:\\Users\\TimoAntoniak\\miniconda3\\envs\\vdb\\Lib\\site-packages\\sklearn\\cluster\\_kmeans.py:1419: UserWarning: KMeans is known to have a memory leak on Windows with MKL, when there are less chunks than available threads. You can avoid it by setting the environment variable OMP_NUM_THREADS=1.\n",
      "  warnings.warn(\n",
      "c:\\Users\\TimoAntoniak\\miniconda3\\envs\\vdb\\Lib\\site-packages\\sklearn\\cluster\\_kmeans.py:1419: UserWarning: KMeans is known to have a memory leak on Windows with MKL, when there are less chunks than available threads. You can avoid it by setting the environment variable OMP_NUM_THREADS=1.\n",
      "  warnings.warn(\n",
      "c:\\Users\\TimoAntoniak\\miniconda3\\envs\\vdb\\Lib\\site-packages\\sklearn\\cluster\\_kmeans.py:1419: UserWarning: KMeans is known to have a memory leak on Windows with MKL, when there are less chunks than available threads. You can avoid it by setting the environment variable OMP_NUM_THREADS=1.\n",
      "  warnings.warn(\n",
      "c:\\Users\\TimoAntoniak\\miniconda3\\envs\\vdb\\Lib\\site-packages\\sklearn\\cluster\\_kmeans.py:1419: UserWarning: KMeans is known to have a memory leak on Windows with MKL, when there are less chunks than available threads. You can avoid it by setting the environment variable OMP_NUM_THREADS=1.\n",
      "  warnings.warn(\n",
      "c:\\Users\\TimoAntoniak\\miniconda3\\envs\\vdb\\Lib\\site-packages\\sklearn\\cluster\\_kmeans.py:1419: UserWarning: KMeans is known to have a memory leak on Windows with MKL, when there are less chunks than available threads. You can avoid it by setting the environment variable OMP_NUM_THREADS=1.\n",
      "  warnings.warn(\n",
      "c:\\Users\\TimoAntoniak\\miniconda3\\envs\\vdb\\Lib\\site-packages\\sklearn\\cluster\\_kmeans.py:1419: UserWarning: KMeans is known to have a memory leak on Windows with MKL, when there are less chunks than available threads. You can avoid it by setting the environment variable OMP_NUM_THREADS=1.\n",
      "  warnings.warn(\n",
      "c:\\Users\\TimoAntoniak\\miniconda3\\envs\\vdb\\Lib\\site-packages\\sklearn\\cluster\\_kmeans.py:1419: UserWarning: KMeans is known to have a memory leak on Windows with MKL, when there are less chunks than available threads. You can avoid it by setting the environment variable OMP_NUM_THREADS=1.\n",
      "  warnings.warn(\n",
      "c:\\Users\\TimoAntoniak\\miniconda3\\envs\\vdb\\Lib\\site-packages\\sklearn\\cluster\\_kmeans.py:1419: UserWarning: KMeans is known to have a memory leak on Windows with MKL, when there are less chunks than available threads. You can avoid it by setting the environment variable OMP_NUM_THREADS=1.\n",
      "  warnings.warn(\n",
      "c:\\Users\\TimoAntoniak\\miniconda3\\envs\\vdb\\Lib\\site-packages\\sklearn\\cluster\\_kmeans.py:1419: UserWarning: KMeans is known to have a memory leak on Windows with MKL, when there are less chunks than available threads. You can avoid it by setting the environment variable OMP_NUM_THREADS=1.\n",
      "  warnings.warn(\n",
      "c:\\Users\\TimoAntoniak\\miniconda3\\envs\\vdb\\Lib\\site-packages\\sklearn\\cluster\\_kmeans.py:1419: UserWarning: KMeans is known to have a memory leak on Windows with MKL, when there are less chunks than available threads. You can avoid it by setting the environment variable OMP_NUM_THREADS=1.\n",
      "  warnings.warn(\n",
      "c:\\Users\\TimoAntoniak\\miniconda3\\envs\\vdb\\Lib\\site-packages\\sklearn\\cluster\\_kmeans.py:1419: UserWarning: KMeans is known to have a memory leak on Windows with MKL, when there are less chunks than available threads. You can avoid it by setting the environment variable OMP_NUM_THREADS=1.\n",
      "  warnings.warn(\n",
      "c:\\Users\\TimoAntoniak\\miniconda3\\envs\\vdb\\Lib\\site-packages\\sklearn\\cluster\\_kmeans.py:1419: UserWarning: KMeans is known to have a memory leak on Windows with MKL, when there are less chunks than available threads. You can avoid it by setting the environment variable OMP_NUM_THREADS=1.\n",
      "  warnings.warn(\n",
      "c:\\Users\\TimoAntoniak\\miniconda3\\envs\\vdb\\Lib\\site-packages\\sklearn\\cluster\\_kmeans.py:1419: UserWarning: KMeans is known to have a memory leak on Windows with MKL, when there are less chunks than available threads. You can avoid it by setting the environment variable OMP_NUM_THREADS=1.\n",
      "  warnings.warn(\n",
      "c:\\Users\\TimoAntoniak\\miniconda3\\envs\\vdb\\Lib\\site-packages\\sklearn\\cluster\\_kmeans.py:1419: UserWarning: KMeans is known to have a memory leak on Windows with MKL, when there are less chunks than available threads. You can avoid it by setting the environment variable OMP_NUM_THREADS=1.\n",
      "  warnings.warn(\n",
      "c:\\Users\\TimoAntoniak\\miniconda3\\envs\\vdb\\Lib\\site-packages\\sklearn\\cluster\\_kmeans.py:1419: UserWarning: KMeans is known to have a memory leak on Windows with MKL, when there are less chunks than available threads. You can avoid it by setting the environment variable OMP_NUM_THREADS=1.\n",
      "  warnings.warn(\n",
      "c:\\Users\\TimoAntoniak\\miniconda3\\envs\\vdb\\Lib\\site-packages\\sklearn\\cluster\\_kmeans.py:1419: UserWarning: KMeans is known to have a memory leak on Windows with MKL, when there are less chunks than available threads. You can avoid it by setting the environment variable OMP_NUM_THREADS=1.\n",
      "  warnings.warn(\n",
      "c:\\Users\\TimoAntoniak\\miniconda3\\envs\\vdb\\Lib\\site-packages\\sklearn\\cluster\\_kmeans.py:1419: UserWarning: KMeans is known to have a memory leak on Windows with MKL, when there are less chunks than available threads. You can avoid it by setting the environment variable OMP_NUM_THREADS=1.\n",
      "  warnings.warn(\n",
      "c:\\Users\\TimoAntoniak\\miniconda3\\envs\\vdb\\Lib\\site-packages\\sklearn\\cluster\\_kmeans.py:1419: UserWarning: KMeans is known to have a memory leak on Windows with MKL, when there are less chunks than available threads. You can avoid it by setting the environment variable OMP_NUM_THREADS=1.\n",
      "  warnings.warn(\n",
      "c:\\Users\\TimoAntoniak\\miniconda3\\envs\\vdb\\Lib\\site-packages\\sklearn\\cluster\\_kmeans.py:1419: UserWarning: KMeans is known to have a memory leak on Windows with MKL, when there are less chunks than available threads. You can avoid it by setting the environment variable OMP_NUM_THREADS=1.\n",
      "  warnings.warn(\n",
      "c:\\Users\\TimoAntoniak\\miniconda3\\envs\\vdb\\Lib\\site-packages\\sklearn\\cluster\\_kmeans.py:1419: UserWarning: KMeans is known to have a memory leak on Windows with MKL, when there are less chunks than available threads. You can avoid it by setting the environment variable OMP_NUM_THREADS=1.\n",
      "  warnings.warn(\n",
      "c:\\Users\\TimoAntoniak\\miniconda3\\envs\\vdb\\Lib\\site-packages\\sklearn\\cluster\\_kmeans.py:1419: UserWarning: KMeans is known to have a memory leak on Windows with MKL, when there are less chunks than available threads. You can avoid it by setting the environment variable OMP_NUM_THREADS=1.\n",
      "  warnings.warn(\n",
      "c:\\Users\\TimoAntoniak\\miniconda3\\envs\\vdb\\Lib\\site-packages\\sklearn\\cluster\\_kmeans.py:1419: UserWarning: KMeans is known to have a memory leak on Windows with MKL, when there are less chunks than available threads. You can avoid it by setting the environment variable OMP_NUM_THREADS=1.\n",
      "  warnings.warn(\n",
      "c:\\Users\\TimoAntoniak\\miniconda3\\envs\\vdb\\Lib\\site-packages\\sklearn\\cluster\\_kmeans.py:1419: UserWarning: KMeans is known to have a memory leak on Windows with MKL, when there are less chunks than available threads. You can avoid it by setting the environment variable OMP_NUM_THREADS=1.\n",
      "  warnings.warn(\n",
      "c:\\Users\\TimoAntoniak\\miniconda3\\envs\\vdb\\Lib\\site-packages\\sklearn\\cluster\\_kmeans.py:1419: UserWarning: KMeans is known to have a memory leak on Windows with MKL, when there are less chunks than available threads. You can avoid it by setting the environment variable OMP_NUM_THREADS=1.\n",
      "  warnings.warn(\n",
      "c:\\Users\\TimoAntoniak\\miniconda3\\envs\\vdb\\Lib\\site-packages\\sklearn\\cluster\\_kmeans.py:1419: UserWarning: KMeans is known to have a memory leak on Windows with MKL, when there are less chunks than available threads. You can avoid it by setting the environment variable OMP_NUM_THREADS=1.\n",
      "  warnings.warn(\n",
      "c:\\Users\\TimoAntoniak\\miniconda3\\envs\\vdb\\Lib\\site-packages\\sklearn\\cluster\\_kmeans.py:1419: UserWarning: KMeans is known to have a memory leak on Windows with MKL, when there are less chunks than available threads. You can avoid it by setting the environment variable OMP_NUM_THREADS=1.\n",
      "  warnings.warn(\n",
      "c:\\Users\\TimoAntoniak\\miniconda3\\envs\\vdb\\Lib\\site-packages\\sklearn\\cluster\\_kmeans.py:1419: UserWarning: KMeans is known to have a memory leak on Windows with MKL, when there are less chunks than available threads. You can avoid it by setting the environment variable OMP_NUM_THREADS=1.\n",
      "  warnings.warn(\n",
      "c:\\Users\\TimoAntoniak\\miniconda3\\envs\\vdb\\Lib\\site-packages\\sklearn\\cluster\\_kmeans.py:1419: UserWarning: KMeans is known to have a memory leak on Windows with MKL, when there are less chunks than available threads. You can avoid it by setting the environment variable OMP_NUM_THREADS=1.\n",
      "  warnings.warn(\n",
      "c:\\Users\\TimoAntoniak\\miniconda3\\envs\\vdb\\Lib\\site-packages\\sklearn\\cluster\\_kmeans.py:1419: UserWarning: KMeans is known to have a memory leak on Windows with MKL, when there are less chunks than available threads. You can avoid it by setting the environment variable OMP_NUM_THREADS=1.\n",
      "  warnings.warn(\n",
      "c:\\Users\\TimoAntoniak\\miniconda3\\envs\\vdb\\Lib\\site-packages\\sklearn\\cluster\\_kmeans.py:1419: UserWarning: KMeans is known to have a memory leak on Windows with MKL, when there are less chunks than available threads. You can avoid it by setting the environment variable OMP_NUM_THREADS=1.\n",
      "  warnings.warn(\n",
      "c:\\Users\\TimoAntoniak\\miniconda3\\envs\\vdb\\Lib\\site-packages\\sklearn\\cluster\\_kmeans.py:1419: UserWarning: KMeans is known to have a memory leak on Windows with MKL, when there are less chunks than available threads. You can avoid it by setting the environment variable OMP_NUM_THREADS=1.\n",
      "  warnings.warn(\n",
      "c:\\Users\\TimoAntoniak\\miniconda3\\envs\\vdb\\Lib\\site-packages\\sklearn\\cluster\\_kmeans.py:1419: UserWarning: KMeans is known to have a memory leak on Windows with MKL, when there are less chunks than available threads. You can avoid it by setting the environment variable OMP_NUM_THREADS=1.\n",
      "  warnings.warn(\n",
      "c:\\Users\\TimoAntoniak\\miniconda3\\envs\\vdb\\Lib\\site-packages\\sklearn\\cluster\\_kmeans.py:1419: UserWarning: KMeans is known to have a memory leak on Windows with MKL, when there are less chunks than available threads. You can avoid it by setting the environment variable OMP_NUM_THREADS=1.\n",
      "  warnings.warn(\n",
      "c:\\Users\\TimoAntoniak\\miniconda3\\envs\\vdb\\Lib\\site-packages\\sklearn\\cluster\\_kmeans.py:1419: UserWarning: KMeans is known to have a memory leak on Windows with MKL, when there are less chunks than available threads. You can avoid it by setting the environment variable OMP_NUM_THREADS=1.\n",
      "  warnings.warn(\n",
      "c:\\Users\\TimoAntoniak\\miniconda3\\envs\\vdb\\Lib\\site-packages\\sklearn\\cluster\\_kmeans.py:1419: UserWarning: KMeans is known to have a memory leak on Windows with MKL, when there are less chunks than available threads. You can avoid it by setting the environment variable OMP_NUM_THREADS=1.\n",
      "  warnings.warn(\n",
      "c:\\Users\\TimoAntoniak\\miniconda3\\envs\\vdb\\Lib\\site-packages\\sklearn\\cluster\\_kmeans.py:1419: UserWarning: KMeans is known to have a memory leak on Windows with MKL, when there are less chunks than available threads. You can avoid it by setting the environment variable OMP_NUM_THREADS=1.\n",
      "  warnings.warn(\n",
      "c:\\Users\\TimoAntoniak\\miniconda3\\envs\\vdb\\Lib\\site-packages\\sklearn\\cluster\\_kmeans.py:1419: UserWarning: KMeans is known to have a memory leak on Windows with MKL, when there are less chunks than available threads. You can avoid it by setting the environment variable OMP_NUM_THREADS=1.\n",
      "  warnings.warn(\n",
      "c:\\Users\\TimoAntoniak\\miniconda3\\envs\\vdb\\Lib\\site-packages\\sklearn\\cluster\\_kmeans.py:1419: UserWarning: KMeans is known to have a memory leak on Windows with MKL, when there are less chunks than available threads. You can avoid it by setting the environment variable OMP_NUM_THREADS=1.\n",
      "  warnings.warn(\n",
      "c:\\Users\\TimoAntoniak\\miniconda3\\envs\\vdb\\Lib\\site-packages\\sklearn\\cluster\\_kmeans.py:1419: UserWarning: KMeans is known to have a memory leak on Windows with MKL, when there are less chunks than available threads. You can avoid it by setting the environment variable OMP_NUM_THREADS=1.\n",
      "  warnings.warn(\n",
      "c:\\Users\\TimoAntoniak\\miniconda3\\envs\\vdb\\Lib\\site-packages\\sklearn\\cluster\\_kmeans.py:1419: UserWarning: KMeans is known to have a memory leak on Windows with MKL, when there are less chunks than available threads. You can avoid it by setting the environment variable OMP_NUM_THREADS=1.\n",
      "  warnings.warn(\n",
      "c:\\Users\\TimoAntoniak\\miniconda3\\envs\\vdb\\Lib\\site-packages\\sklearn\\cluster\\_kmeans.py:1419: UserWarning: KMeans is known to have a memory leak on Windows with MKL, when there are less chunks than available threads. You can avoid it by setting the environment variable OMP_NUM_THREADS=1.\n",
      "  warnings.warn(\n",
      "c:\\Users\\TimoAntoniak\\miniconda3\\envs\\vdb\\Lib\\site-packages\\sklearn\\cluster\\_kmeans.py:1419: UserWarning: KMeans is known to have a memory leak on Windows with MKL, when there are less chunks than available threads. You can avoid it by setting the environment variable OMP_NUM_THREADS=1.\n",
      "  warnings.warn(\n",
      "c:\\Users\\TimoAntoniak\\miniconda3\\envs\\vdb\\Lib\\site-packages\\sklearn\\cluster\\_kmeans.py:1419: UserWarning: KMeans is known to have a memory leak on Windows with MKL, when there are less chunks than available threads. You can avoid it by setting the environment variable OMP_NUM_THREADS=1.\n",
      "  warnings.warn(\n",
      "c:\\Users\\TimoAntoniak\\miniconda3\\envs\\vdb\\Lib\\site-packages\\sklearn\\cluster\\_kmeans.py:1419: UserWarning: KMeans is known to have a memory leak on Windows with MKL, when there are less chunks than available threads. You can avoid it by setting the environment variable OMP_NUM_THREADS=1.\n",
      "  warnings.warn(\n",
      "c:\\Users\\TimoAntoniak\\miniconda3\\envs\\vdb\\Lib\\site-packages\\sklearn\\cluster\\_kmeans.py:1419: UserWarning: KMeans is known to have a memory leak on Windows with MKL, when there are less chunks than available threads. You can avoid it by setting the environment variable OMP_NUM_THREADS=1.\n",
      "  warnings.warn(\n",
      "c:\\Users\\TimoAntoniak\\miniconda3\\envs\\vdb\\Lib\\site-packages\\sklearn\\cluster\\_kmeans.py:1419: UserWarning: KMeans is known to have a memory leak on Windows with MKL, when there are less chunks than available threads. You can avoid it by setting the environment variable OMP_NUM_THREADS=1.\n",
      "  warnings.warn(\n",
      "c:\\Users\\TimoAntoniak\\miniconda3\\envs\\vdb\\Lib\\site-packages\\sklearn\\cluster\\_kmeans.py:1419: UserWarning: KMeans is known to have a memory leak on Windows with MKL, when there are less chunks than available threads. You can avoid it by setting the environment variable OMP_NUM_THREADS=1.\n",
      "  warnings.warn(\n",
      "c:\\Users\\TimoAntoniak\\miniconda3\\envs\\vdb\\Lib\\site-packages\\sklearn\\cluster\\_kmeans.py:1419: UserWarning: KMeans is known to have a memory leak on Windows with MKL, when there are less chunks than available threads. You can avoid it by setting the environment variable OMP_NUM_THREADS=1.\n",
      "  warnings.warn(\n",
      "c:\\Users\\TimoAntoniak\\miniconda3\\envs\\vdb\\Lib\\site-packages\\sklearn\\cluster\\_kmeans.py:1419: UserWarning: KMeans is known to have a memory leak on Windows with MKL, when there are less chunks than available threads. You can avoid it by setting the environment variable OMP_NUM_THREADS=1.\n",
      "  warnings.warn(\n",
      "c:\\Users\\TimoAntoniak\\miniconda3\\envs\\vdb\\Lib\\site-packages\\sklearn\\cluster\\_kmeans.py:1419: UserWarning: KMeans is known to have a memory leak on Windows with MKL, when there are less chunks than available threads. You can avoid it by setting the environment variable OMP_NUM_THREADS=1.\n",
      "  warnings.warn(\n",
      "c:\\Users\\TimoAntoniak\\miniconda3\\envs\\vdb\\Lib\\site-packages\\sklearn\\cluster\\_kmeans.py:1419: UserWarning: KMeans is known to have a memory leak on Windows with MKL, when there are less chunks than available threads. You can avoid it by setting the environment variable OMP_NUM_THREADS=1.\n",
      "  warnings.warn(\n",
      "c:\\Users\\TimoAntoniak\\miniconda3\\envs\\vdb\\Lib\\site-packages\\sklearn\\cluster\\_kmeans.py:1419: UserWarning: KMeans is known to have a memory leak on Windows with MKL, when there are less chunks than available threads. You can avoid it by setting the environment variable OMP_NUM_THREADS=1.\n",
      "  warnings.warn(\n",
      "c:\\Users\\TimoAntoniak\\miniconda3\\envs\\vdb\\Lib\\site-packages\\sklearn\\cluster\\_kmeans.py:1419: UserWarning: KMeans is known to have a memory leak on Windows with MKL, when there are less chunks than available threads. You can avoid it by setting the environment variable OMP_NUM_THREADS=1.\n",
      "  warnings.warn(\n",
      "c:\\Users\\TimoAntoniak\\miniconda3\\envs\\vdb\\Lib\\site-packages\\sklearn\\cluster\\_kmeans.py:1419: UserWarning: KMeans is known to have a memory leak on Windows with MKL, when there are less chunks than available threads. You can avoid it by setting the environment variable OMP_NUM_THREADS=1.\n",
      "  warnings.warn(\n",
      "c:\\Users\\TimoAntoniak\\miniconda3\\envs\\vdb\\Lib\\site-packages\\sklearn\\cluster\\_kmeans.py:1419: UserWarning: KMeans is known to have a memory leak on Windows with MKL, when there are less chunks than available threads. You can avoid it by setting the environment variable OMP_NUM_THREADS=1.\n",
      "  warnings.warn(\n",
      "c:\\Users\\TimoAntoniak\\miniconda3\\envs\\vdb\\Lib\\site-packages\\sklearn\\cluster\\_kmeans.py:1419: UserWarning: KMeans is known to have a memory leak on Windows with MKL, when there are less chunks than available threads. You can avoid it by setting the environment variable OMP_NUM_THREADS=1.\n",
      "  warnings.warn(\n",
      "c:\\Users\\TimoAntoniak\\miniconda3\\envs\\vdb\\Lib\\site-packages\\sklearn\\cluster\\_kmeans.py:1419: UserWarning: KMeans is known to have a memory leak on Windows with MKL, when there are less chunks than available threads. You can avoid it by setting the environment variable OMP_NUM_THREADS=1.\n",
      "  warnings.warn(\n",
      "c:\\Users\\TimoAntoniak\\miniconda3\\envs\\vdb\\Lib\\site-packages\\sklearn\\cluster\\_kmeans.py:1419: UserWarning: KMeans is known to have a memory leak on Windows with MKL, when there are less chunks than available threads. You can avoid it by setting the environment variable OMP_NUM_THREADS=1.\n",
      "  warnings.warn(\n",
      "c:\\Users\\TimoAntoniak\\miniconda3\\envs\\vdb\\Lib\\site-packages\\sklearn\\cluster\\_kmeans.py:1419: UserWarning: KMeans is known to have a memory leak on Windows with MKL, when there are less chunks than available threads. You can avoid it by setting the environment variable OMP_NUM_THREADS=1.\n",
      "  warnings.warn(\n",
      "c:\\Users\\TimoAntoniak\\miniconda3\\envs\\vdb\\Lib\\site-packages\\sklearn\\cluster\\_kmeans.py:1419: UserWarning: KMeans is known to have a memory leak on Windows with MKL, when there are less chunks than available threads. You can avoid it by setting the environment variable OMP_NUM_THREADS=1.\n",
      "  warnings.warn(\n",
      "c:\\Users\\TimoAntoniak\\miniconda3\\envs\\vdb\\Lib\\site-packages\\sklearn\\cluster\\_kmeans.py:1419: UserWarning: KMeans is known to have a memory leak on Windows with MKL, when there are less chunks than available threads. You can avoid it by setting the environment variable OMP_NUM_THREADS=1.\n",
      "  warnings.warn(\n",
      "c:\\Users\\TimoAntoniak\\miniconda3\\envs\\vdb\\Lib\\site-packages\\sklearn\\cluster\\_kmeans.py:1419: UserWarning: KMeans is known to have a memory leak on Windows with MKL, when there are less chunks than available threads. You can avoid it by setting the environment variable OMP_NUM_THREADS=1.\n",
      "  warnings.warn(\n",
      "c:\\Users\\TimoAntoniak\\miniconda3\\envs\\vdb\\Lib\\site-packages\\sklearn\\cluster\\_kmeans.py:1419: UserWarning: KMeans is known to have a memory leak on Windows with MKL, when there are less chunks than available threads. You can avoid it by setting the environment variable OMP_NUM_THREADS=1.\n",
      "  warnings.warn(\n",
      "c:\\Users\\TimoAntoniak\\miniconda3\\envs\\vdb\\Lib\\site-packages\\sklearn\\cluster\\_kmeans.py:1419: UserWarning: KMeans is known to have a memory leak on Windows with MKL, when there are less chunks than available threads. You can avoid it by setting the environment variable OMP_NUM_THREADS=1.\n",
      "  warnings.warn(\n",
      "c:\\Users\\TimoAntoniak\\miniconda3\\envs\\vdb\\Lib\\site-packages\\sklearn\\cluster\\_kmeans.py:1419: UserWarning: KMeans is known to have a memory leak on Windows with MKL, when there are less chunks than available threads. You can avoid it by setting the environment variable OMP_NUM_THREADS=1.\n",
      "  warnings.warn(\n",
      "c:\\Users\\TimoAntoniak\\miniconda3\\envs\\vdb\\Lib\\site-packages\\sklearn\\cluster\\_kmeans.py:1419: UserWarning: KMeans is known to have a memory leak on Windows with MKL, when there are less chunks than available threads. You can avoid it by setting the environment variable OMP_NUM_THREADS=1.\n",
      "  warnings.warn(\n",
      "c:\\Users\\TimoAntoniak\\miniconda3\\envs\\vdb\\Lib\\site-packages\\sklearn\\cluster\\_kmeans.py:1419: UserWarning: KMeans is known to have a memory leak on Windows with MKL, when there are less chunks than available threads. You can avoid it by setting the environment variable OMP_NUM_THREADS=1.\n",
      "  warnings.warn(\n",
      "c:\\Users\\TimoAntoniak\\miniconda3\\envs\\vdb\\Lib\\site-packages\\sklearn\\cluster\\_kmeans.py:1419: UserWarning: KMeans is known to have a memory leak on Windows with MKL, when there are less chunks than available threads. You can avoid it by setting the environment variable OMP_NUM_THREADS=1.\n",
      "  warnings.warn(\n",
      "c:\\Users\\TimoAntoniak\\miniconda3\\envs\\vdb\\Lib\\site-packages\\sklearn\\cluster\\_kmeans.py:1419: UserWarning: KMeans is known to have a memory leak on Windows with MKL, when there are less chunks than available threads. You can avoid it by setting the environment variable OMP_NUM_THREADS=1.\n",
      "  warnings.warn(\n",
      "c:\\Users\\TimoAntoniak\\miniconda3\\envs\\vdb\\Lib\\site-packages\\sklearn\\cluster\\_kmeans.py:1419: UserWarning: KMeans is known to have a memory leak on Windows with MKL, when there are less chunks than available threads. You can avoid it by setting the environment variable OMP_NUM_THREADS=1.\n",
      "  warnings.warn(\n",
      "c:\\Users\\TimoAntoniak\\miniconda3\\envs\\vdb\\Lib\\site-packages\\sklearn\\cluster\\_kmeans.py:1419: UserWarning: KMeans is known to have a memory leak on Windows with MKL, when there are less chunks than available threads. You can avoid it by setting the environment variable OMP_NUM_THREADS=1.\n",
      "  warnings.warn(\n",
      "c:\\Users\\TimoAntoniak\\miniconda3\\envs\\vdb\\Lib\\site-packages\\sklearn\\cluster\\_kmeans.py:1419: UserWarning: KMeans is known to have a memory leak on Windows with MKL, when there are less chunks than available threads. You can avoid it by setting the environment variable OMP_NUM_THREADS=1.\n",
      "  warnings.warn(\n",
      "c:\\Users\\TimoAntoniak\\miniconda3\\envs\\vdb\\Lib\\site-packages\\sklearn\\cluster\\_kmeans.py:1419: UserWarning: KMeans is known to have a memory leak on Windows with MKL, when there are less chunks than available threads. You can avoid it by setting the environment variable OMP_NUM_THREADS=1.\n",
      "  warnings.warn(\n",
      "c:\\Users\\TimoAntoniak\\miniconda3\\envs\\vdb\\Lib\\site-packages\\sklearn\\cluster\\_kmeans.py:1419: UserWarning: KMeans is known to have a memory leak on Windows with MKL, when there are less chunks than available threads. You can avoid it by setting the environment variable OMP_NUM_THREADS=1.\n",
      "  warnings.warn(\n",
      "c:\\Users\\TimoAntoniak\\miniconda3\\envs\\vdb\\Lib\\site-packages\\sklearn\\cluster\\_kmeans.py:1419: UserWarning: KMeans is known to have a memory leak on Windows with MKL, when there are less chunks than available threads. You can avoid it by setting the environment variable OMP_NUM_THREADS=1.\n",
      "  warnings.warn(\n",
      "c:\\Users\\TimoAntoniak\\miniconda3\\envs\\vdb\\Lib\\site-packages\\sklearn\\cluster\\_kmeans.py:1419: UserWarning: KMeans is known to have a memory leak on Windows with MKL, when there are less chunks than available threads. You can avoid it by setting the environment variable OMP_NUM_THREADS=1.\n",
      "  warnings.warn(\n",
      "c:\\Users\\TimoAntoniak\\miniconda3\\envs\\vdb\\Lib\\site-packages\\sklearn\\cluster\\_kmeans.py:1419: UserWarning: KMeans is known to have a memory leak on Windows with MKL, when there are less chunks than available threads. You can avoid it by setting the environment variable OMP_NUM_THREADS=1.\n",
      "  warnings.warn(\n",
      "c:\\Users\\TimoAntoniak\\miniconda3\\envs\\vdb\\Lib\\site-packages\\sklearn\\cluster\\_kmeans.py:1419: UserWarning: KMeans is known to have a memory leak on Windows with MKL, when there are less chunks than available threads. You can avoid it by setting the environment variable OMP_NUM_THREADS=1.\n",
      "  warnings.warn(\n",
      "c:\\Users\\TimoAntoniak\\miniconda3\\envs\\vdb\\Lib\\site-packages\\sklearn\\cluster\\_kmeans.py:1419: UserWarning: KMeans is known to have a memory leak on Windows with MKL, when there are less chunks than available threads. You can avoid it by setting the environment variable OMP_NUM_THREADS=1.\n",
      "  warnings.warn(\n",
      "c:\\Users\\TimoAntoniak\\miniconda3\\envs\\vdb\\Lib\\site-packages\\sklearn\\cluster\\_kmeans.py:1419: UserWarning: KMeans is known to have a memory leak on Windows with MKL, when there are less chunks than available threads. You can avoid it by setting the environment variable OMP_NUM_THREADS=1.\n",
      "  warnings.warn(\n",
      "c:\\Users\\TimoAntoniak\\miniconda3\\envs\\vdb\\Lib\\site-packages\\sklearn\\cluster\\_kmeans.py:1419: UserWarning: KMeans is known to have a memory leak on Windows with MKL, when there are less chunks than available threads. You can avoid it by setting the environment variable OMP_NUM_THREADS=1.\n",
      "  warnings.warn(\n",
      "c:\\Users\\TimoAntoniak\\miniconda3\\envs\\vdb\\Lib\\site-packages\\sklearn\\cluster\\_kmeans.py:1419: UserWarning: KMeans is known to have a memory leak on Windows with MKL, when there are less chunks than available threads. You can avoid it by setting the environment variable OMP_NUM_THREADS=1.\n",
      "  warnings.warn(\n",
      "c:\\Users\\TimoAntoniak\\miniconda3\\envs\\vdb\\Lib\\site-packages\\sklearn\\cluster\\_kmeans.py:1419: UserWarning: KMeans is known to have a memory leak on Windows with MKL, when there are less chunks than available threads. You can avoid it by setting the environment variable OMP_NUM_THREADS=1.\n",
      "  warnings.warn(\n",
      "c:\\Users\\TimoAntoniak\\miniconda3\\envs\\vdb\\Lib\\site-packages\\sklearn\\cluster\\_kmeans.py:1419: UserWarning: KMeans is known to have a memory leak on Windows with MKL, when there are less chunks than available threads. You can avoid it by setting the environment variable OMP_NUM_THREADS=1.\n",
      "  warnings.warn(\n",
      "c:\\Users\\TimoAntoniak\\miniconda3\\envs\\vdb\\Lib\\site-packages\\sklearn\\cluster\\_kmeans.py:1419: UserWarning: KMeans is known to have a memory leak on Windows with MKL, when there are less chunks than available threads. You can avoid it by setting the environment variable OMP_NUM_THREADS=1.\n",
      "  warnings.warn(\n",
      "c:\\Users\\TimoAntoniak\\miniconda3\\envs\\vdb\\Lib\\site-packages\\sklearn\\cluster\\_kmeans.py:1419: UserWarning: KMeans is known to have a memory leak on Windows with MKL, when there are less chunks than available threads. You can avoid it by setting the environment variable OMP_NUM_THREADS=1.\n",
      "  warnings.warn(\n",
      "c:\\Users\\TimoAntoniak\\miniconda3\\envs\\vdb\\Lib\\site-packages\\sklearn\\cluster\\_kmeans.py:1419: UserWarning: KMeans is known to have a memory leak on Windows with MKL, when there are less chunks than available threads. You can avoid it by setting the environment variable OMP_NUM_THREADS=1.\n",
      "  warnings.warn(\n",
      "c:\\Users\\TimoAntoniak\\miniconda3\\envs\\vdb\\Lib\\site-packages\\sklearn\\cluster\\_kmeans.py:1419: UserWarning: KMeans is known to have a memory leak on Windows with MKL, when there are less chunks than available threads. You can avoid it by setting the environment variable OMP_NUM_THREADS=1.\n",
      "  warnings.warn(\n",
      "c:\\Users\\TimoAntoniak\\miniconda3\\envs\\vdb\\Lib\\site-packages\\sklearn\\cluster\\_kmeans.py:1419: UserWarning: KMeans is known to have a memory leak on Windows with MKL, when there are less chunks than available threads. You can avoid it by setting the environment variable OMP_NUM_THREADS=1.\n",
      "  warnings.warn(\n",
      "c:\\Users\\TimoAntoniak\\miniconda3\\envs\\vdb\\Lib\\site-packages\\sklearn\\cluster\\_kmeans.py:1419: UserWarning: KMeans is known to have a memory leak on Windows with MKL, when there are less chunks than available threads. You can avoid it by setting the environment variable OMP_NUM_THREADS=1.\n",
      "  warnings.warn(\n",
      "c:\\Users\\TimoAntoniak\\miniconda3\\envs\\vdb\\Lib\\site-packages\\sklearn\\cluster\\_kmeans.py:1419: UserWarning: KMeans is known to have a memory leak on Windows with MKL, when there are less chunks than available threads. You can avoid it by setting the environment variable OMP_NUM_THREADS=1.\n",
      "  warnings.warn(\n",
      "c:\\Users\\TimoAntoniak\\miniconda3\\envs\\vdb\\Lib\\site-packages\\sklearn\\cluster\\_kmeans.py:1419: UserWarning: KMeans is known to have a memory leak on Windows with MKL, when there are less chunks than available threads. You can avoid it by setting the environment variable OMP_NUM_THREADS=1.\n",
      "  warnings.warn(\n",
      "c:\\Users\\TimoAntoniak\\miniconda3\\envs\\vdb\\Lib\\site-packages\\sklearn\\cluster\\_kmeans.py:1419: UserWarning: KMeans is known to have a memory leak on Windows with MKL, when there are less chunks than available threads. You can avoid it by setting the environment variable OMP_NUM_THREADS=1.\n",
      "  warnings.warn(\n",
      "c:\\Users\\TimoAntoniak\\miniconda3\\envs\\vdb\\Lib\\site-packages\\sklearn\\cluster\\_kmeans.py:1419: UserWarning: KMeans is known to have a memory leak on Windows with MKL, when there are less chunks than available threads. You can avoid it by setting the environment variable OMP_NUM_THREADS=1.\n",
      "  warnings.warn(\n",
      "c:\\Users\\TimoAntoniak\\miniconda3\\envs\\vdb\\Lib\\site-packages\\sklearn\\cluster\\_kmeans.py:1419: UserWarning: KMeans is known to have a memory leak on Windows with MKL, when there are less chunks than available threads. You can avoid it by setting the environment variable OMP_NUM_THREADS=1.\n",
      "  warnings.warn(\n",
      "c:\\Users\\TimoAntoniak\\miniconda3\\envs\\vdb\\Lib\\site-packages\\sklearn\\cluster\\_kmeans.py:1419: UserWarning: KMeans is known to have a memory leak on Windows with MKL, when there are less chunks than available threads. You can avoid it by setting the environment variable OMP_NUM_THREADS=1.\n",
      "  warnings.warn(\n",
      "c:\\Users\\TimoAntoniak\\miniconda3\\envs\\vdb\\Lib\\site-packages\\sklearn\\cluster\\_kmeans.py:1419: UserWarning: KMeans is known to have a memory leak on Windows with MKL, when there are less chunks than available threads. You can avoid it by setting the environment variable OMP_NUM_THREADS=1.\n",
      "  warnings.warn(\n",
      "c:\\Users\\TimoAntoniak\\miniconda3\\envs\\vdb\\Lib\\site-packages\\sklearn\\cluster\\_kmeans.py:1419: UserWarning: KMeans is known to have a memory leak on Windows with MKL, when there are less chunks than available threads. You can avoid it by setting the environment variable OMP_NUM_THREADS=1.\n",
      "  warnings.warn(\n",
      "c:\\Users\\TimoAntoniak\\miniconda3\\envs\\vdb\\Lib\\site-packages\\sklearn\\cluster\\_kmeans.py:1419: UserWarning: KMeans is known to have a memory leak on Windows with MKL, when there are less chunks than available threads. You can avoid it by setting the environment variable OMP_NUM_THREADS=1.\n",
      "  warnings.warn(\n",
      "c:\\Users\\TimoAntoniak\\miniconda3\\envs\\vdb\\Lib\\site-packages\\sklearn\\cluster\\_kmeans.py:1419: UserWarning: KMeans is known to have a memory leak on Windows with MKL, when there are less chunks than available threads. You can avoid it by setting the environment variable OMP_NUM_THREADS=1.\n",
      "  warnings.warn(\n",
      "c:\\Users\\TimoAntoniak\\miniconda3\\envs\\vdb\\Lib\\site-packages\\sklearn\\cluster\\_kmeans.py:1419: UserWarning: KMeans is known to have a memory leak on Windows with MKL, when there are less chunks than available threads. You can avoid it by setting the environment variable OMP_NUM_THREADS=1.\n",
      "  warnings.warn(\n",
      "c:\\Users\\TimoAntoniak\\miniconda3\\envs\\vdb\\Lib\\site-packages\\sklearn\\cluster\\_kmeans.py:1419: UserWarning: KMeans is known to have a memory leak on Windows with MKL, when there are less chunks than available threads. You can avoid it by setting the environment variable OMP_NUM_THREADS=1.\n",
      "  warnings.warn(\n",
      "c:\\Users\\TimoAntoniak\\miniconda3\\envs\\vdb\\Lib\\site-packages\\sklearn\\cluster\\_kmeans.py:1419: UserWarning: KMeans is known to have a memory leak on Windows with MKL, when there are less chunks than available threads. You can avoid it by setting the environment variable OMP_NUM_THREADS=1.\n",
      "  warnings.warn(\n",
      "c:\\Users\\TimoAntoniak\\miniconda3\\envs\\vdb\\Lib\\site-packages\\sklearn\\cluster\\_kmeans.py:1419: UserWarning: KMeans is known to have a memory leak on Windows with MKL, when there are less chunks than available threads. You can avoid it by setting the environment variable OMP_NUM_THREADS=1.\n",
      "  warnings.warn(\n",
      "c:\\Users\\TimoAntoniak\\miniconda3\\envs\\vdb\\Lib\\site-packages\\sklearn\\cluster\\_kmeans.py:1419: UserWarning: KMeans is known to have a memory leak on Windows with MKL, when there are less chunks than available threads. You can avoid it by setting the environment variable OMP_NUM_THREADS=1.\n",
      "  warnings.warn(\n",
      "c:\\Users\\TimoAntoniak\\miniconda3\\envs\\vdb\\Lib\\site-packages\\sklearn\\cluster\\_kmeans.py:1419: UserWarning: KMeans is known to have a memory leak on Windows with MKL, when there are less chunks than available threads. You can avoid it by setting the environment variable OMP_NUM_THREADS=1.\n",
      "  warnings.warn(\n",
      "c:\\Users\\TimoAntoniak\\miniconda3\\envs\\vdb\\Lib\\site-packages\\sklearn\\cluster\\_kmeans.py:1419: UserWarning: KMeans is known to have a memory leak on Windows with MKL, when there are less chunks than available threads. You can avoid it by setting the environment variable OMP_NUM_THREADS=1.\n",
      "  warnings.warn(\n",
      "c:\\Users\\TimoAntoniak\\miniconda3\\envs\\vdb\\Lib\\site-packages\\sklearn\\cluster\\_kmeans.py:1419: UserWarning: KMeans is known to have a memory leak on Windows with MKL, when there are less chunks than available threads. You can avoid it by setting the environment variable OMP_NUM_THREADS=1.\n",
      "  warnings.warn(\n",
      "c:\\Users\\TimoAntoniak\\miniconda3\\envs\\vdb\\Lib\\site-packages\\sklearn\\cluster\\_kmeans.py:1419: UserWarning: KMeans is known to have a memory leak on Windows with MKL, when there are less chunks than available threads. You can avoid it by setting the environment variable OMP_NUM_THREADS=1.\n",
      "  warnings.warn(\n",
      "c:\\Users\\TimoAntoniak\\miniconda3\\envs\\vdb\\Lib\\site-packages\\sklearn\\cluster\\_kmeans.py:1419: UserWarning: KMeans is known to have a memory leak on Windows with MKL, when there are less chunks than available threads. You can avoid it by setting the environment variable OMP_NUM_THREADS=1.\n",
      "  warnings.warn(\n",
      "c:\\Users\\TimoAntoniak\\miniconda3\\envs\\vdb\\Lib\\site-packages\\sklearn\\cluster\\_kmeans.py:1419: UserWarning: KMeans is known to have a memory leak on Windows with MKL, when there are less chunks than available threads. You can avoid it by setting the environment variable OMP_NUM_THREADS=1.\n",
      "  warnings.warn(\n",
      "c:\\Users\\TimoAntoniak\\miniconda3\\envs\\vdb\\Lib\\site-packages\\sklearn\\cluster\\_kmeans.py:1419: UserWarning: KMeans is known to have a memory leak on Windows with MKL, when there are less chunks than available threads. You can avoid it by setting the environment variable OMP_NUM_THREADS=1.\n",
      "  warnings.warn(\n",
      "c:\\Users\\TimoAntoniak\\miniconda3\\envs\\vdb\\Lib\\site-packages\\sklearn\\cluster\\_kmeans.py:1419: UserWarning: KMeans is known to have a memory leak on Windows with MKL, when there are less chunks than available threads. You can avoid it by setting the environment variable OMP_NUM_THREADS=1.\n",
      "  warnings.warn(\n",
      "c:\\Users\\TimoAntoniak\\miniconda3\\envs\\vdb\\Lib\\site-packages\\sklearn\\cluster\\_kmeans.py:1419: UserWarning: KMeans is known to have a memory leak on Windows with MKL, when there are less chunks than available threads. You can avoid it by setting the environment variable OMP_NUM_THREADS=1.\n",
      "  warnings.warn(\n",
      "c:\\Users\\TimoAntoniak\\miniconda3\\envs\\vdb\\Lib\\site-packages\\sklearn\\cluster\\_kmeans.py:1419: UserWarning: KMeans is known to have a memory leak on Windows with MKL, when there are less chunks than available threads. You can avoid it by setting the environment variable OMP_NUM_THREADS=1.\n",
      "  warnings.warn(\n",
      "c:\\Users\\TimoAntoniak\\miniconda3\\envs\\vdb\\Lib\\site-packages\\sklearn\\cluster\\_kmeans.py:1419: UserWarning: KMeans is known to have a memory leak on Windows with MKL, when there are less chunks than available threads. You can avoid it by setting the environment variable OMP_NUM_THREADS=1.\n",
      "  warnings.warn(\n",
      "c:\\Users\\TimoAntoniak\\miniconda3\\envs\\vdb\\Lib\\site-packages\\sklearn\\cluster\\_kmeans.py:1419: UserWarning: KMeans is known to have a memory leak on Windows with MKL, when there are less chunks than available threads. You can avoid it by setting the environment variable OMP_NUM_THREADS=1.\n",
      "  warnings.warn(\n",
      "c:\\Users\\TimoAntoniak\\miniconda3\\envs\\vdb\\Lib\\site-packages\\sklearn\\cluster\\_kmeans.py:1419: UserWarning: KMeans is known to have a memory leak on Windows with MKL, when there are less chunks than available threads. You can avoid it by setting the environment variable OMP_NUM_THREADS=1.\n",
      "  warnings.warn(\n",
      "c:\\Users\\TimoAntoniak\\miniconda3\\envs\\vdb\\Lib\\site-packages\\sklearn\\cluster\\_kmeans.py:1419: UserWarning: KMeans is known to have a memory leak on Windows with MKL, when there are less chunks than available threads. You can avoid it by setting the environment variable OMP_NUM_THREADS=1.\n",
      "  warnings.warn(\n",
      "c:\\Users\\TimoAntoniak\\miniconda3\\envs\\vdb\\Lib\\site-packages\\sklearn\\cluster\\_kmeans.py:1419: UserWarning: KMeans is known to have a memory leak on Windows with MKL, when there are less chunks than available threads. You can avoid it by setting the environment variable OMP_NUM_THREADS=1.\n",
      "  warnings.warn(\n",
      "c:\\Users\\TimoAntoniak\\miniconda3\\envs\\vdb\\Lib\\site-packages\\sklearn\\cluster\\_kmeans.py:1419: UserWarning: KMeans is known to have a memory leak on Windows with MKL, when there are less chunks than available threads. You can avoid it by setting the environment variable OMP_NUM_THREADS=1.\n",
      "  warnings.warn(\n",
      "c:\\Users\\TimoAntoniak\\miniconda3\\envs\\vdb\\Lib\\site-packages\\sklearn\\cluster\\_kmeans.py:1419: UserWarning: KMeans is known to have a memory leak on Windows with MKL, when there are less chunks than available threads. You can avoid it by setting the environment variable OMP_NUM_THREADS=1.\n",
      "  warnings.warn(\n",
      "c:\\Users\\TimoAntoniak\\miniconda3\\envs\\vdb\\Lib\\site-packages\\sklearn\\cluster\\_kmeans.py:1419: UserWarning: KMeans is known to have a memory leak on Windows with MKL, when there are less chunks than available threads. You can avoid it by setting the environment variable OMP_NUM_THREADS=1.\n",
      "  warnings.warn(\n",
      "c:\\Users\\TimoAntoniak\\miniconda3\\envs\\vdb\\Lib\\site-packages\\sklearn\\cluster\\_kmeans.py:1419: UserWarning: KMeans is known to have a memory leak on Windows with MKL, when there are less chunks than available threads. You can avoid it by setting the environment variable OMP_NUM_THREADS=1.\n",
      "  warnings.warn(\n",
      "c:\\Users\\TimoAntoniak\\miniconda3\\envs\\vdb\\Lib\\site-packages\\sklearn\\cluster\\_kmeans.py:1419: UserWarning: KMeans is known to have a memory leak on Windows with MKL, when there are less chunks than available threads. You can avoid it by setting the environment variable OMP_NUM_THREADS=1.\n",
      "  warnings.warn(\n",
      "c:\\Users\\TimoAntoniak\\miniconda3\\envs\\vdb\\Lib\\site-packages\\sklearn\\cluster\\_kmeans.py:1419: UserWarning: KMeans is known to have a memory leak on Windows with MKL, when there are less chunks than available threads. You can avoid it by setting the environment variable OMP_NUM_THREADS=1.\n",
      "  warnings.warn(\n",
      "c:\\Users\\TimoAntoniak\\miniconda3\\envs\\vdb\\Lib\\site-packages\\sklearn\\cluster\\_kmeans.py:1419: UserWarning: KMeans is known to have a memory leak on Windows with MKL, when there are less chunks than available threads. You can avoid it by setting the environment variable OMP_NUM_THREADS=1.\n",
      "  warnings.warn(\n",
      "c:\\Users\\TimoAntoniak\\miniconda3\\envs\\vdb\\Lib\\site-packages\\sklearn\\cluster\\_kmeans.py:1419: UserWarning: KMeans is known to have a memory leak on Windows with MKL, when there are less chunks than available threads. You can avoid it by setting the environment variable OMP_NUM_THREADS=1.\n",
      "  warnings.warn(\n",
      "c:\\Users\\TimoAntoniak\\miniconda3\\envs\\vdb\\Lib\\site-packages\\sklearn\\cluster\\_kmeans.py:1419: UserWarning: KMeans is known to have a memory leak on Windows with MKL, when there are less chunks than available threads. You can avoid it by setting the environment variable OMP_NUM_THREADS=1.\n",
      "  warnings.warn(\n",
      "c:\\Users\\TimoAntoniak\\miniconda3\\envs\\vdb\\Lib\\site-packages\\sklearn\\cluster\\_kmeans.py:1419: UserWarning: KMeans is known to have a memory leak on Windows with MKL, when there are less chunks than available threads. You can avoid it by setting the environment variable OMP_NUM_THREADS=1.\n",
      "  warnings.warn(\n",
      "c:\\Users\\TimoAntoniak\\miniconda3\\envs\\vdb\\Lib\\site-packages\\sklearn\\cluster\\_kmeans.py:1419: UserWarning: KMeans is known to have a memory leak on Windows with MKL, when there are less chunks than available threads. You can avoid it by setting the environment variable OMP_NUM_THREADS=1.\n",
      "  warnings.warn(\n",
      "c:\\Users\\TimoAntoniak\\miniconda3\\envs\\vdb\\Lib\\site-packages\\sklearn\\cluster\\_kmeans.py:1419: UserWarning: KMeans is known to have a memory leak on Windows with MKL, when there are less chunks than available threads. You can avoid it by setting the environment variable OMP_NUM_THREADS=1.\n",
      "  warnings.warn(\n",
      "c:\\Users\\TimoAntoniak\\miniconda3\\envs\\vdb\\Lib\\site-packages\\sklearn\\cluster\\_kmeans.py:1419: UserWarning: KMeans is known to have a memory leak on Windows with MKL, when there are less chunks than available threads. You can avoid it by setting the environment variable OMP_NUM_THREADS=1.\n",
      "  warnings.warn(\n",
      "c:\\Users\\TimoAntoniak\\miniconda3\\envs\\vdb\\Lib\\site-packages\\sklearn\\cluster\\_kmeans.py:1419: UserWarning: KMeans is known to have a memory leak on Windows with MKL, when there are less chunks than available threads. You can avoid it by setting the environment variable OMP_NUM_THREADS=1.\n",
      "  warnings.warn(\n",
      "c:\\Users\\TimoAntoniak\\miniconda3\\envs\\vdb\\Lib\\site-packages\\sklearn\\cluster\\_kmeans.py:1419: UserWarning: KMeans is known to have a memory leak on Windows with MKL, when there are less chunks than available threads. You can avoid it by setting the environment variable OMP_NUM_THREADS=1.\n",
      "  warnings.warn(\n",
      "c:\\Users\\TimoAntoniak\\miniconda3\\envs\\vdb\\Lib\\site-packages\\sklearn\\cluster\\_kmeans.py:1419: UserWarning: KMeans is known to have a memory leak on Windows with MKL, when there are less chunks than available threads. You can avoid it by setting the environment variable OMP_NUM_THREADS=1.\n",
      "  warnings.warn(\n",
      "c:\\Users\\TimoAntoniak\\miniconda3\\envs\\vdb\\Lib\\site-packages\\sklearn\\cluster\\_kmeans.py:1419: UserWarning: KMeans is known to have a memory leak on Windows with MKL, when there are less chunks than available threads. You can avoid it by setting the environment variable OMP_NUM_THREADS=1.\n",
      "  warnings.warn(\n",
      "c:\\Users\\TimoAntoniak\\miniconda3\\envs\\vdb\\Lib\\site-packages\\sklearn\\cluster\\_kmeans.py:1419: UserWarning: KMeans is known to have a memory leak on Windows with MKL, when there are less chunks than available threads. You can avoid it by setting the environment variable OMP_NUM_THREADS=1.\n",
      "  warnings.warn(\n",
      "c:\\Users\\TimoAntoniak\\miniconda3\\envs\\vdb\\Lib\\site-packages\\sklearn\\cluster\\_kmeans.py:1419: UserWarning: KMeans is known to have a memory leak on Windows with MKL, when there are less chunks than available threads. You can avoid it by setting the environment variable OMP_NUM_THREADS=1.\n",
      "  warnings.warn(\n",
      "c:\\Users\\TimoAntoniak\\miniconda3\\envs\\vdb\\Lib\\site-packages\\sklearn\\cluster\\_kmeans.py:1419: UserWarning: KMeans is known to have a memory leak on Windows with MKL, when there are less chunks than available threads. You can avoid it by setting the environment variable OMP_NUM_THREADS=1.\n",
      "  warnings.warn(\n",
      "c:\\Users\\TimoAntoniak\\miniconda3\\envs\\vdb\\Lib\\site-packages\\sklearn\\cluster\\_kmeans.py:1419: UserWarning: KMeans is known to have a memory leak on Windows with MKL, when there are less chunks than available threads. You can avoid it by setting the environment variable OMP_NUM_THREADS=1.\n",
      "  warnings.warn(\n",
      "c:\\Users\\TimoAntoniak\\miniconda3\\envs\\vdb\\Lib\\site-packages\\sklearn\\cluster\\_kmeans.py:1419: UserWarning: KMeans is known to have a memory leak on Windows with MKL, when there are less chunks than available threads. You can avoid it by setting the environment variable OMP_NUM_THREADS=1.\n",
      "  warnings.warn(\n",
      "c:\\Users\\TimoAntoniak\\miniconda3\\envs\\vdb\\Lib\\site-packages\\sklearn\\cluster\\_kmeans.py:1419: UserWarning: KMeans is known to have a memory leak on Windows with MKL, when there are less chunks than available threads. You can avoid it by setting the environment variable OMP_NUM_THREADS=1.\n",
      "  warnings.warn(\n",
      "c:\\Users\\TimoAntoniak\\miniconda3\\envs\\vdb\\Lib\\site-packages\\sklearn\\cluster\\_kmeans.py:1419: UserWarning: KMeans is known to have a memory leak on Windows with MKL, when there are less chunks than available threads. You can avoid it by setting the environment variable OMP_NUM_THREADS=1.\n",
      "  warnings.warn(\n",
      "c:\\Users\\TimoAntoniak\\miniconda3\\envs\\vdb\\Lib\\site-packages\\sklearn\\cluster\\_kmeans.py:1419: UserWarning: KMeans is known to have a memory leak on Windows with MKL, when there are less chunks than available threads. You can avoid it by setting the environment variable OMP_NUM_THREADS=1.\n",
      "  warnings.warn(\n",
      "c:\\Users\\TimoAntoniak\\miniconda3\\envs\\vdb\\Lib\\site-packages\\sklearn\\cluster\\_kmeans.py:1419: UserWarning: KMeans is known to have a memory leak on Windows with MKL, when there are less chunks than available threads. You can avoid it by setting the environment variable OMP_NUM_THREADS=1.\n",
      "  warnings.warn(\n",
      "c:\\Users\\TimoAntoniak\\miniconda3\\envs\\vdb\\Lib\\site-packages\\sklearn\\cluster\\_kmeans.py:1419: UserWarning: KMeans is known to have a memory leak on Windows with MKL, when there are less chunks than available threads. You can avoid it by setting the environment variable OMP_NUM_THREADS=1.\n",
      "  warnings.warn(\n",
      "c:\\Users\\TimoAntoniak\\miniconda3\\envs\\vdb\\Lib\\site-packages\\sklearn\\cluster\\_kmeans.py:1419: UserWarning: KMeans is known to have a memory leak on Windows with MKL, when there are less chunks than available threads. You can avoid it by setting the environment variable OMP_NUM_THREADS=1.\n",
      "  warnings.warn(\n",
      "c:\\Users\\TimoAntoniak\\miniconda3\\envs\\vdb\\Lib\\site-packages\\sklearn\\cluster\\_kmeans.py:1419: UserWarning: KMeans is known to have a memory leak on Windows with MKL, when there are less chunks than available threads. You can avoid it by setting the environment variable OMP_NUM_THREADS=1.\n",
      "  warnings.warn(\n",
      "c:\\Users\\TimoAntoniak\\miniconda3\\envs\\vdb\\Lib\\site-packages\\sklearn\\cluster\\_kmeans.py:1419: UserWarning: KMeans is known to have a memory leak on Windows with MKL, when there are less chunks than available threads. You can avoid it by setting the environment variable OMP_NUM_THREADS=1.\n",
      "  warnings.warn(\n",
      "c:\\Users\\TimoAntoniak\\miniconda3\\envs\\vdb\\Lib\\site-packages\\sklearn\\cluster\\_kmeans.py:1419: UserWarning: KMeans is known to have a memory leak on Windows with MKL, when there are less chunks than available threads. You can avoid it by setting the environment variable OMP_NUM_THREADS=1.\n",
      "  warnings.warn(\n",
      "c:\\Users\\TimoAntoniak\\miniconda3\\envs\\vdb\\Lib\\site-packages\\sklearn\\cluster\\_kmeans.py:1419: UserWarning: KMeans is known to have a memory leak on Windows with MKL, when there are less chunks than available threads. You can avoid it by setting the environment variable OMP_NUM_THREADS=1.\n",
      "  warnings.warn(\n",
      "c:\\Users\\TimoAntoniak\\miniconda3\\envs\\vdb\\Lib\\site-packages\\sklearn\\cluster\\_kmeans.py:1419: UserWarning: KMeans is known to have a memory leak on Windows with MKL, when there are less chunks than available threads. You can avoid it by setting the environment variable OMP_NUM_THREADS=1.\n",
      "  warnings.warn(\n",
      "c:\\Users\\TimoAntoniak\\miniconda3\\envs\\vdb\\Lib\\site-packages\\sklearn\\cluster\\_kmeans.py:1419: UserWarning: KMeans is known to have a memory leak on Windows with MKL, when there are less chunks than available threads. You can avoid it by setting the environment variable OMP_NUM_THREADS=1.\n",
      "  warnings.warn(\n",
      "c:\\Users\\TimoAntoniak\\miniconda3\\envs\\vdb\\Lib\\site-packages\\sklearn\\cluster\\_kmeans.py:1419: UserWarning: KMeans is known to have a memory leak on Windows with MKL, when there are less chunks than available threads. You can avoid it by setting the environment variable OMP_NUM_THREADS=1.\n",
      "  warnings.warn(\n"
     ]
    }
   ],
   "source": [
    "from sklearn.cluster import KMeans\n",
    "from scipy.spatial.distance import cdist\n",
    "\n",
    "distortions = []\n",
    "inertias = []\n",
    "mapping1 = {}\n",
    "mapping2 = {}\n",
    "K = range(1, 200)\n",
    "\n",
    "for k in K:\n",
    "    kmeanModel = KMeans(n_clusters=k, random_state=42).fit(embeddings_np)\n",
    "    distortions.append(sum(np.min(cdist(embeddings_np, kmeanModel.cluster_centers_, 'euclidean'), axis=1)**2) / embeddings_np.shape[0])\n",
    "    inertias.append(kmeanModel.inertia_)\n",
    "    mapping1[k] = distortions[-1]\n",
    "    mapping2[k] = inertias[-1]"
   ]
  },
  {
   "cell_type": "code",
   "execution_count": 37,
   "id": "670b1036",
   "metadata": {},
   "outputs": [
    {
     "name": "stdout",
     "output_type": "stream",
     "text": [
      "Distortion values:\n",
      "1 : 0.6628633918040897\n",
      "2 : 0.6260779519648806\n",
      "3 : 0.6092985524640441\n",
      "4 : 0.5883266418379196\n",
      "5 : 0.5720777020865835\n",
      "6 : 0.5643905867539661\n",
      "7 : 0.5387897503065759\n",
      "8 : 0.5212507876665348\n",
      "9 : 0.5126278290797435\n",
      "10 : 0.5046011673606129\n",
      "11 : 0.4947472431613073\n",
      "12 : 0.48498693228238393\n",
      "13 : 0.46781401066295486\n",
      "14 : 0.4608819719547623\n",
      "15 : 0.4525900359263274\n",
      "16 : 0.4487408884349147\n",
      "17 : 0.43537680716604216\n",
      "18 : 0.43058478808238937\n",
      "19 : 0.41901887211859434\n",
      "20 : 0.41186905527374595\n",
      "21 : 0.41484949623501655\n",
      "22 : 0.40079611018260225\n",
      "23 : 0.39362942272972884\n",
      "24 : 0.38774159707602984\n",
      "25 : 0.3836564802025323\n",
      "26 : 0.377264604331896\n",
      "27 : 0.373625186069854\n",
      "28 : 0.3702841964899511\n",
      "29 : 0.3680159105578706\n",
      "30 : 0.36099998140301687\n",
      "31 : 0.3504622363573331\n",
      "32 : 0.3477657696007855\n",
      "33 : 0.34833841444235825\n",
      "34 : 0.3429321233391571\n",
      "35 : 0.340860340047313\n",
      "36 : 0.34026215496481405\n",
      "37 : 0.3343810945137485\n",
      "38 : 0.32976126961588226\n",
      "39 : 0.32486608324075267\n",
      "40 : 0.31724518098183563\n",
      "41 : 0.31187109767717597\n",
      "42 : 0.3108300898087524\n",
      "43 : 0.30748738982852797\n",
      "44 : 0.305718310882614\n",
      "45 : 0.3023937387234542\n",
      "46 : 0.29996426042330976\n",
      "47 : 0.2952074701372887\n",
      "48 : 0.29101722388434037\n",
      "49 : 0.2871339516550119\n",
      "50 : 0.28497014876364385\n",
      "51 : 0.28077807149045564\n",
      "52 : 0.27703972553335277\n",
      "53 : 0.2747304418176621\n",
      "54 : 0.27276297171902375\n",
      "55 : 0.27188093009277636\n",
      "56 : 0.26899447331404464\n",
      "57 : 0.26190456701641684\n",
      "58 : 0.25842449614753293\n",
      "59 : 0.2559032677322207\n",
      "60 : 0.253293581284679\n",
      "61 : 0.25127292274369684\n",
      "62 : 0.24758977147748548\n",
      "63 : 0.24407906836165064\n",
      "64 : 0.23964410128236333\n",
      "65 : 0.23732414864965728\n",
      "66 : 0.23411184100741184\n",
      "67 : 0.23141606130156\n",
      "68 : 0.22951041093868763\n",
      "69 : 0.2261384031112887\n",
      "70 : 0.223849893909554\n",
      "71 : 0.22029098034171846\n",
      "72 : 0.2187938786095057\n",
      "73 : 0.21656512807730588\n",
      "74 : 0.2139488061521484\n",
      "75 : 0.21091942943289035\n",
      "76 : 0.20745187917171937\n",
      "77 : 0.20511695746470676\n",
      "78 : 0.20393822785330376\n",
      "79 : 0.20142457256719148\n",
      "80 : 0.19946866119518772\n",
      "81 : 0.19778786262611506\n",
      "82 : 0.19524477251019223\n",
      "83 : 0.19264319297521787\n",
      "84 : 0.19005375627051807\n",
      "85 : 0.18698493803974559\n",
      "86 : 0.18485202508111498\n",
      "87 : 0.1824678793307814\n",
      "88 : 0.18098119051520206\n",
      "89 : 0.17737283082518795\n",
      "90 : 0.17504372494734308\n",
      "91 : 0.17269814398521582\n",
      "92 : 0.170890752104612\n",
      "93 : 0.16911064348511926\n",
      "94 : 0.16751219412525686\n",
      "95 : 0.16586488869101684\n",
      "96 : 0.16365270624779754\n",
      "97 : 0.16200137973690873\n",
      "98 : 0.16040479160530016\n",
      "99 : 0.15812685667977497\n",
      "100 : 0.15619174424351379\n",
      "101 : 0.1545509688219775\n",
      "102 : 0.1523474719337834\n",
      "103 : 0.1505581209017011\n",
      "104 : 0.14749370016597316\n",
      "105 : 0.14586518304230928\n",
      "106 : 0.14399353465360476\n",
      "107 : 0.1419386141610209\n",
      "108 : 0.13982683167824633\n",
      "109 : 0.1378839161737018\n",
      "110 : 0.13653954855964354\n",
      "111 : 0.13511296400916098\n",
      "112 : 0.13392448522570954\n",
      "113 : 0.13136051518239691\n",
      "114 : 0.12948710618852868\n",
      "115 : 0.12738414277126664\n",
      "116 : 0.12565933730013248\n",
      "117 : 0.123976509924222\n",
      "118 : 0.12224738131464248\n",
      "119 : 0.12065209432830598\n",
      "120 : 0.11873612396418397\n",
      "121 : 0.11736442544568292\n",
      "122 : 0.11503649769529521\n",
      "123 : 0.11381547030892182\n",
      "124 : 0.11206494446546951\n",
      "125 : 0.10973048977492415\n",
      "126 : 0.10832494929870534\n",
      "127 : 0.10719599605418012\n",
      "128 : 0.1058067581318787\n",
      "129 : 0.10408567287684982\n",
      "130 : 0.10250887426841923\n",
      "131 : 0.10094927649269914\n",
      "132 : 0.09912855750880156\n",
      "133 : 0.09709716463906004\n",
      "134 : 0.09601517930417097\n",
      "135 : 0.09461885128887282\n",
      "136 : 0.09327635721073305\n",
      "137 : 0.09191128085162373\n",
      "138 : 0.09009544733578458\n",
      "139 : 0.08826079674965812\n",
      "140 : 0.08679511709778265\n",
      "141 : 0.0853897247594664\n",
      "142 : 0.08258826484799564\n",
      "143 : 0.08079029901871645\n",
      "144 : 0.07944308043669096\n",
      "145 : 0.0779526927391956\n",
      "146 : 0.07624399718930146\n",
      "147 : 0.07456558941752353\n",
      "148 : 0.0725778548392626\n",
      "149 : 0.07099509990085165\n",
      "150 : 0.06936401867547988\n",
      "151 : 0.0676274868689632\n",
      "152 : 0.06635386234526541\n",
      "153 : 0.06432402402845018\n",
      "154 : 0.06305789046249058\n",
      "155 : 0.06184920801176975\n",
      "156 : 0.06046465562384951\n",
      "157 : 0.059206388358454654\n",
      "158 : 0.05795122036682493\n",
      "159 : 0.0564226093528825\n",
      "160 : 0.05516224126143621\n",
      "161 : 0.05398489944256664\n",
      "162 : 0.05281115316315096\n",
      "163 : 0.05123552237952885\n",
      "164 : 0.0495814876223967\n",
      "165 : 0.047828010005239806\n",
      "166 : 0.04670778346747673\n",
      "167 : 0.04548675608110333\n",
      "168 : 0.04431134201312577\n",
      "169 : 0.04322935667823671\n",
      "170 : 0.04165976242019111\n",
      "171 : 0.04031803661310046\n",
      "172 : 0.03891942858515436\n",
      "173 : 0.037788316651633756\n",
      "174 : 0.03634799734325323\n",
      "175 : 0.03524840238421317\n",
      "176 : 0.034000010124260356\n",
      "177 : 0.0327473741441117\n",
      "178 : 0.03156782188803709\n",
      "179 : 0.030510858616839862\n",
      "180 : 0.029387471056618285\n",
      "181 : 0.028296033522258936\n",
      "182 : 0.026799703132406018\n",
      "183 : 0.025737208501909793\n",
      "184 : 0.024718791029685553\n",
      "185 : 0.02372405921473269\n",
      "186 : 0.0227105187863857\n",
      "187 : 0.021664828785943745\n",
      "188 : 0.02056021220926101\n",
      "189 : 0.0194828674069498\n",
      "190 : 0.018423416787891916\n",
      "191 : 0.017445425068071237\n",
      "192 : 0.016208249696270795\n",
      "193 : 0.015253173806045163\n",
      "194 : 0.014276646881227099\n",
      "195 : 0.013315483232199148\n",
      "196 : 0.012363503062003596\n",
      "197 : 0.011422309976107043\n",
      "198 : 0.010502133124239007\n",
      "199 : 0.009585311230235469\n"
     ]
    },
    {
     "data": {
      "image/png": "[encoded data removed]",
      "text/plain": [
       "<Figure size 640x480 with 1 Axes>"
      ]
     },
     "metadata": {},
     "output_type": "display_data"
    }
   ],
   "source": [
    "import matplotlib.pyplot as plt\n",
    "\n",
    "print(\"Distortion values:\")\n",
    "for key, val in mapping1.items():\n",
    "    print(f'{key} : {val}')\n",
    "\n",
    "plt.plot(K, distortions, 'bx-')\n",
    "plt.xlabel('Number of Clusters (k)')\n",
    "plt.ylabel('Distortion')\n",
    "plt.title('The Elbow Method using Distortion')\n",
    "plt.show()"
   ]
  },
  {
   "cell_type": "code",
   "execution_count": 38,
   "id": "84285cb4",
   "metadata": {},
   "outputs": [
    {
     "name": "stdout",
     "output_type": "stream",
     "text": [
      "Inertia values:\n",
      "1 : 151.13287353515625\n",
      "2 : 142.74575805664062\n",
      "3 : 138.92007446289062\n",
      "4 : 134.1384735107422\n",
      "5 : 130.4337158203125\n",
      "6 : 128.6810760498047\n",
      "7 : 122.84407043457031\n",
      "8 : 118.84518432617188\n",
      "9 : 116.87913513183594\n",
      "10 : 115.04905700683594\n",
      "11 : 112.80237579345703\n",
      "12 : 110.57701110839844\n",
      "13 : 106.66157531738281\n",
      "14 : 105.08106994628906\n",
      "15 : 103.19051361083984\n",
      "16 : 102.31292724609375\n",
      "17 : 99.26590728759766\n",
      "18 : 98.17333221435547\n",
      "19 : 95.53632354736328\n",
      "20 : 93.9061508178711\n",
      "21 : 94.585693359375\n",
      "22 : 91.38150787353516\n",
      "23 : 89.74749755859375\n",
      "24 : 88.40507507324219\n",
      "25 : 87.47367095947266\n",
      "26 : 86.01632690429688\n",
      "27 : 85.1865463256836\n",
      "28 : 84.4247817993164\n",
      "29 : 83.9076156616211\n",
      "30 : 82.30799102783203\n",
      "31 : 79.90538787841797\n",
      "32 : 79.29058837890625\n",
      "33 : 79.4211654663086\n",
      "34 : 78.18852233886719\n",
      "35 : 77.71615600585938\n",
      "36 : 77.57977294921875\n",
      "37 : 76.2388916015625\n",
      "38 : 75.18558502197266\n",
      "39 : 74.0694808959961\n",
      "40 : 72.3319091796875\n",
      "41 : 71.10661315917969\n",
      "42 : 70.8692626953125\n",
      "43 : 70.10712432861328\n",
      "44 : 69.70377349853516\n",
      "45 : 68.9457778930664\n",
      "46 : 68.391845703125\n",
      "47 : 67.30729675292969\n",
      "48 : 66.3519287109375\n",
      "49 : 65.46653747558594\n",
      "50 : 64.97319793701172\n",
      "51 : 64.01740264892578\n",
      "52 : 63.16505813598633\n",
      "53 : 62.6385383605957\n",
      "54 : 62.1899528503418\n",
      "55 : 61.98885726928711\n",
      "56 : 61.33073425292969\n",
      "57 : 59.714237213134766\n",
      "58 : 58.920780181884766\n",
      "59 : 58.345943450927734\n",
      "60 : 57.75094223022461\n",
      "61 : 57.29022979736328\n",
      "62 : 56.45046615600586\n",
      "63 : 55.6500358581543\n",
      "64 : 54.63886260986328\n",
      "65 : 54.10990905761719\n",
      "66 : 53.377506256103516\n",
      "67 : 52.76286697387695\n",
      "68 : 52.3283805847168\n",
      "69 : 51.55956268310547\n",
      "70 : 51.03778076171875\n",
      "71 : 50.226348876953125\n",
      "72 : 49.885009765625\n",
      "73 : 49.376853942871094\n",
      "74 : 48.780330657958984\n",
      "75 : 48.089630126953125\n",
      "76 : 47.29903030395508\n",
      "77 : 46.766666412353516\n",
      "78 : 46.4979133605957\n",
      "79 : 45.9248046875\n",
      "80 : 45.47885513305664\n",
      "81 : 45.09563446044922\n",
      "82 : 44.51580810546875\n",
      "83 : 43.92264938354492\n",
      "84 : 43.33226013183594\n",
      "85 : 42.632564544677734\n",
      "86 : 42.14625930786133\n",
      "87 : 41.60267639160156\n",
      "88 : 41.263710021972656\n",
      "89 : 40.441009521484375\n",
      "90 : 39.90997314453125\n",
      "91 : 39.37518310546875\n",
      "92 : 38.963096618652344\n",
      "93 : 38.557228088378906\n",
      "94 : 38.19278335571289\n",
      "95 : 37.817195892333984\n",
      "96 : 37.31281661987305\n",
      "97 : 36.93631362915039\n",
      "98 : 36.57229232788086\n",
      "99 : 36.052921295166016\n",
      "100 : 35.611717224121094\n",
      "101 : 35.23762130737305\n",
      "102 : 34.73522186279297\n",
      "103 : 34.327247619628906\n",
      "104 : 33.628562927246094\n",
      "105 : 33.25726318359375\n",
      "106 : 32.830528259277344\n",
      "107 : 32.362003326416016\n",
      "108 : 31.880516052246094\n",
      "109 : 31.437532424926758\n",
      "110 : 31.131013870239258\n",
      "111 : 30.805755615234375\n",
      "112 : 30.53478240966797\n",
      "113 : 29.950197219848633\n",
      "114 : 29.523059844970703\n",
      "115 : 29.043582916259766\n",
      "116 : 28.650327682495117\n",
      "117 : 28.26664161682129\n",
      "118 : 27.872400283813477\n",
      "119 : 27.50867462158203\n",
      "120 : 27.071834564208984\n",
      "121 : 26.75908660888672\n",
      "122 : 26.228321075439453\n",
      "123 : 25.949926376342773\n",
      "124 : 25.55080795288086\n",
      "125 : 25.018550872802734\n",
      "126 : 24.69808578491211\n",
      "127 : 24.440685272216797\n",
      "128 : 24.123939514160156\n",
      "129 : 23.73153305053711\n",
      "130 : 23.372024536132812\n",
      "131 : 23.016435623168945\n",
      "132 : 22.60131072998047\n",
      "133 : 22.138154983520508\n",
      "134 : 21.891460418701172\n",
      "135 : 21.573097229003906\n",
      "136 : 21.267009735107422\n",
      "137 : 20.955772399902344\n",
      "138 : 20.541763305664062\n",
      "139 : 20.123464584350586\n",
      "140 : 19.789289474487305\n",
      "141 : 19.468856811523438\n",
      "142 : 18.830123901367188\n",
      "143 : 18.420188903808594\n",
      "144 : 18.113021850585938\n",
      "145 : 17.773212432861328\n",
      "146 : 17.38363265991211\n",
      "147 : 17.000953674316406\n",
      "148 : 16.54775047302246\n",
      "149 : 16.18688201904297\n",
      "150 : 15.814996719360352\n",
      "151 : 15.4190673828125\n",
      "152 : 15.128681182861328\n",
      "153 : 14.665876388549805\n",
      "154 : 14.377199172973633\n",
      "155 : 14.101619720458984\n",
      "156 : 13.785942077636719\n",
      "157 : 13.499055862426758\n",
      "158 : 13.21287727355957\n",
      "159 : 12.864355087280273\n",
      "160 : 12.576991081237793\n",
      "161 : 12.308557510375977\n",
      "162 : 12.04094409942627\n",
      "163 : 11.681699752807617\n",
      "164 : 11.304579734802246\n",
      "165 : 10.904786109924316\n",
      "166 : 10.649374008178711\n",
      "167 : 10.370980262756348\n",
      "168 : 10.102985382080078\n",
      "169 : 9.856292724609375\n",
      "170 : 9.498425483703613\n",
      "171 : 9.192512512207031\n",
      "172 : 8.873629570007324\n",
      "173 : 8.61573600769043\n",
      "174 : 8.287343978881836\n",
      "175 : 8.036636352539062\n",
      "176 : 7.752002239227295\n",
      "177 : 7.46640157699585\n",
      "178 : 7.197463512420654\n",
      "179 : 6.956476211547852\n",
      "180 : 6.700344085693359\n",
      "181 : 6.4514970779418945\n",
      "182 : 6.110332489013672\n",
      "183 : 5.868083477020264\n",
      "184 : 5.635884761810303\n",
      "185 : 5.409085750579834\n",
      "186 : 5.1779985427856445\n",
      "187 : 4.939581394195557\n",
      "188 : 4.6877288818359375\n",
      "189 : 4.442093849182129\n",
      "190 : 4.2005391120910645\n",
      "191 : 3.9775571823120117\n",
      "192 : 3.695481061935425\n",
      "193 : 3.4777238368988037\n",
      "194 : 3.255075454711914\n",
      "195 : 3.0359299182891846\n",
      "196 : 2.818878412246704\n",
      "197 : 2.6042864322662354\n",
      "198 : 2.3944859504699707\n",
      "199 : 2.185450792312622\n"
     ]
    },
    {
     "data": {
      "image/png": "[encoded data removed]",
      "text/plain": [
       "<Figure size 640x480 with 1 Axes>"
      ]
     },
     "metadata": {},
     "output_type": "display_data"
    }
   ],
   "source": [
    "print(\"Inertia values:\")\n",
    "for key, val in mapping2.items():\n",
    "    print(f'{key} : {val}')\n",
    "\n",
    "plt.plot(K, inertias, 'bx-')\n",
    "plt.xlabel('Number of Clusters (k)')\n",
    "plt.ylabel('Inertia')\n",
    "plt.title('The Elbow Method using Inertia')\n",
    "plt.show()"
   ]
  },
  {
   "cell_type": "markdown",
   "id": "e76daa84",
   "metadata": {},
   "source": [
    "### Auswahl der optimalen Clusteranzahl und Clustering der Daten"
   ]
  },
  {
   "cell_type": "markdown",
   "id": "d99a176a",
   "metadata": {},
   "source": [
    "### Bewertung der Clusterqualität mit dem Silhouette-Score"
   ]
  },
  {
   "cell_type": "code",
   "execution_count": 40,
   "id": "e56875b5",
   "metadata": {},
   "outputs": [
    {
     "name": "stderr",
     "output_type": "stream",
     "text": [
      "c:\\Users\\TimoAntoniak\\miniconda3\\envs\\vdb\\Lib\\site-packages\\sklearn\\cluster\\_kmeans.py:1419: UserWarning: KMeans is known to have a memory leak on Windows with MKL, when there are less chunks than available threads. You can avoid it by setting the environment variable OMP_NUM_THREADS=1.\n",
      "  warnings.warn(\n",
      "c:\\Users\\TimoAntoniak\\miniconda3\\envs\\vdb\\Lib\\site-packages\\sklearn\\cluster\\_kmeans.py:1419: UserWarning: KMeans is known to have a memory leak on Windows with MKL, when there are less chunks than available threads. You can avoid it by setting the environment variable OMP_NUM_THREADS=1.\n",
      "  warnings.warn(\n",
      "c:\\Users\\TimoAntoniak\\miniconda3\\envs\\vdb\\Lib\\site-packages\\sklearn\\cluster\\_kmeans.py:1419: UserWarning: KMeans is known to have a memory leak on Windows with MKL, when there are less chunks than available threads. You can avoid it by setting the environment variable OMP_NUM_THREADS=1.\n",
      "  warnings.warn(\n",
      "c:\\Users\\TimoAntoniak\\miniconda3\\envs\\vdb\\Lib\\site-packages\\sklearn\\cluster\\_kmeans.py:1419: UserWarning: KMeans is known to have a memory leak on Windows with MKL, when there are less chunks than available threads. You can avoid it by setting the environment variable OMP_NUM_THREADS=1.\n",
      "  warnings.warn(\n",
      "c:\\Users\\TimoAntoniak\\miniconda3\\envs\\vdb\\Lib\\site-packages\\sklearn\\cluster\\_kmeans.py:1419: UserWarning: KMeans is known to have a memory leak on Windows with MKL, when there are less chunks than available threads. You can avoid it by setting the environment variable OMP_NUM_THREADS=1.\n",
      "  warnings.warn(\n",
      "c:\\Users\\TimoAntoniak\\miniconda3\\envs\\vdb\\Lib\\site-packages\\sklearn\\cluster\\_kmeans.py:1419: UserWarning: KMeans is known to have a memory leak on Windows with MKL, when there are less chunks than available threads. You can avoid it by setting the environment variable OMP_NUM_THREADS=1.\n",
      "  warnings.warn(\n"
     ]
    },
    {
     "name": "stdout",
     "output_type": "stream",
     "text": [
      "k=2: Silhouette-Score=0.0533\n",
      "k=3: Silhouette-Score=0.0444\n",
      "k=4: Silhouette-Score=0.0486\n",
      "k=5: Silhouette-Score=0.0512\n",
      "k=6: Silhouette-Score=0.0491\n",
      "k=7: Silhouette-Score=0.0647\n"
     ]
    },
    {
     "name": "stderr",
     "output_type": "stream",
     "text": [
      "c:\\Users\\TimoAntoniak\\miniconda3\\envs\\vdb\\Lib\\site-packages\\sklearn\\cluster\\_kmeans.py:1419: UserWarning: KMeans is known to have a memory leak on Windows with MKL, when there are less chunks than available threads. You can avoid it by setting the environment variable OMP_NUM_THREADS=1.\n",
      "  warnings.warn(\n",
      "c:\\Users\\TimoAntoniak\\miniconda3\\envs\\vdb\\Lib\\site-packages\\sklearn\\cluster\\_kmeans.py:1419: UserWarning: KMeans is known to have a memory leak on Windows with MKL, when there are less chunks than available threads. You can avoid it by setting the environment variable OMP_NUM_THREADS=1.\n",
      "  warnings.warn(\n",
      "c:\\Users\\TimoAntoniak\\miniconda3\\envs\\vdb\\Lib\\site-packages\\sklearn\\cluster\\_kmeans.py:1419: UserWarning: KMeans is known to have a memory leak on Windows with MKL, when there are less chunks than available threads. You can avoid it by setting the environment variable OMP_NUM_THREADS=1.\n",
      "  warnings.warn(\n",
      "c:\\Users\\TimoAntoniak\\miniconda3\\envs\\vdb\\Lib\\site-packages\\sklearn\\cluster\\_kmeans.py:1419: UserWarning: KMeans is known to have a memory leak on Windows with MKL, when there are less chunks than available threads. You can avoid it by setting the environment variable OMP_NUM_THREADS=1.\n",
      "  warnings.warn(\n",
      "c:\\Users\\TimoAntoniak\\miniconda3\\envs\\vdb\\Lib\\site-packages\\sklearn\\cluster\\_kmeans.py:1419: UserWarning: KMeans is known to have a memory leak on Windows with MKL, when there are less chunks than available threads. You can avoid it by setting the environment variable OMP_NUM_THREADS=1.\n",
      "  warnings.warn(\n",
      "c:\\Users\\TimoAntoniak\\miniconda3\\envs\\vdb\\Lib\\site-packages\\sklearn\\cluster\\_kmeans.py:1419: UserWarning: KMeans is known to have a memory leak on Windows with MKL, when there are less chunks than available threads. You can avoid it by setting the environment variable OMP_NUM_THREADS=1.\n",
      "  warnings.warn(\n"
     ]
    },
    {
     "name": "stdout",
     "output_type": "stream",
     "text": [
      "k=8: Silhouette-Score=0.0711\n",
      "k=9: Silhouette-Score=0.0745\n",
      "k=10: Silhouette-Score=0.0723\n",
      "k=11: Silhouette-Score=0.0757\n",
      "k=12: Silhouette-Score=0.0773\n",
      "k=13: Silhouette-Score=0.0892\n"
     ]
    },
    {
     "name": "stderr",
     "output_type": "stream",
     "text": [
      "c:\\Users\\TimoAntoniak\\miniconda3\\envs\\vdb\\Lib\\site-packages\\sklearn\\cluster\\_kmeans.py:1419: UserWarning: KMeans is known to have a memory leak on Windows with MKL, when there are less chunks than available threads. You can avoid it by setting the environment variable OMP_NUM_THREADS=1.\n",
      "  warnings.warn(\n",
      "c:\\Users\\TimoAntoniak\\miniconda3\\envs\\vdb\\Lib\\site-packages\\sklearn\\cluster\\_kmeans.py:1419: UserWarning: KMeans is known to have a memory leak on Windows with MKL, when there are less chunks than available threads. You can avoid it by setting the environment variable OMP_NUM_THREADS=1.\n",
      "  warnings.warn(\n",
      "c:\\Users\\TimoAntoniak\\miniconda3\\envs\\vdb\\Lib\\site-packages\\sklearn\\cluster\\_kmeans.py:1419: UserWarning: KMeans is known to have a memory leak on Windows with MKL, when there are less chunks than available threads. You can avoid it by setting the environment variable OMP_NUM_THREADS=1.\n",
      "  warnings.warn(\n",
      "c:\\Users\\TimoAntoniak\\miniconda3\\envs\\vdb\\Lib\\site-packages\\sklearn\\cluster\\_kmeans.py:1419: UserWarning: KMeans is known to have a memory leak on Windows with MKL, when there are less chunks than available threads. You can avoid it by setting the environment variable OMP_NUM_THREADS=1.\n",
      "  warnings.warn(\n",
      "c:\\Users\\TimoAntoniak\\miniconda3\\envs\\vdb\\Lib\\site-packages\\sklearn\\cluster\\_kmeans.py:1419: UserWarning: KMeans is known to have a memory leak on Windows with MKL, when there are less chunks than available threads. You can avoid it by setting the environment variable OMP_NUM_THREADS=1.\n",
      "  warnings.warn(\n"
     ]
    },
    {
     "name": "stdout",
     "output_type": "stream",
     "text": [
      "k=14: Silhouette-Score=0.0888\n",
      "k=15: Silhouette-Score=0.0870\n",
      "k=16: Silhouette-Score=0.0840\n",
      "k=17: Silhouette-Score=0.0930\n",
      "k=18: Silhouette-Score=0.0919\n"
     ]
    },
    {
     "name": "stderr",
     "output_type": "stream",
     "text": [
      "c:\\Users\\TimoAntoniak\\miniconda3\\envs\\vdb\\Lib\\site-packages\\sklearn\\cluster\\_kmeans.py:1419: UserWarning: KMeans is known to have a memory leak on Windows with MKL, when there are less chunks than available threads. You can avoid it by setting the environment variable OMP_NUM_THREADS=1.\n",
      "  warnings.warn(\n",
      "c:\\Users\\TimoAntoniak\\miniconda3\\envs\\vdb\\Lib\\site-packages\\sklearn\\cluster\\_kmeans.py:1419: UserWarning: KMeans is known to have a memory leak on Windows with MKL, when there are less chunks than available threads. You can avoid it by setting the environment variable OMP_NUM_THREADS=1.\n",
      "  warnings.warn(\n",
      "c:\\Users\\TimoAntoniak\\miniconda3\\envs\\vdb\\Lib\\site-packages\\sklearn\\cluster\\_kmeans.py:1419: UserWarning: KMeans is known to have a memory leak on Windows with MKL, when there are less chunks than available threads. You can avoid it by setting the environment variable OMP_NUM_THREADS=1.\n",
      "  warnings.warn(\n",
      "c:\\Users\\TimoAntoniak\\miniconda3\\envs\\vdb\\Lib\\site-packages\\sklearn\\cluster\\_kmeans.py:1419: UserWarning: KMeans is known to have a memory leak on Windows with MKL, when there are less chunks than available threads. You can avoid it by setting the environment variable OMP_NUM_THREADS=1.\n",
      "  warnings.warn(\n"
     ]
    },
    {
     "name": "stdout",
     "output_type": "stream",
     "text": [
      "k=19: Silhouette-Score=0.0977\n",
      "k=20: Silhouette-Score=0.1024\n",
      "k=21: Silhouette-Score=0.0948\n",
      "k=22: Silhouette-Score=0.1036\n"
     ]
    },
    {
     "name": "stderr",
     "output_type": "stream",
     "text": [
      "c:\\Users\\TimoAntoniak\\miniconda3\\envs\\vdb\\Lib\\site-packages\\sklearn\\cluster\\_kmeans.py:1419: UserWarning: KMeans is known to have a memory leak on Windows with MKL, when there are less chunks than available threads. You can avoid it by setting the environment variable OMP_NUM_THREADS=1.\n",
      "  warnings.warn(\n",
      "c:\\Users\\TimoAntoniak\\miniconda3\\envs\\vdb\\Lib\\site-packages\\sklearn\\cluster\\_kmeans.py:1419: UserWarning: KMeans is known to have a memory leak on Windows with MKL, when there are less chunks than available threads. You can avoid it by setting the environment variable OMP_NUM_THREADS=1.\n",
      "  warnings.warn(\n",
      "c:\\Users\\TimoAntoniak\\miniconda3\\envs\\vdb\\Lib\\site-packages\\sklearn\\cluster\\_kmeans.py:1419: UserWarning: KMeans is known to have a memory leak on Windows with MKL, when there are less chunks than available threads. You can avoid it by setting the environment variable OMP_NUM_THREADS=1.\n",
      "  warnings.warn(\n",
      "c:\\Users\\TimoAntoniak\\miniconda3\\envs\\vdb\\Lib\\site-packages\\sklearn\\cluster\\_kmeans.py:1419: UserWarning: KMeans is known to have a memory leak on Windows with MKL, when there are less chunks than available threads. You can avoid it by setting the environment variable OMP_NUM_THREADS=1.\n",
      "  warnings.warn(\n"
     ]
    },
    {
     "name": "stdout",
     "output_type": "stream",
     "text": [
      "k=23: Silhouette-Score=0.1033\n",
      "k=24: Silhouette-Score=0.1045\n",
      "k=25: Silhouette-Score=0.1044\n",
      "k=26: Silhouette-Score=0.1084\n",
      "k=27: Silhouette-Score=0.1083\n",
      "k=28: Silhouette-Score=0.1056\n",
      "k=26: Silhouette-Score=0.1084\n",
      "k=27: Silhouette-Score=0.1083\n",
      "k=28: Silhouette-Score=0.1056\n"
     ]
    },
    {
     "name": "stderr",
     "output_type": "stream",
     "text": [
      "c:\\Users\\TimoAntoniak\\miniconda3\\envs\\vdb\\Lib\\site-packages\\sklearn\\cluster\\_kmeans.py:1419: UserWarning: KMeans is known to have a memory leak on Windows with MKL, when there are less chunks than available threads. You can avoid it by setting the environment variable OMP_NUM_THREADS=1.\n",
      "  warnings.warn(\n",
      "c:\\Users\\TimoAntoniak\\miniconda3\\envs\\vdb\\Lib\\site-packages\\sklearn\\cluster\\_kmeans.py:1419: UserWarning: KMeans is known to have a memory leak on Windows with MKL, when there are less chunks than available threads. You can avoid it by setting the environment variable OMP_NUM_THREADS=1.\n",
      "  warnings.warn(\n",
      "c:\\Users\\TimoAntoniak\\miniconda3\\envs\\vdb\\Lib\\site-packages\\sklearn\\cluster\\_kmeans.py:1419: UserWarning: KMeans is known to have a memory leak on Windows with MKL, when there are less chunks than available threads. You can avoid it by setting the environment variable OMP_NUM_THREADS=1.\n",
      "  warnings.warn(\n"
     ]
    },
    {
     "name": "stdout",
     "output_type": "stream",
     "text": [
      "k=29: Silhouette-Score=0.1057\n",
      "k=30: Silhouette-Score=0.1138\n",
      "k=31: Silhouette-Score=0.1222\n"
     ]
    },
    {
     "name": "stderr",
     "output_type": "stream",
     "text": [
      "c:\\Users\\TimoAntoniak\\miniconda3\\envs\\vdb\\Lib\\site-packages\\sklearn\\cluster\\_kmeans.py:1419: UserWarning: KMeans is known to have a memory leak on Windows with MKL, when there are less chunks than available threads. You can avoid it by setting the environment variable OMP_NUM_THREADS=1.\n",
      "  warnings.warn(\n",
      "c:\\Users\\TimoAntoniak\\miniconda3\\envs\\vdb\\Lib\\site-packages\\sklearn\\cluster\\_kmeans.py:1419: UserWarning: KMeans is known to have a memory leak on Windows with MKL, when there are less chunks than available threads. You can avoid it by setting the environment variable OMP_NUM_THREADS=1.\n",
      "  warnings.warn(\n",
      "c:\\Users\\TimoAntoniak\\miniconda3\\envs\\vdb\\Lib\\site-packages\\sklearn\\cluster\\_kmeans.py:1419: UserWarning: KMeans is known to have a memory leak on Windows with MKL, when there are less chunks than available threads. You can avoid it by setting the environment variable OMP_NUM_THREADS=1.\n",
      "  warnings.warn(\n"
     ]
    },
    {
     "name": "stdout",
     "output_type": "stream",
     "text": [
      "k=32: Silhouette-Score=0.1247\n",
      "k=33: Silhouette-Score=0.1176\n",
      "k=34: Silhouette-Score=0.1194\n"
     ]
    },
    {
     "name": "stderr",
     "output_type": "stream",
     "text": [
      "c:\\Users\\TimoAntoniak\\miniconda3\\envs\\vdb\\Lib\\site-packages\\sklearn\\cluster\\_kmeans.py:1419: UserWarning: KMeans is known to have a memory leak on Windows with MKL, when there are less chunks than available threads. You can avoid it by setting the environment variable OMP_NUM_THREADS=1.\n",
      "  warnings.warn(\n",
      "c:\\Users\\TimoAntoniak\\miniconda3\\envs\\vdb\\Lib\\site-packages\\sklearn\\cluster\\_kmeans.py:1419: UserWarning: KMeans is known to have a memory leak on Windows with MKL, when there are less chunks than available threads. You can avoid it by setting the environment variable OMP_NUM_THREADS=1.\n",
      "  warnings.warn(\n",
      "c:\\Users\\TimoAntoniak\\miniconda3\\envs\\vdb\\Lib\\site-packages\\sklearn\\cluster\\_kmeans.py:1419: UserWarning: KMeans is known to have a memory leak on Windows with MKL, when there are less chunks than available threads. You can avoid it by setting the environment variable OMP_NUM_THREADS=1.\n",
      "  warnings.warn(\n"
     ]
    },
    {
     "name": "stdout",
     "output_type": "stream",
     "text": [
      "k=35: Silhouette-Score=0.1146\n",
      "k=36: Silhouette-Score=0.1120\n",
      "k=37: Silhouette-Score=0.1146\n"
     ]
    },
    {
     "name": "stderr",
     "output_type": "stream",
     "text": [
      "c:\\Users\\TimoAntoniak\\miniconda3\\envs\\vdb\\Lib\\site-packages\\sklearn\\cluster\\_kmeans.py:1419: UserWarning: KMeans is known to have a memory leak on Windows with MKL, when there are less chunks than available threads. You can avoid it by setting the environment variable OMP_NUM_THREADS=1.\n",
      "  warnings.warn(\n",
      "c:\\Users\\TimoAntoniak\\miniconda3\\envs\\vdb\\Lib\\site-packages\\sklearn\\cluster\\_kmeans.py:1419: UserWarning: KMeans is known to have a memory leak on Windows with MKL, when there are less chunks than available threads. You can avoid it by setting the environment variable OMP_NUM_THREADS=1.\n",
      "  warnings.warn(\n",
      "c:\\Users\\TimoAntoniak\\miniconda3\\envs\\vdb\\Lib\\site-packages\\sklearn\\cluster\\_kmeans.py:1419: UserWarning: KMeans is known to have a memory leak on Windows with MKL, when there are less chunks than available threads. You can avoid it by setting the environment variable OMP_NUM_THREADS=1.\n",
      "  warnings.warn(\n"
     ]
    },
    {
     "name": "stdout",
     "output_type": "stream",
     "text": [
      "k=38: Silhouette-Score=0.1168\n",
      "k=39: Silhouette-Score=0.1185\n"
     ]
    },
    {
     "name": "stderr",
     "output_type": "stream",
     "text": [
      "c:\\Users\\TimoAntoniak\\miniconda3\\envs\\vdb\\Lib\\site-packages\\sklearn\\cluster\\_kmeans.py:1419: UserWarning: KMeans is known to have a memory leak on Windows with MKL, when there are less chunks than available threads. You can avoid it by setting the environment variable OMP_NUM_THREADS=1.\n",
      "  warnings.warn(\n",
      "c:\\Users\\TimoAntoniak\\miniconda3\\envs\\vdb\\Lib\\site-packages\\sklearn\\cluster\\_kmeans.py:1419: UserWarning: KMeans is known to have a memory leak on Windows with MKL, when there are less chunks than available threads. You can avoid it by setting the environment variable OMP_NUM_THREADS=1.\n",
      "  warnings.warn(\n"
     ]
    },
    {
     "name": "stdout",
     "output_type": "stream",
     "text": [
      "k=40: Silhouette-Score=0.1228\n",
      "k=41: Silhouette-Score=0.1228\n",
      "k=42: Silhouette-Score=0.1185\n"
     ]
    },
    {
     "name": "stderr",
     "output_type": "stream",
     "text": [
      "c:\\Users\\TimoAntoniak\\miniconda3\\envs\\vdb\\Lib\\site-packages\\sklearn\\cluster\\_kmeans.py:1419: UserWarning: KMeans is known to have a memory leak on Windows with MKL, when there are less chunks than available threads. You can avoid it by setting the environment variable OMP_NUM_THREADS=1.\n",
      "  warnings.warn(\n",
      "c:\\Users\\TimoAntoniak\\miniconda3\\envs\\vdb\\Lib\\site-packages\\sklearn\\cluster\\_kmeans.py:1419: UserWarning: KMeans is known to have a memory leak on Windows with MKL, when there are less chunks than available threads. You can avoid it by setting the environment variable OMP_NUM_THREADS=1.\n",
      "  warnings.warn(\n",
      "c:\\Users\\TimoAntoniak\\miniconda3\\envs\\vdb\\Lib\\site-packages\\sklearn\\cluster\\_kmeans.py:1419: UserWarning: KMeans is known to have a memory leak on Windows with MKL, when there are less chunks than available threads. You can avoid it by setting the environment variable OMP_NUM_THREADS=1.\n",
      "  warnings.warn(\n",
      "c:\\Users\\TimoAntoniak\\miniconda3\\envs\\vdb\\Lib\\site-packages\\sklearn\\cluster\\_kmeans.py:1419: UserWarning: KMeans is known to have a memory leak on Windows with MKL, when there are less chunks than available threads. You can avoid it by setting the environment variable OMP_NUM_THREADS=1.\n",
      "  warnings.warn(\n",
      "c:\\Users\\TimoAntoniak\\miniconda3\\envs\\vdb\\Lib\\site-packages\\sklearn\\cluster\\_kmeans.py:1419: UserWarning: KMeans is known to have a memory leak on Windows with MKL, when there are less chunks than available threads. You can avoid it by setting the environment variable OMP_NUM_THREADS=1.\n",
      "  warnings.warn(\n",
      "c:\\Users\\TimoAntoniak\\miniconda3\\envs\\vdb\\Lib\\site-packages\\sklearn\\cluster\\_kmeans.py:1419: UserWarning: KMeans is known to have a memory leak on Windows with MKL, when there are less chunks than available threads. You can avoid it by setting the environment variable OMP_NUM_THREADS=1.\n",
      "  warnings.warn(\n"
     ]
    },
    {
     "name": "stdout",
     "output_type": "stream",
     "text": [
      "k=43: Silhouette-Score=0.1193\n",
      "k=44: Silhouette-Score=0.1149\n",
      "k=45: Silhouette-Score=0.1175\n"
     ]
    },
    {
     "name": "stderr",
     "output_type": "stream",
     "text": [
      "c:\\Users\\TimoAntoniak\\miniconda3\\envs\\vdb\\Lib\\site-packages\\sklearn\\cluster\\_kmeans.py:1419: UserWarning: KMeans is known to have a memory leak on Windows with MKL, when there are less chunks than available threads. You can avoid it by setting the environment variable OMP_NUM_THREADS=1.\n",
      "  warnings.warn(\n",
      "c:\\Users\\TimoAntoniak\\miniconda3\\envs\\vdb\\Lib\\site-packages\\sklearn\\cluster\\_kmeans.py:1419: UserWarning: KMeans is known to have a memory leak on Windows with MKL, when there are less chunks than available threads. You can avoid it by setting the environment variable OMP_NUM_THREADS=1.\n",
      "  warnings.warn(\n"
     ]
    },
    {
     "name": "stdout",
     "output_type": "stream",
     "text": [
      "k=46: Silhouette-Score=0.1173\n",
      "k=47: Silhouette-Score=0.1184\n"
     ]
    },
    {
     "name": "stderr",
     "output_type": "stream",
     "text": [
      "c:\\Users\\TimoAntoniak\\miniconda3\\envs\\vdb\\Lib\\site-packages\\sklearn\\cluster\\_kmeans.py:1419: UserWarning: KMeans is known to have a memory leak on Windows with MKL, when there are less chunks than available threads. You can avoid it by setting the environment variable OMP_NUM_THREADS=1.\n",
      "  warnings.warn(\n",
      "c:\\Users\\TimoAntoniak\\miniconda3\\envs\\vdb\\Lib\\site-packages\\sklearn\\cluster\\_kmeans.py:1419: UserWarning: KMeans is known to have a memory leak on Windows with MKL, when there are less chunks than available threads. You can avoid it by setting the environment variable OMP_NUM_THREADS=1.\n",
      "  warnings.warn(\n"
     ]
    },
    {
     "name": "stdout",
     "output_type": "stream",
     "text": [
      "k=48: Silhouette-Score=0.1195\n",
      "k=49: Silhouette-Score=0.1192\n"
     ]
    },
    {
     "name": "stderr",
     "output_type": "stream",
     "text": [
      "c:\\Users\\TimoAntoniak\\miniconda3\\envs\\vdb\\Lib\\site-packages\\sklearn\\cluster\\_kmeans.py:1419: UserWarning: KMeans is known to have a memory leak on Windows with MKL, when there are less chunks than available threads. You can avoid it by setting the environment variable OMP_NUM_THREADS=1.\n",
      "  warnings.warn(\n",
      "c:\\Users\\TimoAntoniak\\miniconda3\\envs\\vdb\\Lib\\site-packages\\sklearn\\cluster\\_kmeans.py:1419: UserWarning: KMeans is known to have a memory leak on Windows with MKL, when there are less chunks than available threads. You can avoid it by setting the environment variable OMP_NUM_THREADS=1.\n",
      "  warnings.warn(\n"
     ]
    },
    {
     "name": "stdout",
     "output_type": "stream",
     "text": [
      "k=50: Silhouette-Score=0.1189\n",
      "k=51: Silhouette-Score=0.1216\n"
     ]
    },
    {
     "name": "stderr",
     "output_type": "stream",
     "text": [
      "c:\\Users\\TimoAntoniak\\miniconda3\\envs\\vdb\\Lib\\site-packages\\sklearn\\cluster\\_kmeans.py:1419: UserWarning: KMeans is known to have a memory leak on Windows with MKL, when there are less chunks than available threads. You can avoid it by setting the environment variable OMP_NUM_THREADS=1.\n",
      "  warnings.warn(\n",
      "c:\\Users\\TimoAntoniak\\miniconda3\\envs\\vdb\\Lib\\site-packages\\sklearn\\cluster\\_kmeans.py:1419: UserWarning: KMeans is known to have a memory leak on Windows with MKL, when there are less chunks than available threads. You can avoid it by setting the environment variable OMP_NUM_THREADS=1.\n",
      "  warnings.warn(\n"
     ]
    },
    {
     "name": "stdout",
     "output_type": "stream",
     "text": [
      "k=52: Silhouette-Score=0.1235\n",
      "k=53: Silhouette-Score=0.1233\n"
     ]
    },
    {
     "name": "stderr",
     "output_type": "stream",
     "text": [
      "c:\\Users\\TimoAntoniak\\miniconda3\\envs\\vdb\\Lib\\site-packages\\sklearn\\cluster\\_kmeans.py:1419: UserWarning: KMeans is known to have a memory leak on Windows with MKL, when there are less chunks than available threads. You can avoid it by setting the environment variable OMP_NUM_THREADS=1.\n",
      "  warnings.warn(\n",
      "c:\\Users\\TimoAntoniak\\miniconda3\\envs\\vdb\\Lib\\site-packages\\sklearn\\cluster\\_kmeans.py:1419: UserWarning: KMeans is known to have a memory leak on Windows with MKL, when there are less chunks than available threads. You can avoid it by setting the environment variable OMP_NUM_THREADS=1.\n",
      "  warnings.warn(\n"
     ]
    },
    {
     "name": "stdout",
     "output_type": "stream",
     "text": [
      "k=54: Silhouette-Score=0.1223\n",
      "k=55: Silhouette-Score=0.1304\n"
     ]
    },
    {
     "name": "stderr",
     "output_type": "stream",
     "text": [
      "c:\\Users\\TimoAntoniak\\miniconda3\\envs\\vdb\\Lib\\site-packages\\sklearn\\cluster\\_kmeans.py:1419: UserWarning: KMeans is known to have a memory leak on Windows with MKL, when there are less chunks than available threads. You can avoid it by setting the environment variable OMP_NUM_THREADS=1.\n",
      "  warnings.warn(\n",
      "c:\\Users\\TimoAntoniak\\miniconda3\\envs\\vdb\\Lib\\site-packages\\sklearn\\cluster\\_kmeans.py:1419: UserWarning: KMeans is known to have a memory leak on Windows with MKL, when there are less chunks than available threads. You can avoid it by setting the environment variable OMP_NUM_THREADS=1.\n",
      "  warnings.warn(\n"
     ]
    },
    {
     "name": "stdout",
     "output_type": "stream",
     "text": [
      "k=56: Silhouette-Score=0.1312\n",
      "k=57: Silhouette-Score=0.1373\n"
     ]
    },
    {
     "name": "stderr",
     "output_type": "stream",
     "text": [
      "c:\\Users\\TimoAntoniak\\miniconda3\\envs\\vdb\\Lib\\site-packages\\sklearn\\cluster\\_kmeans.py:1419: UserWarning: KMeans is known to have a memory leak on Windows with MKL, when there are less chunks than available threads. You can avoid it by setting the environment variable OMP_NUM_THREADS=1.\n",
      "  warnings.warn(\n",
      "c:\\Users\\TimoAntoniak\\miniconda3\\envs\\vdb\\Lib\\site-packages\\sklearn\\cluster\\_kmeans.py:1419: UserWarning: KMeans is known to have a memory leak on Windows with MKL, when there are less chunks than available threads. You can avoid it by setting the environment variable OMP_NUM_THREADS=1.\n",
      "  warnings.warn(\n"
     ]
    },
    {
     "name": "stdout",
     "output_type": "stream",
     "text": [
      "k=58: Silhouette-Score=0.1379\n",
      "k=59: Silhouette-Score=0.1384\n"
     ]
    },
    {
     "name": "stderr",
     "output_type": "stream",
     "text": [
      "c:\\Users\\TimoAntoniak\\miniconda3\\envs\\vdb\\Lib\\site-packages\\sklearn\\cluster\\_kmeans.py:1419: UserWarning: KMeans is known to have a memory leak on Windows with MKL, when there are less chunks than available threads. You can avoid it by setting the environment variable OMP_NUM_THREADS=1.\n",
      "  warnings.warn(\n",
      "c:\\Users\\TimoAntoniak\\miniconda3\\envs\\vdb\\Lib\\site-packages\\sklearn\\cluster\\_kmeans.py:1419: UserWarning: KMeans is known to have a memory leak on Windows with MKL, when there are less chunks than available threads. You can avoid it by setting the environment variable OMP_NUM_THREADS=1.\n",
      "  warnings.warn(\n"
     ]
    },
    {
     "name": "stdout",
     "output_type": "stream",
     "text": [
      "k=60: Silhouette-Score=0.1368\n",
      "k=61: Silhouette-Score=0.1376\n"
     ]
    },
    {
     "name": "stderr",
     "output_type": "stream",
     "text": [
      "c:\\Users\\TimoAntoniak\\miniconda3\\envs\\vdb\\Lib\\site-packages\\sklearn\\cluster\\_kmeans.py:1419: UserWarning: KMeans is known to have a memory leak on Windows with MKL, when there are less chunks than available threads. You can avoid it by setting the environment variable OMP_NUM_THREADS=1.\n",
      "  warnings.warn(\n",
      "c:\\Users\\TimoAntoniak\\miniconda3\\envs\\vdb\\Lib\\site-packages\\sklearn\\cluster\\_kmeans.py:1419: UserWarning: KMeans is known to have a memory leak on Windows with MKL, when there are less chunks than available threads. You can avoid it by setting the environment variable OMP_NUM_THREADS=1.\n",
      "  warnings.warn(\n"
     ]
    },
    {
     "name": "stdout",
     "output_type": "stream",
     "text": [
      "k=62: Silhouette-Score=0.1383\n",
      "k=63: Silhouette-Score=0.1388\n"
     ]
    },
    {
     "name": "stderr",
     "output_type": "stream",
     "text": [
      "c:\\Users\\TimoAntoniak\\miniconda3\\envs\\vdb\\Lib\\site-packages\\sklearn\\cluster\\_kmeans.py:1419: UserWarning: KMeans is known to have a memory leak on Windows with MKL, when there are less chunks than available threads. You can avoid it by setting the environment variable OMP_NUM_THREADS=1.\n",
      "  warnings.warn(\n",
      "c:\\Users\\TimoAntoniak\\miniconda3\\envs\\vdb\\Lib\\site-packages\\sklearn\\cluster\\_kmeans.py:1419: UserWarning: KMeans is known to have a memory leak on Windows with MKL, when there are less chunks than available threads. You can avoid it by setting the environment variable OMP_NUM_THREADS=1.\n",
      "  warnings.warn(\n"
     ]
    },
    {
     "name": "stdout",
     "output_type": "stream",
     "text": [
      "k=64: Silhouette-Score=0.1426\n",
      "k=65: Silhouette-Score=0.1423\n"
     ]
    },
    {
     "name": "stderr",
     "output_type": "stream",
     "text": [
      "c:\\Users\\TimoAntoniak\\miniconda3\\envs\\vdb\\Lib\\site-packages\\sklearn\\cluster\\_kmeans.py:1419: UserWarning: KMeans is known to have a memory leak on Windows with MKL, when there are less chunks than available threads. You can avoid it by setting the environment variable OMP_NUM_THREADS=1.\n",
      "  warnings.warn(\n",
      "c:\\Users\\TimoAntoniak\\miniconda3\\envs\\vdb\\Lib\\site-packages\\sklearn\\cluster\\_kmeans.py:1419: UserWarning: KMeans is known to have a memory leak on Windows with MKL, when there are less chunks than available threads. You can avoid it by setting the environment variable OMP_NUM_THREADS=1.\n",
      "  warnings.warn(\n"
     ]
    },
    {
     "name": "stdout",
     "output_type": "stream",
     "text": [
      "k=66: Silhouette-Score=0.1434\n",
      "k=67: Silhouette-Score=0.1449\n"
     ]
    },
    {
     "name": "stderr",
     "output_type": "stream",
     "text": [
      "c:\\Users\\TimoAntoniak\\miniconda3\\envs\\vdb\\Lib\\site-packages\\sklearn\\cluster\\_kmeans.py:1419: UserWarning: KMeans is known to have a memory leak on Windows with MKL, when there are less chunks than available threads. You can avoid it by setting the environment variable OMP_NUM_THREADS=1.\n",
      "  warnings.warn(\n",
      "c:\\Users\\TimoAntoniak\\miniconda3\\envs\\vdb\\Lib\\site-packages\\sklearn\\cluster\\_kmeans.py:1419: UserWarning: KMeans is known to have a memory leak on Windows with MKL, when there are less chunks than available threads. You can avoid it by setting the environment variable OMP_NUM_THREADS=1.\n",
      "  warnings.warn(\n"
     ]
    },
    {
     "name": "stdout",
     "output_type": "stream",
     "text": [
      "k=68: Silhouette-Score=0.1485\n",
      "k=69: Silhouette-Score=0.1522\n"
     ]
    },
    {
     "name": "stderr",
     "output_type": "stream",
     "text": [
      "c:\\Users\\TimoAntoniak\\miniconda3\\envs\\vdb\\Lib\\site-packages\\sklearn\\cluster\\_kmeans.py:1419: UserWarning: KMeans is known to have a memory leak on Windows with MKL, when there are less chunks than available threads. You can avoid it by setting the environment variable OMP_NUM_THREADS=1.\n",
      "  warnings.warn(\n",
      "c:\\Users\\TimoAntoniak\\miniconda3\\envs\\vdb\\Lib\\site-packages\\sklearn\\cluster\\_kmeans.py:1419: UserWarning: KMeans is known to have a memory leak on Windows with MKL, when there are less chunks than available threads. You can avoid it by setting the environment variable OMP_NUM_THREADS=1.\n",
      "  warnings.warn(\n"
     ]
    },
    {
     "name": "stdout",
     "output_type": "stream",
     "text": [
      "k=70: Silhouette-Score=0.1529\n",
      "k=71: Silhouette-Score=0.1552\n"
     ]
    },
    {
     "name": "stderr",
     "output_type": "stream",
     "text": [
      "c:\\Users\\TimoAntoniak\\miniconda3\\envs\\vdb\\Lib\\site-packages\\sklearn\\cluster\\_kmeans.py:1419: UserWarning: KMeans is known to have a memory leak on Windows with MKL, when there are less chunks than available threads. You can avoid it by setting the environment variable OMP_NUM_THREADS=1.\n",
      "  warnings.warn(\n",
      "c:\\Users\\TimoAntoniak\\miniconda3\\envs\\vdb\\Lib\\site-packages\\sklearn\\cluster\\_kmeans.py:1419: UserWarning: KMeans is known to have a memory leak on Windows with MKL, when there are less chunks than available threads. You can avoid it by setting the environment variable OMP_NUM_THREADS=1.\n",
      "  warnings.warn(\n"
     ]
    },
    {
     "name": "stdout",
     "output_type": "stream",
     "text": [
      "k=72: Silhouette-Score=0.1534\n",
      "k=73: Silhouette-Score=0.1540\n"
     ]
    },
    {
     "name": "stderr",
     "output_type": "stream",
     "text": [
      "c:\\Users\\TimoAntoniak\\miniconda3\\envs\\vdb\\Lib\\site-packages\\sklearn\\cluster\\_kmeans.py:1419: UserWarning: KMeans is known to have a memory leak on Windows with MKL, when there are less chunks than available threads. You can avoid it by setting the environment variable OMP_NUM_THREADS=1.\n",
      "  warnings.warn(\n",
      "c:\\Users\\TimoAntoniak\\miniconda3\\envs\\vdb\\Lib\\site-packages\\sklearn\\cluster\\_kmeans.py:1419: UserWarning: KMeans is known to have a memory leak on Windows with MKL, when there are less chunks than available threads. You can avoid it by setting the environment variable OMP_NUM_THREADS=1.\n",
      "  warnings.warn(\n"
     ]
    },
    {
     "name": "stdout",
     "output_type": "stream",
     "text": [
      "k=74: Silhouette-Score=0.1545\n",
      "k=75: Silhouette-Score=0.1572\n"
     ]
    },
    {
     "name": "stderr",
     "output_type": "stream",
     "text": [
      "c:\\Users\\TimoAntoniak\\miniconda3\\envs\\vdb\\Lib\\site-packages\\sklearn\\cluster\\_kmeans.py:1419: UserWarning: KMeans is known to have a memory leak on Windows with MKL, when there are less chunks than available threads. You can avoid it by setting the environment variable OMP_NUM_THREADS=1.\n",
      "  warnings.warn(\n",
      "c:\\Users\\TimoAntoniak\\miniconda3\\envs\\vdb\\Lib\\site-packages\\sklearn\\cluster\\_kmeans.py:1419: UserWarning: KMeans is known to have a memory leak on Windows with MKL, when there are less chunks than available threads. You can avoid it by setting the environment variable OMP_NUM_THREADS=1.\n",
      "  warnings.warn(\n"
     ]
    },
    {
     "name": "stdout",
     "output_type": "stream",
     "text": [
      "k=76: Silhouette-Score=0.1595\n",
      "k=77: Silhouette-Score=0.1580\n"
     ]
    },
    {
     "name": "stderr",
     "output_type": "stream",
     "text": [
      "c:\\Users\\TimoAntoniak\\miniconda3\\envs\\vdb\\Lib\\site-packages\\sklearn\\cluster\\_kmeans.py:1419: UserWarning: KMeans is known to have a memory leak on Windows with MKL, when there are less chunks than available threads. You can avoid it by setting the environment variable OMP_NUM_THREADS=1.\n",
      "  warnings.warn(\n",
      "c:\\Users\\TimoAntoniak\\miniconda3\\envs\\vdb\\Lib\\site-packages\\sklearn\\cluster\\_kmeans.py:1419: UserWarning: KMeans is known to have a memory leak on Windows with MKL, when there are less chunks than available threads. You can avoid it by setting the environment variable OMP_NUM_THREADS=1.\n",
      "  warnings.warn(\n"
     ]
    },
    {
     "name": "stdout",
     "output_type": "stream",
     "text": [
      "k=78: Silhouette-Score=0.1558\n",
      "k=79: Silhouette-Score=0.1566\n"
     ]
    },
    {
     "name": "stderr",
     "output_type": "stream",
     "text": [
      "c:\\Users\\TimoAntoniak\\miniconda3\\envs\\vdb\\Lib\\site-packages\\sklearn\\cluster\\_kmeans.py:1419: UserWarning: KMeans is known to have a memory leak on Windows with MKL, when there are less chunks than available threads. You can avoid it by setting the environment variable OMP_NUM_THREADS=1.\n",
      "  warnings.warn(\n",
      "c:\\Users\\TimoAntoniak\\miniconda3\\envs\\vdb\\Lib\\site-packages\\sklearn\\cluster\\_kmeans.py:1419: UserWarning: KMeans is known to have a memory leak on Windows with MKL, when there are less chunks than available threads. You can avoid it by setting the environment variable OMP_NUM_THREADS=1.\n",
      "  warnings.warn(\n"
     ]
    },
    {
     "name": "stdout",
     "output_type": "stream",
     "text": [
      "k=80: Silhouette-Score=0.1556\n",
      "k=81: Silhouette-Score=0.1535\n"
     ]
    },
    {
     "name": "stderr",
     "output_type": "stream",
     "text": [
      "c:\\Users\\TimoAntoniak\\miniconda3\\envs\\vdb\\Lib\\site-packages\\sklearn\\cluster\\_kmeans.py:1419: UserWarning: KMeans is known to have a memory leak on Windows with MKL, when there are less chunks than available threads. You can avoid it by setting the environment variable OMP_NUM_THREADS=1.\n",
      "  warnings.warn(\n",
      "c:\\Users\\TimoAntoniak\\miniconda3\\envs\\vdb\\Lib\\site-packages\\sklearn\\cluster\\_kmeans.py:1419: UserWarning: KMeans is known to have a memory leak on Windows with MKL, when there are less chunks than available threads. You can avoid it by setting the environment variable OMP_NUM_THREADS=1.\n",
      "  warnings.warn(\n"
     ]
    },
    {
     "name": "stdout",
     "output_type": "stream",
     "text": [
      "k=82: Silhouette-Score=0.1557\n",
      "k=83: Silhouette-Score=0.1575\n"
     ]
    },
    {
     "name": "stderr",
     "output_type": "stream",
     "text": [
      "c:\\Users\\TimoAntoniak\\miniconda3\\envs\\vdb\\Lib\\site-packages\\sklearn\\cluster\\_kmeans.py:1419: UserWarning: KMeans is known to have a memory leak on Windows with MKL, when there are less chunks than available threads. You can avoid it by setting the environment variable OMP_NUM_THREADS=1.\n",
      "  warnings.warn(\n",
      "c:\\Users\\TimoAntoniak\\miniconda3\\envs\\vdb\\Lib\\site-packages\\sklearn\\cluster\\_kmeans.py:1419: UserWarning: KMeans is known to have a memory leak on Windows with MKL, when there are less chunks than available threads. You can avoid it by setting the environment variable OMP_NUM_THREADS=1.\n",
      "  warnings.warn(\n"
     ]
    },
    {
     "name": "stdout",
     "output_type": "stream",
     "text": [
      "k=84: Silhouette-Score=0.1580\n",
      "k=85: Silhouette-Score=0.1602\n"
     ]
    },
    {
     "name": "stderr",
     "output_type": "stream",
     "text": [
      "c:\\Users\\TimoAntoniak\\miniconda3\\envs\\vdb\\Lib\\site-packages\\sklearn\\cluster\\_kmeans.py:1419: UserWarning: KMeans is known to have a memory leak on Windows with MKL, when there are less chunks than available threads. You can avoid it by setting the environment variable OMP_NUM_THREADS=1.\n",
      "  warnings.warn(\n",
      "c:\\Users\\TimoAntoniak\\miniconda3\\envs\\vdb\\Lib\\site-packages\\sklearn\\cluster\\_kmeans.py:1419: UserWarning: KMeans is known to have a memory leak on Windows with MKL, when there are less chunks than available threads. You can avoid it by setting the environment variable OMP_NUM_THREADS=1.\n",
      "  warnings.warn(\n"
     ]
    },
    {
     "name": "stdout",
     "output_type": "stream",
     "text": [
      "k=86: Silhouette-Score=0.1615\n",
      "k=87: Silhouette-Score=0.1622\n"
     ]
    },
    {
     "name": "stderr",
     "output_type": "stream",
     "text": [
      "c:\\Users\\TimoAntoniak\\miniconda3\\envs\\vdb\\Lib\\site-packages\\sklearn\\cluster\\_kmeans.py:1419: UserWarning: KMeans is known to have a memory leak on Windows with MKL, when there are less chunks than available threads. You can avoid it by setting the environment variable OMP_NUM_THREADS=1.\n",
      "  warnings.warn(\n",
      "c:\\Users\\TimoAntoniak\\miniconda3\\envs\\vdb\\Lib\\site-packages\\sklearn\\cluster\\_kmeans.py:1419: UserWarning: KMeans is known to have a memory leak on Windows with MKL, when there are less chunks than available threads. You can avoid it by setting the environment variable OMP_NUM_THREADS=1.\n",
      "  warnings.warn(\n"
     ]
    },
    {
     "name": "stdout",
     "output_type": "stream",
     "text": [
      "k=88: Silhouette-Score=0.1605\n",
      "k=89: Silhouette-Score=0.1641\n"
     ]
    },
    {
     "name": "stderr",
     "output_type": "stream",
     "text": [
      "c:\\Users\\TimoAntoniak\\miniconda3\\envs\\vdb\\Lib\\site-packages\\sklearn\\cluster\\_kmeans.py:1419: UserWarning: KMeans is known to have a memory leak on Windows with MKL, when there are less chunks than available threads. You can avoid it by setting the environment variable OMP_NUM_THREADS=1.\n",
      "  warnings.warn(\n",
      "c:\\Users\\TimoAntoniak\\miniconda3\\envs\\vdb\\Lib\\site-packages\\sklearn\\cluster\\_kmeans.py:1419: UserWarning: KMeans is known to have a memory leak on Windows with MKL, when there are less chunks than available threads. You can avoid it by setting the environment variable OMP_NUM_THREADS=1.\n",
      "  warnings.warn(\n"
     ]
    },
    {
     "name": "stdout",
     "output_type": "stream",
     "text": [
      "k=90: Silhouette-Score=0.1639\n",
      "k=91: Silhouette-Score=0.1651\n"
     ]
    },
    {
     "name": "stderr",
     "output_type": "stream",
     "text": [
      "c:\\Users\\TimoAntoniak\\miniconda3\\envs\\vdb\\Lib\\site-packages\\sklearn\\cluster\\_kmeans.py:1419: UserWarning: KMeans is known to have a memory leak on Windows with MKL, when there are less chunks than available threads. You can avoid it by setting the environment variable OMP_NUM_THREADS=1.\n",
      "  warnings.warn(\n",
      "c:\\Users\\TimoAntoniak\\miniconda3\\envs\\vdb\\Lib\\site-packages\\sklearn\\cluster\\_kmeans.py:1419: UserWarning: KMeans is known to have a memory leak on Windows with MKL, when there are less chunks than available threads. You can avoid it by setting the environment variable OMP_NUM_THREADS=1.\n",
      "  warnings.warn(\n"
     ]
    },
    {
     "name": "stdout",
     "output_type": "stream",
     "text": [
      "k=92: Silhouette-Score=0.1645\n",
      "k=93: Silhouette-Score=0.1639\n"
     ]
    },
    {
     "name": "stderr",
     "output_type": "stream",
     "text": [
      "c:\\Users\\TimoAntoniak\\miniconda3\\envs\\vdb\\Lib\\site-packages\\sklearn\\cluster\\_kmeans.py:1419: UserWarning: KMeans is known to have a memory leak on Windows with MKL, when there are less chunks than available threads. You can avoid it by setting the environment variable OMP_NUM_THREADS=1.\n",
      "  warnings.warn(\n",
      "c:\\Users\\TimoAntoniak\\miniconda3\\envs\\vdb\\Lib\\site-packages\\sklearn\\cluster\\_kmeans.py:1419: UserWarning: KMeans is known to have a memory leak on Windows with MKL, when there are less chunks than available threads. You can avoid it by setting the environment variable OMP_NUM_THREADS=1.\n",
      "  warnings.warn(\n"
     ]
    },
    {
     "name": "stdout",
     "output_type": "stream",
     "text": [
      "k=94: Silhouette-Score=0.1629\n",
      "k=95: Silhouette-Score=0.1622\n"
     ]
    },
    {
     "name": "stderr",
     "output_type": "stream",
     "text": [
      "c:\\Users\\TimoAntoniak\\miniconda3\\envs\\vdb\\Lib\\site-packages\\sklearn\\cluster\\_kmeans.py:1419: UserWarning: KMeans is known to have a memory leak on Windows with MKL, when there are less chunks than available threads. You can avoid it by setting the environment variable OMP_NUM_THREADS=1.\n",
      "  warnings.warn(\n",
      "c:\\Users\\TimoAntoniak\\miniconda3\\envs\\vdb\\Lib\\site-packages\\sklearn\\cluster\\_kmeans.py:1419: UserWarning: KMeans is known to have a memory leak on Windows with MKL, when there are less chunks than available threads. You can avoid it by setting the environment variable OMP_NUM_THREADS=1.\n",
      "  warnings.warn(\n"
     ]
    },
    {
     "name": "stdout",
     "output_type": "stream",
     "text": [
      "k=96: Silhouette-Score=0.1639\n",
      "k=97: Silhouette-Score=0.1639\n"
     ]
    },
    {
     "name": "stderr",
     "output_type": "stream",
     "text": [
      "c:\\Users\\TimoAntoniak\\miniconda3\\envs\\vdb\\Lib\\site-packages\\sklearn\\cluster\\_kmeans.py:1419: UserWarning: KMeans is known to have a memory leak on Windows with MKL, when there are less chunks than available threads. You can avoid it by setting the environment variable OMP_NUM_THREADS=1.\n",
      "  warnings.warn(\n",
      "c:\\Users\\TimoAntoniak\\miniconda3\\envs\\vdb\\Lib\\site-packages\\sklearn\\cluster\\_kmeans.py:1419: UserWarning: KMeans is known to have a memory leak on Windows with MKL, when there are less chunks than available threads. You can avoid it by setting the environment variable OMP_NUM_THREADS=1.\n",
      "  warnings.warn(\n"
     ]
    },
    {
     "name": "stdout",
     "output_type": "stream",
     "text": [
      "k=98: Silhouette-Score=0.1628\n",
      "k=99: Silhouette-Score=0.1630\n"
     ]
    },
    {
     "name": "stderr",
     "output_type": "stream",
     "text": [
      "c:\\Users\\TimoAntoniak\\miniconda3\\envs\\vdb\\Lib\\site-packages\\sklearn\\cluster\\_kmeans.py:1419: UserWarning: KMeans is known to have a memory leak on Windows with MKL, when there are less chunks than available threads. You can avoid it by setting the environment variable OMP_NUM_THREADS=1.\n",
      "  warnings.warn(\n",
      "c:\\Users\\TimoAntoniak\\miniconda3\\envs\\vdb\\Lib\\site-packages\\sklearn\\cluster\\_kmeans.py:1419: UserWarning: KMeans is known to have a memory leak on Windows with MKL, when there are less chunks than available threads. You can avoid it by setting the environment variable OMP_NUM_THREADS=1.\n",
      "  warnings.warn(\n"
     ]
    },
    {
     "name": "stdout",
     "output_type": "stream",
     "text": [
      "k=100: Silhouette-Score=0.1635\n",
      "k=101: Silhouette-Score=0.1620\n"
     ]
    },
    {
     "name": "stderr",
     "output_type": "stream",
     "text": [
      "c:\\Users\\TimoAntoniak\\miniconda3\\envs\\vdb\\Lib\\site-packages\\sklearn\\cluster\\_kmeans.py:1419: UserWarning: KMeans is known to have a memory leak on Windows with MKL, when there are less chunks than available threads. You can avoid it by setting the environment variable OMP_NUM_THREADS=1.\n",
      "  warnings.warn(\n",
      "c:\\Users\\TimoAntoniak\\miniconda3\\envs\\vdb\\Lib\\site-packages\\sklearn\\cluster\\_kmeans.py:1419: UserWarning: KMeans is known to have a memory leak on Windows with MKL, when there are less chunks than available threads. You can avoid it by setting the environment variable OMP_NUM_THREADS=1.\n",
      "  warnings.warn(\n"
     ]
    },
    {
     "name": "stdout",
     "output_type": "stream",
     "text": [
      "k=102: Silhouette-Score=0.1642\n",
      "k=103: Silhouette-Score=0.1637\n"
     ]
    },
    {
     "name": "stderr",
     "output_type": "stream",
     "text": [
      "c:\\Users\\TimoAntoniak\\miniconda3\\envs\\vdb\\Lib\\site-packages\\sklearn\\cluster\\_kmeans.py:1419: UserWarning: KMeans is known to have a memory leak on Windows with MKL, when there are less chunks than available threads. You can avoid it by setting the environment variable OMP_NUM_THREADS=1.\n",
      "  warnings.warn(\n",
      "c:\\Users\\TimoAntoniak\\miniconda3\\envs\\vdb\\Lib\\site-packages\\sklearn\\cluster\\_kmeans.py:1419: UserWarning: KMeans is known to have a memory leak on Windows with MKL, when there are less chunks than available threads. You can avoid it by setting the environment variable OMP_NUM_THREADS=1.\n",
      "  warnings.warn(\n",
      "c:\\Users\\TimoAntoniak\\miniconda3\\envs\\vdb\\Lib\\site-packages\\sklearn\\cluster\\_kmeans.py:1419: UserWarning: KMeans is known to have a memory leak on Windows with MKL, when there are less chunks than available threads. You can avoid it by setting the environment variable OMP_NUM_THREADS=1.\n",
      "  warnings.warn(\n"
     ]
    },
    {
     "name": "stdout",
     "output_type": "stream",
     "text": [
      "k=104: Silhouette-Score=0.1655\n"
     ]
    },
    {
     "name": "stderr",
     "output_type": "stream",
     "text": [
      "c:\\Users\\TimoAntoniak\\miniconda3\\envs\\vdb\\Lib\\site-packages\\sklearn\\cluster\\_kmeans.py:1419: UserWarning: KMeans is known to have a memory leak on Windows with MKL, when there are less chunks than available threads. You can avoid it by setting the environment variable OMP_NUM_THREADS=1.\n",
      "  warnings.warn(\n"
     ]
    },
    {
     "name": "stdout",
     "output_type": "stream",
     "text": [
      "k=105: Silhouette-Score=0.1645\n"
     ]
    },
    {
     "name": "stderr",
     "output_type": "stream",
     "text": [
      "c:\\Users\\TimoAntoniak\\miniconda3\\envs\\vdb\\Lib\\site-packages\\sklearn\\cluster\\_kmeans.py:1419: UserWarning: KMeans is known to have a memory leak on Windows with MKL, when there are less chunks than available threads. You can avoid it by setting the environment variable OMP_NUM_THREADS=1.\n",
      "  warnings.warn(\n"
     ]
    },
    {
     "name": "stdout",
     "output_type": "stream",
     "text": [
      "k=106: Silhouette-Score=0.1641\n"
     ]
    },
    {
     "name": "stderr",
     "output_type": "stream",
     "text": [
      "c:\\Users\\TimoAntoniak\\miniconda3\\envs\\vdb\\Lib\\site-packages\\sklearn\\cluster\\_kmeans.py:1419: UserWarning: KMeans is known to have a memory leak on Windows with MKL, when there are less chunks than available threads. You can avoid it by setting the environment variable OMP_NUM_THREADS=1.\n",
      "  warnings.warn(\n"
     ]
    },
    {
     "name": "stdout",
     "output_type": "stream",
     "text": [
      "k=107: Silhouette-Score=0.1652\n",
      "k=108: Silhouette-Score=0.1664\n"
     ]
    },
    {
     "name": "stderr",
     "output_type": "stream",
     "text": [
      "c:\\Users\\TimoAntoniak\\miniconda3\\envs\\vdb\\Lib\\site-packages\\sklearn\\cluster\\_kmeans.py:1419: UserWarning: KMeans is known to have a memory leak on Windows with MKL, when there are less chunks than available threads. You can avoid it by setting the environment variable OMP_NUM_THREADS=1.\n",
      "  warnings.warn(\n",
      "c:\\Users\\TimoAntoniak\\miniconda3\\envs\\vdb\\Lib\\site-packages\\sklearn\\cluster\\_kmeans.py:1419: UserWarning: KMeans is known to have a memory leak on Windows with MKL, when there are less chunks than available threads. You can avoid it by setting the environment variable OMP_NUM_THREADS=1.\n",
      "  warnings.warn(\n"
     ]
    },
    {
     "name": "stdout",
     "output_type": "stream",
     "text": [
      "k=109: Silhouette-Score=0.1669\n",
      "k=110: Silhouette-Score=0.1644\n"
     ]
    },
    {
     "name": "stderr",
     "output_type": "stream",
     "text": [
      "c:\\Users\\TimoAntoniak\\miniconda3\\envs\\vdb\\Lib\\site-packages\\sklearn\\cluster\\_kmeans.py:1419: UserWarning: KMeans is known to have a memory leak on Windows with MKL, when there are less chunks than available threads. You can avoid it by setting the environment variable OMP_NUM_THREADS=1.\n",
      "  warnings.warn(\n",
      "c:\\Users\\TimoAntoniak\\miniconda3\\envs\\vdb\\Lib\\site-packages\\sklearn\\cluster\\_kmeans.py:1419: UserWarning: KMeans is known to have a memory leak on Windows with MKL, when there are less chunks than available threads. You can avoid it by setting the environment variable OMP_NUM_THREADS=1.\n",
      "  warnings.warn(\n"
     ]
    },
    {
     "name": "stdout",
     "output_type": "stream",
     "text": [
      "k=111: Silhouette-Score=0.1632\n"
     ]
    },
    {
     "name": "stderr",
     "output_type": "stream",
     "text": [
      "c:\\Users\\TimoAntoniak\\miniconda3\\envs\\vdb\\Lib\\site-packages\\sklearn\\cluster\\_kmeans.py:1419: UserWarning: KMeans is known to have a memory leak on Windows with MKL, when there are less chunks than available threads. You can avoid it by setting the environment variable OMP_NUM_THREADS=1.\n",
      "  warnings.warn(\n"
     ]
    },
    {
     "name": "stdout",
     "output_type": "stream",
     "text": [
      "k=112: Silhouette-Score=0.1655\n"
     ]
    },
    {
     "name": "stderr",
     "output_type": "stream",
     "text": [
      "c:\\Users\\TimoAntoniak\\miniconda3\\envs\\vdb\\Lib\\site-packages\\sklearn\\cluster\\_kmeans.py:1419: UserWarning: KMeans is known to have a memory leak on Windows with MKL, when there are less chunks than available threads. You can avoid it by setting the environment variable OMP_NUM_THREADS=1.\n",
      "  warnings.warn(\n"
     ]
    },
    {
     "name": "stdout",
     "output_type": "stream",
     "text": [
      "k=113: Silhouette-Score=0.1702\n"
     ]
    },
    {
     "name": "stderr",
     "output_type": "stream",
     "text": [
      "c:\\Users\\TimoAntoniak\\miniconda3\\envs\\vdb\\Lib\\site-packages\\sklearn\\cluster\\_kmeans.py:1419: UserWarning: KMeans is known to have a memory leak on Windows with MKL, when there are less chunks than available threads. You can avoid it by setting the environment variable OMP_NUM_THREADS=1.\n",
      "  warnings.warn(\n"
     ]
    },
    {
     "name": "stdout",
     "output_type": "stream",
     "text": [
      "k=114: Silhouette-Score=0.1698\n"
     ]
    },
    {
     "name": "stderr",
     "output_type": "stream",
     "text": [
      "c:\\Users\\TimoAntoniak\\miniconda3\\envs\\vdb\\Lib\\site-packages\\sklearn\\cluster\\_kmeans.py:1419: UserWarning: KMeans is known to have a memory leak on Windows with MKL, when there are less chunks than available threads. You can avoid it by setting the environment variable OMP_NUM_THREADS=1.\n",
      "  warnings.warn(\n"
     ]
    },
    {
     "name": "stdout",
     "output_type": "stream",
     "text": [
      "k=115: Silhouette-Score=0.1705\n",
      "k=116: Silhouette-Score=0.1701\n"
     ]
    },
    {
     "name": "stderr",
     "output_type": "stream",
     "text": [
      "c:\\Users\\TimoAntoniak\\miniconda3\\envs\\vdb\\Lib\\site-packages\\sklearn\\cluster\\_kmeans.py:1419: UserWarning: KMeans is known to have a memory leak on Windows with MKL, when there are less chunks than available threads. You can avoid it by setting the environment variable OMP_NUM_THREADS=1.\n",
      "  warnings.warn(\n",
      "c:\\Users\\TimoAntoniak\\miniconda3\\envs\\vdb\\Lib\\site-packages\\sklearn\\cluster\\_kmeans.py:1419: UserWarning: KMeans is known to have a memory leak on Windows with MKL, when there are less chunks than available threads. You can avoid it by setting the environment variable OMP_NUM_THREADS=1.\n",
      "  warnings.warn(\n"
     ]
    },
    {
     "name": "stdout",
     "output_type": "stream",
     "text": [
      "k=117: Silhouette-Score=0.1701\n",
      "k=118: Silhouette-Score=0.1705\n"
     ]
    },
    {
     "name": "stderr",
     "output_type": "stream",
     "text": [
      "c:\\Users\\TimoAntoniak\\miniconda3\\envs\\vdb\\Lib\\site-packages\\sklearn\\cluster\\_kmeans.py:1419: UserWarning: KMeans is known to have a memory leak on Windows with MKL, when there are less chunks than available threads. You can avoid it by setting the environment variable OMP_NUM_THREADS=1.\n",
      "  warnings.warn(\n",
      "c:\\Users\\TimoAntoniak\\miniconda3\\envs\\vdb\\Lib\\site-packages\\sklearn\\cluster\\_kmeans.py:1419: UserWarning: KMeans is known to have a memory leak on Windows with MKL, when there are less chunks than available threads. You can avoid it by setting the environment variable OMP_NUM_THREADS=1.\n",
      "  warnings.warn(\n"
     ]
    },
    {
     "name": "stdout",
     "output_type": "stream",
     "text": [
      "k=119: Silhouette-Score=0.1702\n"
     ]
    },
    {
     "name": "stderr",
     "output_type": "stream",
     "text": [
      "c:\\Users\\TimoAntoniak\\miniconda3\\envs\\vdb\\Lib\\site-packages\\sklearn\\cluster\\_kmeans.py:1419: UserWarning: KMeans is known to have a memory leak on Windows with MKL, when there are less chunks than available threads. You can avoid it by setting the environment variable OMP_NUM_THREADS=1.\n",
      "  warnings.warn(\n"
     ]
    },
    {
     "name": "stdout",
     "output_type": "stream",
     "text": [
      "k=120: Silhouette-Score=0.1720\n"
     ]
    },
    {
     "name": "stderr",
     "output_type": "stream",
     "text": [
      "c:\\Users\\TimoAntoniak\\miniconda3\\envs\\vdb\\Lib\\site-packages\\sklearn\\cluster\\_kmeans.py:1419: UserWarning: KMeans is known to have a memory leak on Windows with MKL, when there are less chunks than available threads. You can avoid it by setting the environment variable OMP_NUM_THREADS=1.\n",
      "  warnings.warn(\n"
     ]
    },
    {
     "name": "stdout",
     "output_type": "stream",
     "text": [
      "k=121: Silhouette-Score=0.1713\n"
     ]
    },
    {
     "name": "stderr",
     "output_type": "stream",
     "text": [
      "c:\\Users\\TimoAntoniak\\miniconda3\\envs\\vdb\\Lib\\site-packages\\sklearn\\cluster\\_kmeans.py:1419: UserWarning: KMeans is known to have a memory leak on Windows with MKL, when there are less chunks than available threads. You can avoid it by setting the environment variable OMP_NUM_THREADS=1.\n",
      "  warnings.warn(\n"
     ]
    },
    {
     "name": "stdout",
     "output_type": "stream",
     "text": [
      "k=122: Silhouette-Score=0.1758\n",
      "k=123: Silhouette-Score=0.1743\n"
     ]
    },
    {
     "name": "stderr",
     "output_type": "stream",
     "text": [
      "c:\\Users\\TimoAntoniak\\miniconda3\\envs\\vdb\\Lib\\site-packages\\sklearn\\cluster\\_kmeans.py:1419: UserWarning: KMeans is known to have a memory leak on Windows with MKL, when there are less chunks than available threads. You can avoid it by setting the environment variable OMP_NUM_THREADS=1.\n",
      "  warnings.warn(\n",
      "c:\\Users\\TimoAntoniak\\miniconda3\\envs\\vdb\\Lib\\site-packages\\sklearn\\cluster\\_kmeans.py:1419: UserWarning: KMeans is known to have a memory leak on Windows with MKL, when there are less chunks than available threads. You can avoid it by setting the environment variable OMP_NUM_THREADS=1.\n",
      "  warnings.warn(\n",
      "c:\\Users\\TimoAntoniak\\miniconda3\\envs\\vdb\\Lib\\site-packages\\sklearn\\cluster\\_kmeans.py:1419: UserWarning: KMeans is known to have a memory leak on Windows with MKL, when there are less chunks than available threads. You can avoid it by setting the environment variable OMP_NUM_THREADS=1.\n",
      "  warnings.warn(\n"
     ]
    },
    {
     "name": "stdout",
     "output_type": "stream",
     "text": [
      "k=124: Silhouette-Score=0.1735\n"
     ]
    },
    {
     "name": "stderr",
     "output_type": "stream",
     "text": [
      "c:\\Users\\TimoAntoniak\\miniconda3\\envs\\vdb\\Lib\\site-packages\\sklearn\\cluster\\_kmeans.py:1419: UserWarning: KMeans is known to have a memory leak on Windows with MKL, when there are less chunks than available threads. You can avoid it by setting the environment variable OMP_NUM_THREADS=1.\n",
      "  warnings.warn(\n"
     ]
    },
    {
     "name": "stdout",
     "output_type": "stream",
     "text": [
      "k=125: Silhouette-Score=0.1745\n"
     ]
    },
    {
     "name": "stderr",
     "output_type": "stream",
     "text": [
      "c:\\Users\\TimoAntoniak\\miniconda3\\envs\\vdb\\Lib\\site-packages\\sklearn\\cluster\\_kmeans.py:1419: UserWarning: KMeans is known to have a memory leak on Windows with MKL, when there are less chunks than available threads. You can avoid it by setting the environment variable OMP_NUM_THREADS=1.\n",
      "  warnings.warn(\n"
     ]
    },
    {
     "name": "stdout",
     "output_type": "stream",
     "text": [
      "k=126: Silhouette-Score=0.1744\n"
     ]
    },
    {
     "name": "stderr",
     "output_type": "stream",
     "text": [
      "c:\\Users\\TimoAntoniak\\miniconda3\\envs\\vdb\\Lib\\site-packages\\sklearn\\cluster\\_kmeans.py:1419: UserWarning: KMeans is known to have a memory leak on Windows with MKL, when there are less chunks than available threads. You can avoid it by setting the environment variable OMP_NUM_THREADS=1.\n",
      "  warnings.warn(\n"
     ]
    },
    {
     "name": "stdout",
     "output_type": "stream",
     "text": [
      "k=127: Silhouette-Score=0.1724\n"
     ]
    },
    {
     "name": "stderr",
     "output_type": "stream",
     "text": [
      "c:\\Users\\TimoAntoniak\\miniconda3\\envs\\vdb\\Lib\\site-packages\\sklearn\\cluster\\_kmeans.py:1419: UserWarning: KMeans is known to have a memory leak on Windows with MKL, when there are less chunks than available threads. You can avoid it by setting the environment variable OMP_NUM_THREADS=1.\n",
      "  warnings.warn(\n"
     ]
    },
    {
     "name": "stdout",
     "output_type": "stream",
     "text": [
      "k=128: Silhouette-Score=0.1717\n"
     ]
    },
    {
     "name": "stderr",
     "output_type": "stream",
     "text": [
      "c:\\Users\\TimoAntoniak\\miniconda3\\envs\\vdb\\Lib\\site-packages\\sklearn\\cluster\\_kmeans.py:1419: UserWarning: KMeans is known to have a memory leak on Windows with MKL, when there are less chunks than available threads. You can avoid it by setting the environment variable OMP_NUM_THREADS=1.\n",
      "  warnings.warn(\n"
     ]
    },
    {
     "name": "stdout",
     "output_type": "stream",
     "text": [
      "k=129: Silhouette-Score=0.1721\n"
     ]
    },
    {
     "name": "stderr",
     "output_type": "stream",
     "text": [
      "c:\\Users\\TimoAntoniak\\miniconda3\\envs\\vdb\\Lib\\site-packages\\sklearn\\cluster\\_kmeans.py:1419: UserWarning: KMeans is known to have a memory leak on Windows with MKL, when there are less chunks than available threads. You can avoid it by setting the environment variable OMP_NUM_THREADS=1.\n",
      "  warnings.warn(\n"
     ]
    },
    {
     "name": "stdout",
     "output_type": "stream",
     "text": [
      "k=130: Silhouette-Score=0.1710\n"
     ]
    },
    {
     "name": "stderr",
     "output_type": "stream",
     "text": [
      "c:\\Users\\TimoAntoniak\\miniconda3\\envs\\vdb\\Lib\\site-packages\\sklearn\\cluster\\_kmeans.py:1419: UserWarning: KMeans is known to have a memory leak on Windows with MKL, when there are less chunks than available threads. You can avoid it by setting the environment variable OMP_NUM_THREADS=1.\n",
      "  warnings.warn(\n"
     ]
    },
    {
     "name": "stdout",
     "output_type": "stream",
     "text": [
      "k=131: Silhouette-Score=0.1712\n"
     ]
    },
    {
     "name": "stderr",
     "output_type": "stream",
     "text": [
      "c:\\Users\\TimoAntoniak\\miniconda3\\envs\\vdb\\Lib\\site-packages\\sklearn\\cluster\\_kmeans.py:1419: UserWarning: KMeans is known to have a memory leak on Windows with MKL, when there are less chunks than available threads. You can avoid it by setting the environment variable OMP_NUM_THREADS=1.\n",
      "  warnings.warn(\n"
     ]
    },
    {
     "name": "stdout",
     "output_type": "stream",
     "text": [
      "k=132: Silhouette-Score=0.1741\n"
     ]
    },
    {
     "name": "stderr",
     "output_type": "stream",
     "text": [
      "c:\\Users\\TimoAntoniak\\miniconda3\\envs\\vdb\\Lib\\site-packages\\sklearn\\cluster\\_kmeans.py:1419: UserWarning: KMeans is known to have a memory leak on Windows with MKL, when there are less chunks than available threads. You can avoid it by setting the environment variable OMP_NUM_THREADS=1.\n",
      "  warnings.warn(\n"
     ]
    },
    {
     "name": "stdout",
     "output_type": "stream",
     "text": [
      "k=133: Silhouette-Score=0.1747\n"
     ]
    },
    {
     "name": "stderr",
     "output_type": "stream",
     "text": [
      "c:\\Users\\TimoAntoniak\\miniconda3\\envs\\vdb\\Lib\\site-packages\\sklearn\\cluster\\_kmeans.py:1419: UserWarning: KMeans is known to have a memory leak on Windows with MKL, when there are less chunks than available threads. You can avoid it by setting the environment variable OMP_NUM_THREADS=1.\n",
      "  warnings.warn(\n"
     ]
    },
    {
     "name": "stdout",
     "output_type": "stream",
     "text": [
      "k=134: Silhouette-Score=0.1720\n"
     ]
    },
    {
     "name": "stderr",
     "output_type": "stream",
     "text": [
      "c:\\Users\\TimoAntoniak\\miniconda3\\envs\\vdb\\Lib\\site-packages\\sklearn\\cluster\\_kmeans.py:1419: UserWarning: KMeans is known to have a memory leak on Windows with MKL, when there are less chunks than available threads. You can avoid it by setting the environment variable OMP_NUM_THREADS=1.\n",
      "  warnings.warn(\n"
     ]
    },
    {
     "name": "stdout",
     "output_type": "stream",
     "text": [
      "k=135: Silhouette-Score=0.1712\n"
     ]
    },
    {
     "name": "stderr",
     "output_type": "stream",
     "text": [
      "c:\\Users\\TimoAntoniak\\miniconda3\\envs\\vdb\\Lib\\site-packages\\sklearn\\cluster\\_kmeans.py:1419: UserWarning: KMeans is known to have a memory leak on Windows with MKL, when there are less chunks than available threads. You can avoid it by setting the environment variable OMP_NUM_THREADS=1.\n",
      "  warnings.warn(\n"
     ]
    },
    {
     "name": "stdout",
     "output_type": "stream",
     "text": [
      "k=136: Silhouette-Score=0.1705\n"
     ]
    },
    {
     "name": "stderr",
     "output_type": "stream",
     "text": [
      "c:\\Users\\TimoAntoniak\\miniconda3\\envs\\vdb\\Lib\\site-packages\\sklearn\\cluster\\_kmeans.py:1419: UserWarning: KMeans is known to have a memory leak on Windows with MKL, when there are less chunks than available threads. You can avoid it by setting the environment variable OMP_NUM_THREADS=1.\n",
      "  warnings.warn(\n"
     ]
    },
    {
     "name": "stdout",
     "output_type": "stream",
     "text": [
      "k=137: Silhouette-Score=0.1692\n"
     ]
    },
    {
     "name": "stderr",
     "output_type": "stream",
     "text": [
      "c:\\Users\\TimoAntoniak\\miniconda3\\envs\\vdb\\Lib\\site-packages\\sklearn\\cluster\\_kmeans.py:1419: UserWarning: KMeans is known to have a memory leak on Windows with MKL, when there are less chunks than available threads. You can avoid it by setting the environment variable OMP_NUM_THREADS=1.\n",
      "  warnings.warn(\n"
     ]
    },
    {
     "name": "stdout",
     "output_type": "stream",
     "text": [
      "k=138: Silhouette-Score=0.1690\n"
     ]
    },
    {
     "name": "stderr",
     "output_type": "stream",
     "text": [
      "c:\\Users\\TimoAntoniak\\miniconda3\\envs\\vdb\\Lib\\site-packages\\sklearn\\cluster\\_kmeans.py:1419: UserWarning: KMeans is known to have a memory leak on Windows with MKL, when there are less chunks than available threads. You can avoid it by setting the environment variable OMP_NUM_THREADS=1.\n",
      "  warnings.warn(\n"
     ]
    },
    {
     "name": "stdout",
     "output_type": "stream",
     "text": [
      "k=139: Silhouette-Score=0.1696\n"
     ]
    },
    {
     "name": "stderr",
     "output_type": "stream",
     "text": [
      "c:\\Users\\TimoAntoniak\\miniconda3\\envs\\vdb\\Lib\\site-packages\\sklearn\\cluster\\_kmeans.py:1419: UserWarning: KMeans is known to have a memory leak on Windows with MKL, when there are less chunks than available threads. You can avoid it by setting the environment variable OMP_NUM_THREADS=1.\n",
      "  warnings.warn(\n"
     ]
    },
    {
     "name": "stdout",
     "output_type": "stream",
     "text": [
      "k=140: Silhouette-Score=0.1695\n"
     ]
    },
    {
     "name": "stderr",
     "output_type": "stream",
     "text": [
      "c:\\Users\\TimoAntoniak\\miniconda3\\envs\\vdb\\Lib\\site-packages\\sklearn\\cluster\\_kmeans.py:1419: UserWarning: KMeans is known to have a memory leak on Windows with MKL, when there are less chunks than available threads. You can avoid it by setting the environment variable OMP_NUM_THREADS=1.\n",
      "  warnings.warn(\n"
     ]
    },
    {
     "name": "stdout",
     "output_type": "stream",
     "text": [
      "k=141: Silhouette-Score=0.1694\n"
     ]
    },
    {
     "name": "stderr",
     "output_type": "stream",
     "text": [
      "c:\\Users\\TimoAntoniak\\miniconda3\\envs\\vdb\\Lib\\site-packages\\sklearn\\cluster\\_kmeans.py:1419: UserWarning: KMeans is known to have a memory leak on Windows with MKL, when there are less chunks than available threads. You can avoid it by setting the environment variable OMP_NUM_THREADS=1.\n",
      "  warnings.warn(\n"
     ]
    },
    {
     "name": "stdout",
     "output_type": "stream",
     "text": [
      "k=142: Silhouette-Score=0.1710\n"
     ]
    },
    {
     "name": "stderr",
     "output_type": "stream",
     "text": [
      "c:\\Users\\TimoAntoniak\\miniconda3\\envs\\vdb\\Lib\\site-packages\\sklearn\\cluster\\_kmeans.py:1419: UserWarning: KMeans is known to have a memory leak on Windows with MKL, when there are less chunks than available threads. You can avoid it by setting the environment variable OMP_NUM_THREADS=1.\n",
      "  warnings.warn(\n"
     ]
    },
    {
     "name": "stdout",
     "output_type": "stream",
     "text": [
      "k=143: Silhouette-Score=0.1714\n"
     ]
    },
    {
     "name": "stderr",
     "output_type": "stream",
     "text": [
      "c:\\Users\\TimoAntoniak\\miniconda3\\envs\\vdb\\Lib\\site-packages\\sklearn\\cluster\\_kmeans.py:1419: UserWarning: KMeans is known to have a memory leak on Windows with MKL, when there are less chunks than available threads. You can avoid it by setting the environment variable OMP_NUM_THREADS=1.\n",
      "  warnings.warn(\n"
     ]
    },
    {
     "name": "stdout",
     "output_type": "stream",
     "text": [
      "k=144: Silhouette-Score=0.1705\n"
     ]
    },
    {
     "name": "stderr",
     "output_type": "stream",
     "text": [
      "c:\\Users\\TimoAntoniak\\miniconda3\\envs\\vdb\\Lib\\site-packages\\sklearn\\cluster\\_kmeans.py:1419: UserWarning: KMeans is known to have a memory leak on Windows with MKL, when there are less chunks than available threads. You can avoid it by setting the environment variable OMP_NUM_THREADS=1.\n",
      "  warnings.warn(\n"
     ]
    },
    {
     "name": "stdout",
     "output_type": "stream",
     "text": [
      "k=145: Silhouette-Score=0.1699\n"
     ]
    },
    {
     "name": "stderr",
     "output_type": "stream",
     "text": [
      "c:\\Users\\TimoAntoniak\\miniconda3\\envs\\vdb\\Lib\\site-packages\\sklearn\\cluster\\_kmeans.py:1419: UserWarning: KMeans is known to have a memory leak on Windows with MKL, when there are less chunks than available threads. You can avoid it by setting the environment variable OMP_NUM_THREADS=1.\n",
      "  warnings.warn(\n"
     ]
    },
    {
     "name": "stdout",
     "output_type": "stream",
     "text": [
      "k=146: Silhouette-Score=0.1735\n"
     ]
    },
    {
     "name": "stderr",
     "output_type": "stream",
     "text": [
      "c:\\Users\\TimoAntoniak\\miniconda3\\envs\\vdb\\Lib\\site-packages\\sklearn\\cluster\\_kmeans.py:1419: UserWarning: KMeans is known to have a memory leak on Windows with MKL, when there are less chunks than available threads. You can avoid it by setting the environment variable OMP_NUM_THREADS=1.\n",
      "  warnings.warn(\n"
     ]
    },
    {
     "name": "stdout",
     "output_type": "stream",
     "text": [
      "k=147: Silhouette-Score=0.1739\n"
     ]
    },
    {
     "name": "stderr",
     "output_type": "stream",
     "text": [
      "c:\\Users\\TimoAntoniak\\miniconda3\\envs\\vdb\\Lib\\site-packages\\sklearn\\cluster\\_kmeans.py:1419: UserWarning: KMeans is known to have a memory leak on Windows with MKL, when there are less chunks than available threads. You can avoid it by setting the environment variable OMP_NUM_THREADS=1.\n",
      "  warnings.warn(\n"
     ]
    },
    {
     "name": "stdout",
     "output_type": "stream",
     "text": [
      "k=148: Silhouette-Score=0.1753\n"
     ]
    },
    {
     "name": "stderr",
     "output_type": "stream",
     "text": [
      "c:\\Users\\TimoAntoniak\\miniconda3\\envs\\vdb\\Lib\\site-packages\\sklearn\\cluster\\_kmeans.py:1419: UserWarning: KMeans is known to have a memory leak on Windows with MKL, when there are less chunks than available threads. You can avoid it by setting the environment variable OMP_NUM_THREADS=1.\n",
      "  warnings.warn(\n"
     ]
    },
    {
     "name": "stdout",
     "output_type": "stream",
     "text": [
      "k=149: Silhouette-Score=0.1669\n"
     ]
    },
    {
     "name": "stderr",
     "output_type": "stream",
     "text": [
      "c:\\Users\\TimoAntoniak\\miniconda3\\envs\\vdb\\Lib\\site-packages\\sklearn\\cluster\\_kmeans.py:1419: UserWarning: KMeans is known to have a memory leak on Windows with MKL, when there are less chunks than available threads. You can avoid it by setting the environment variable OMP_NUM_THREADS=1.\n",
      "  warnings.warn(\n"
     ]
    },
    {
     "name": "stdout",
     "output_type": "stream",
     "text": [
      "k=150: Silhouette-Score=0.1701\n"
     ]
    },
    {
     "name": "stderr",
     "output_type": "stream",
     "text": [
      "c:\\Users\\TimoAntoniak\\miniconda3\\envs\\vdb\\Lib\\site-packages\\sklearn\\cluster\\_kmeans.py:1419: UserWarning: KMeans is known to have a memory leak on Windows with MKL, when there are less chunks than available threads. You can avoid it by setting the environment variable OMP_NUM_THREADS=1.\n",
      "  warnings.warn(\n"
     ]
    },
    {
     "name": "stdout",
     "output_type": "stream",
     "text": [
      "k=151: Silhouette-Score=0.1738\n"
     ]
    },
    {
     "name": "stderr",
     "output_type": "stream",
     "text": [
      "c:\\Users\\TimoAntoniak\\miniconda3\\envs\\vdb\\Lib\\site-packages\\sklearn\\cluster\\_kmeans.py:1419: UserWarning: KMeans is known to have a memory leak on Windows with MKL, when there are less chunks than available threads. You can avoid it by setting the environment variable OMP_NUM_THREADS=1.\n",
      "  warnings.warn(\n"
     ]
    },
    {
     "name": "stdout",
     "output_type": "stream",
     "text": [
      "k=152: Silhouette-Score=0.1721\n"
     ]
    },
    {
     "name": "stderr",
     "output_type": "stream",
     "text": [
      "c:\\Users\\TimoAntoniak\\miniconda3\\envs\\vdb\\Lib\\site-packages\\sklearn\\cluster\\_kmeans.py:1419: UserWarning: KMeans is known to have a memory leak on Windows with MKL, when there are less chunks than available threads. You can avoid it by setting the environment variable OMP_NUM_THREADS=1.\n",
      "  warnings.warn(\n"
     ]
    },
    {
     "name": "stdout",
     "output_type": "stream",
     "text": [
      "k=153: Silhouette-Score=0.1739\n"
     ]
    },
    {
     "name": "stderr",
     "output_type": "stream",
     "text": [
      "c:\\Users\\TimoAntoniak\\miniconda3\\envs\\vdb\\Lib\\site-packages\\sklearn\\cluster\\_kmeans.py:1419: UserWarning: KMeans is known to have a memory leak on Windows with MKL, when there are less chunks than available threads. You can avoid it by setting the environment variable OMP_NUM_THREADS=1.\n",
      "  warnings.warn(\n"
     ]
    },
    {
     "name": "stdout",
     "output_type": "stream",
     "text": [
      "k=154: Silhouette-Score=0.1718\n"
     ]
    },
    {
     "name": "stderr",
     "output_type": "stream",
     "text": [
      "c:\\Users\\TimoAntoniak\\miniconda3\\envs\\vdb\\Lib\\site-packages\\sklearn\\cluster\\_kmeans.py:1419: UserWarning: KMeans is known to have a memory leak on Windows with MKL, when there are less chunks than available threads. You can avoid it by setting the environment variable OMP_NUM_THREADS=1.\n",
      "  warnings.warn(\n"
     ]
    },
    {
     "name": "stdout",
     "output_type": "stream",
     "text": [
      "k=155: Silhouette-Score=0.1716\n"
     ]
    },
    {
     "name": "stderr",
     "output_type": "stream",
     "text": [
      "c:\\Users\\TimoAntoniak\\miniconda3\\envs\\vdb\\Lib\\site-packages\\sklearn\\cluster\\_kmeans.py:1419: UserWarning: KMeans is known to have a memory leak on Windows with MKL, when there are less chunks than available threads. You can avoid it by setting the environment variable OMP_NUM_THREADS=1.\n",
      "  warnings.warn(\n"
     ]
    },
    {
     "name": "stdout",
     "output_type": "stream",
     "text": [
      "k=156: Silhouette-Score=0.1714\n"
     ]
    },
    {
     "name": "stderr",
     "output_type": "stream",
     "text": [
      "c:\\Users\\TimoAntoniak\\miniconda3\\envs\\vdb\\Lib\\site-packages\\sklearn\\cluster\\_kmeans.py:1419: UserWarning: KMeans is known to have a memory leak on Windows with MKL, when there are less chunks than available threads. You can avoid it by setting the environment variable OMP_NUM_THREADS=1.\n",
      "  warnings.warn(\n"
     ]
    },
    {
     "name": "stdout",
     "output_type": "stream",
     "text": [
      "k=157: Silhouette-Score=0.1711\n"
     ]
    },
    {
     "name": "stderr",
     "output_type": "stream",
     "text": [
      "c:\\Users\\TimoAntoniak\\miniconda3\\envs\\vdb\\Lib\\site-packages\\sklearn\\cluster\\_kmeans.py:1419: UserWarning: KMeans is known to have a memory leak on Windows with MKL, when there are less chunks than available threads. You can avoid it by setting the environment variable OMP_NUM_THREADS=1.\n",
      "  warnings.warn(\n"
     ]
    },
    {
     "name": "stdout",
     "output_type": "stream",
     "text": [
      "k=158: Silhouette-Score=0.1697\n"
     ]
    },
    {
     "name": "stderr",
     "output_type": "stream",
     "text": [
      "c:\\Users\\TimoAntoniak\\miniconda3\\envs\\vdb\\Lib\\site-packages\\sklearn\\cluster\\_kmeans.py:1419: UserWarning: KMeans is known to have a memory leak on Windows with MKL, when there are less chunks than available threads. You can avoid it by setting the environment variable OMP_NUM_THREADS=1.\n",
      "  warnings.warn(\n"
     ]
    },
    {
     "name": "stdout",
     "output_type": "stream",
     "text": [
      "k=159: Silhouette-Score=0.1702\n"
     ]
    },
    {
     "name": "stderr",
     "output_type": "stream",
     "text": [
      "c:\\Users\\TimoAntoniak\\miniconda3\\envs\\vdb\\Lib\\site-packages\\sklearn\\cluster\\_kmeans.py:1419: UserWarning: KMeans is known to have a memory leak on Windows with MKL, when there are less chunks than available threads. You can avoid it by setting the environment variable OMP_NUM_THREADS=1.\n",
      "  warnings.warn(\n"
     ]
    },
    {
     "name": "stdout",
     "output_type": "stream",
     "text": [
      "k=160: Silhouette-Score=0.1694\n"
     ]
    },
    {
     "name": "stderr",
     "output_type": "stream",
     "text": [
      "c:\\Users\\TimoAntoniak\\miniconda3\\envs\\vdb\\Lib\\site-packages\\sklearn\\cluster\\_kmeans.py:1419: UserWarning: KMeans is known to have a memory leak on Windows with MKL, when there are less chunks than available threads. You can avoid it by setting the environment variable OMP_NUM_THREADS=1.\n",
      "  warnings.warn(\n"
     ]
    },
    {
     "name": "stdout",
     "output_type": "stream",
     "text": [
      "k=161: Silhouette-Score=0.1681\n"
     ]
    },
    {
     "name": "stderr",
     "output_type": "stream",
     "text": [
      "c:\\Users\\TimoAntoniak\\miniconda3\\envs\\vdb\\Lib\\site-packages\\sklearn\\cluster\\_kmeans.py:1419: UserWarning: KMeans is known to have a memory leak on Windows with MKL, when there are less chunks than available threads. You can avoid it by setting the environment variable OMP_NUM_THREADS=1.\n",
      "  warnings.warn(\n"
     ]
    },
    {
     "name": "stdout",
     "output_type": "stream",
     "text": [
      "k=162: Silhouette-Score=0.1678\n"
     ]
    },
    {
     "name": "stderr",
     "output_type": "stream",
     "text": [
      "c:\\Users\\TimoAntoniak\\miniconda3\\envs\\vdb\\Lib\\site-packages\\sklearn\\cluster\\_kmeans.py:1419: UserWarning: KMeans is known to have a memory leak on Windows with MKL, when there are less chunks than available threads. You can avoid it by setting the environment variable OMP_NUM_THREADS=1.\n",
      "  warnings.warn(\n"
     ]
    },
    {
     "name": "stdout",
     "output_type": "stream",
     "text": [
      "k=163: Silhouette-Score=0.1683\n"
     ]
    },
    {
     "name": "stderr",
     "output_type": "stream",
     "text": [
      "c:\\Users\\TimoAntoniak\\miniconda3\\envs\\vdb\\Lib\\site-packages\\sklearn\\cluster\\_kmeans.py:1419: UserWarning: KMeans is known to have a memory leak on Windows with MKL, when there are less chunks than available threads. You can avoid it by setting the environment variable OMP_NUM_THREADS=1.\n",
      "  warnings.warn(\n"
     ]
    },
    {
     "name": "stdout",
     "output_type": "stream",
     "text": [
      "k=164: Silhouette-Score=0.1694\n"
     ]
    },
    {
     "name": "stderr",
     "output_type": "stream",
     "text": [
      "c:\\Users\\TimoAntoniak\\miniconda3\\envs\\vdb\\Lib\\site-packages\\sklearn\\cluster\\_kmeans.py:1419: UserWarning: KMeans is known to have a memory leak on Windows with MKL, when there are less chunks than available threads. You can avoid it by setting the environment variable OMP_NUM_THREADS=1.\n",
      "  warnings.warn(\n"
     ]
    },
    {
     "name": "stdout",
     "output_type": "stream",
     "text": [
      "k=165: Silhouette-Score=0.1704\n"
     ]
    },
    {
     "name": "stderr",
     "output_type": "stream",
     "text": [
      "c:\\Users\\TimoAntoniak\\miniconda3\\envs\\vdb\\Lib\\site-packages\\sklearn\\cluster\\_kmeans.py:1419: UserWarning: KMeans is known to have a memory leak on Windows with MKL, when there are less chunks than available threads. You can avoid it by setting the environment variable OMP_NUM_THREADS=1.\n",
      "  warnings.warn(\n"
     ]
    },
    {
     "name": "stdout",
     "output_type": "stream",
     "text": [
      "k=166: Silhouette-Score=0.1693\n"
     ]
    },
    {
     "name": "stderr",
     "output_type": "stream",
     "text": [
      "c:\\Users\\TimoAntoniak\\miniconda3\\envs\\vdb\\Lib\\site-packages\\sklearn\\cluster\\_kmeans.py:1419: UserWarning: KMeans is known to have a memory leak on Windows with MKL, when there are less chunks than available threads. You can avoid it by setting the environment variable OMP_NUM_THREADS=1.\n",
      "  warnings.warn(\n"
     ]
    },
    {
     "name": "stdout",
     "output_type": "stream",
     "text": [
      "k=167: Silhouette-Score=0.1682\n"
     ]
    },
    {
     "name": "stderr",
     "output_type": "stream",
     "text": [
      "c:\\Users\\TimoAntoniak\\miniconda3\\envs\\vdb\\Lib\\site-packages\\sklearn\\cluster\\_kmeans.py:1419: UserWarning: KMeans is known to have a memory leak on Windows with MKL, when there are less chunks than available threads. You can avoid it by setting the environment variable OMP_NUM_THREADS=1.\n",
      "  warnings.warn(\n"
     ]
    },
    {
     "name": "stdout",
     "output_type": "stream",
     "text": [
      "k=168: Silhouette-Score=0.1674\n"
     ]
    },
    {
     "name": "stderr",
     "output_type": "stream",
     "text": [
      "c:\\Users\\TimoAntoniak\\miniconda3\\envs\\vdb\\Lib\\site-packages\\sklearn\\cluster\\_kmeans.py:1419: UserWarning: KMeans is known to have a memory leak on Windows with MKL, when there are less chunks than available threads. You can avoid it by setting the environment variable OMP_NUM_THREADS=1.\n",
      "  warnings.warn(\n"
     ]
    },
    {
     "name": "stdout",
     "output_type": "stream",
     "text": [
      "k=169: Silhouette-Score=0.1667\n"
     ]
    },
    {
     "name": "stderr",
     "output_type": "stream",
     "text": [
      "c:\\Users\\TimoAntoniak\\miniconda3\\envs\\vdb\\Lib\\site-packages\\sklearn\\cluster\\_kmeans.py:1419: UserWarning: KMeans is known to have a memory leak on Windows with MKL, when there are less chunks than available threads. You can avoid it by setting the environment variable OMP_NUM_THREADS=1.\n",
      "  warnings.warn(\n"
     ]
    },
    {
     "name": "stdout",
     "output_type": "stream",
     "text": [
      "k=170: Silhouette-Score=0.1685\n"
     ]
    },
    {
     "name": "stderr",
     "output_type": "stream",
     "text": [
      "c:\\Users\\TimoAntoniak\\miniconda3\\envs\\vdb\\Lib\\site-packages\\sklearn\\cluster\\_kmeans.py:1419: UserWarning: KMeans is known to have a memory leak on Windows with MKL, when there are less chunks than available threads. You can avoid it by setting the environment variable OMP_NUM_THREADS=1.\n",
      "  warnings.warn(\n"
     ]
    },
    {
     "name": "stdout",
     "output_type": "stream",
     "text": [
      "k=171: Silhouette-Score=0.1678\n"
     ]
    },
    {
     "name": "stderr",
     "output_type": "stream",
     "text": [
      "c:\\Users\\TimoAntoniak\\miniconda3\\envs\\vdb\\Lib\\site-packages\\sklearn\\cluster\\_kmeans.py:1419: UserWarning: KMeans is known to have a memory leak on Windows with MKL, when there are less chunks than available threads. You can avoid it by setting the environment variable OMP_NUM_THREADS=1.\n",
      "  warnings.warn(\n"
     ]
    },
    {
     "name": "stdout",
     "output_type": "stream",
     "text": [
      "k=172: Silhouette-Score=0.1678\n"
     ]
    },
    {
     "name": "stderr",
     "output_type": "stream",
     "text": [
      "c:\\Users\\TimoAntoniak\\miniconda3\\envs\\vdb\\Lib\\site-packages\\sklearn\\cluster\\_kmeans.py:1419: UserWarning: KMeans is known to have a memory leak on Windows with MKL, when there are less chunks than available threads. You can avoid it by setting the environment variable OMP_NUM_THREADS=1.\n",
      "  warnings.warn(\n"
     ]
    },
    {
     "name": "stdout",
     "output_type": "stream",
     "text": [
      "k=173: Silhouette-Score=0.1670\n"
     ]
    },
    {
     "name": "stderr",
     "output_type": "stream",
     "text": [
      "c:\\Users\\TimoAntoniak\\miniconda3\\envs\\vdb\\Lib\\site-packages\\sklearn\\cluster\\_kmeans.py:1419: UserWarning: KMeans is known to have a memory leak on Windows with MKL, when there are less chunks than available threads. You can avoid it by setting the environment variable OMP_NUM_THREADS=1.\n",
      "  warnings.warn(\n"
     ]
    },
    {
     "name": "stdout",
     "output_type": "stream",
     "text": [
      "k=174: Silhouette-Score=0.1665\n"
     ]
    },
    {
     "name": "stderr",
     "output_type": "stream",
     "text": [
      "c:\\Users\\TimoAntoniak\\miniconda3\\envs\\vdb\\Lib\\site-packages\\sklearn\\cluster\\_kmeans.py:1419: UserWarning: KMeans is known to have a memory leak on Windows with MKL, when there are less chunks than available threads. You can avoid it by setting the environment variable OMP_NUM_THREADS=1.\n",
      "  warnings.warn(\n"
     ]
    },
    {
     "name": "stdout",
     "output_type": "stream",
     "text": [
      "k=175: Silhouette-Score=0.1659\n"
     ]
    },
    {
     "name": "stderr",
     "output_type": "stream",
     "text": [
      "c:\\Users\\TimoAntoniak\\miniconda3\\envs\\vdb\\Lib\\site-packages\\sklearn\\cluster\\_kmeans.py:1419: UserWarning: KMeans is known to have a memory leak on Windows with MKL, when there are less chunks than available threads. You can avoid it by setting the environment variable OMP_NUM_THREADS=1.\n",
      "  warnings.warn(\n"
     ]
    },
    {
     "name": "stdout",
     "output_type": "stream",
     "text": [
      "k=176: Silhouette-Score=0.1655\n"
     ]
    },
    {
     "name": "stderr",
     "output_type": "stream",
     "text": [
      "c:\\Users\\TimoAntoniak\\miniconda3\\envs\\vdb\\Lib\\site-packages\\sklearn\\cluster\\_kmeans.py:1419: UserWarning: KMeans is known to have a memory leak on Windows with MKL, when there are less chunks than available threads. You can avoid it by setting the environment variable OMP_NUM_THREADS=1.\n",
      "  warnings.warn(\n"
     ]
    },
    {
     "name": "stdout",
     "output_type": "stream",
     "text": [
      "k=177: Silhouette-Score=0.1642\n"
     ]
    },
    {
     "name": "stderr",
     "output_type": "stream",
     "text": [
      "c:\\Users\\TimoAntoniak\\miniconda3\\envs\\vdb\\Lib\\site-packages\\sklearn\\cluster\\_kmeans.py:1419: UserWarning: KMeans is known to have a memory leak on Windows with MKL, when there are less chunks than available threads. You can avoid it by setting the environment variable OMP_NUM_THREADS=1.\n",
      "  warnings.warn(\n"
     ]
    },
    {
     "name": "stdout",
     "output_type": "stream",
     "text": [
      "k=178: Silhouette-Score=0.1633\n"
     ]
    },
    {
     "name": "stderr",
     "output_type": "stream",
     "text": [
      "c:\\Users\\TimoAntoniak\\miniconda3\\envs\\vdb\\Lib\\site-packages\\sklearn\\cluster\\_kmeans.py:1419: UserWarning: KMeans is known to have a memory leak on Windows with MKL, when there are less chunks than available threads. You can avoid it by setting the environment variable OMP_NUM_THREADS=1.\n",
      "  warnings.warn(\n"
     ]
    },
    {
     "name": "stdout",
     "output_type": "stream",
     "text": [
      "k=179: Silhouette-Score=0.1623\n"
     ]
    },
    {
     "name": "stderr",
     "output_type": "stream",
     "text": [
      "c:\\Users\\TimoAntoniak\\miniconda3\\envs\\vdb\\Lib\\site-packages\\sklearn\\cluster\\_kmeans.py:1419: UserWarning: KMeans is known to have a memory leak on Windows with MKL, when there are less chunks than available threads. You can avoid it by setting the environment variable OMP_NUM_THREADS=1.\n",
      "  warnings.warn(\n"
     ]
    },
    {
     "name": "stdout",
     "output_type": "stream",
     "text": [
      "k=180: Silhouette-Score=0.1620\n"
     ]
    },
    {
     "name": "stderr",
     "output_type": "stream",
     "text": [
      "c:\\Users\\TimoAntoniak\\miniconda3\\envs\\vdb\\Lib\\site-packages\\sklearn\\cluster\\_kmeans.py:1419: UserWarning: KMeans is known to have a memory leak on Windows with MKL, when there are less chunks than available threads. You can avoid it by setting the environment variable OMP_NUM_THREADS=1.\n",
      "  warnings.warn(\n"
     ]
    },
    {
     "name": "stdout",
     "output_type": "stream",
     "text": [
      "k=181: Silhouette-Score=0.1608\n"
     ]
    },
    {
     "name": "stderr",
     "output_type": "stream",
     "text": [
      "c:\\Users\\TimoAntoniak\\miniconda3\\envs\\vdb\\Lib\\site-packages\\sklearn\\cluster\\_kmeans.py:1419: UserWarning: KMeans is known to have a memory leak on Windows with MKL, when there are less chunks than available threads. You can avoid it by setting the environment variable OMP_NUM_THREADS=1.\n",
      "  warnings.warn(\n"
     ]
    },
    {
     "name": "stdout",
     "output_type": "stream",
     "text": [
      "k=182: Silhouette-Score=0.1606\n"
     ]
    },
    {
     "name": "stderr",
     "output_type": "stream",
     "text": [
      "c:\\Users\\TimoAntoniak\\miniconda3\\envs\\vdb\\Lib\\site-packages\\sklearn\\cluster\\_kmeans.py:1419: UserWarning: KMeans is known to have a memory leak on Windows with MKL, when there are less chunks than available threads. You can avoid it by setting the environment variable OMP_NUM_THREADS=1.\n",
      "  warnings.warn(\n"
     ]
    },
    {
     "name": "stdout",
     "output_type": "stream",
     "text": [
      "k=183: Silhouette-Score=0.1592\n"
     ]
    },
    {
     "name": "stderr",
     "output_type": "stream",
     "text": [
      "c:\\Users\\TimoAntoniak\\miniconda3\\envs\\vdb\\Lib\\site-packages\\sklearn\\cluster\\_kmeans.py:1419: UserWarning: KMeans is known to have a memory leak on Windows with MKL, when there are less chunks than available threads. You can avoid it by setting the environment variable OMP_NUM_THREADS=1.\n",
      "  warnings.warn(\n"
     ]
    },
    {
     "name": "stdout",
     "output_type": "stream",
     "text": [
      "k=184: Silhouette-Score=0.1579\n"
     ]
    },
    {
     "name": "stderr",
     "output_type": "stream",
     "text": [
      "c:\\Users\\TimoAntoniak\\miniconda3\\envs\\vdb\\Lib\\site-packages\\sklearn\\cluster\\_kmeans.py:1419: UserWarning: KMeans is known to have a memory leak on Windows with MKL, when there are less chunks than available threads. You can avoid it by setting the environment variable OMP_NUM_THREADS=1.\n",
      "  warnings.warn(\n"
     ]
    },
    {
     "name": "stdout",
     "output_type": "stream",
     "text": [
      "k=185: Silhouette-Score=0.1569\n"
     ]
    },
    {
     "name": "stderr",
     "output_type": "stream",
     "text": [
      "c:\\Users\\TimoAntoniak\\miniconda3\\envs\\vdb\\Lib\\site-packages\\sklearn\\cluster\\_kmeans.py:1419: UserWarning: KMeans is known to have a memory leak on Windows with MKL, when there are less chunks than available threads. You can avoid it by setting the environment variable OMP_NUM_THREADS=1.\n",
      "  warnings.warn(\n"
     ]
    },
    {
     "name": "stdout",
     "output_type": "stream",
     "text": [
      "k=186: Silhouette-Score=0.1551\n"
     ]
    },
    {
     "name": "stderr",
     "output_type": "stream",
     "text": [
      "c:\\Users\\TimoAntoniak\\miniconda3\\envs\\vdb\\Lib\\site-packages\\sklearn\\cluster\\_kmeans.py:1419: UserWarning: KMeans is known to have a memory leak on Windows with MKL, when there are less chunks than available threads. You can avoid it by setting the environment variable OMP_NUM_THREADS=1.\n",
      "  warnings.warn(\n"
     ]
    },
    {
     "name": "stdout",
     "output_type": "stream",
     "text": [
      "k=187: Silhouette-Score=0.1537\n"
     ]
    },
    {
     "name": "stderr",
     "output_type": "stream",
     "text": [
      "c:\\Users\\TimoAntoniak\\miniconda3\\envs\\vdb\\Lib\\site-packages\\sklearn\\cluster\\_kmeans.py:1419: UserWarning: KMeans is known to have a memory leak on Windows with MKL, when there are less chunks than available threads. You can avoid it by setting the environment variable OMP_NUM_THREADS=1.\n",
      "  warnings.warn(\n"
     ]
    },
    {
     "name": "stdout",
     "output_type": "stream",
     "text": [
      "k=188: Silhouette-Score=0.1524\n"
     ]
    },
    {
     "name": "stderr",
     "output_type": "stream",
     "text": [
      "c:\\Users\\TimoAntoniak\\miniconda3\\envs\\vdb\\Lib\\site-packages\\sklearn\\cluster\\_kmeans.py:1419: UserWarning: KMeans is known to have a memory leak on Windows with MKL, when there are less chunks than available threads. You can avoid it by setting the environment variable OMP_NUM_THREADS=1.\n",
      "  warnings.warn(\n"
     ]
    },
    {
     "name": "stdout",
     "output_type": "stream",
     "text": [
      "k=189: Silhouette-Score=0.1524\n"
     ]
    },
    {
     "name": "stderr",
     "output_type": "stream",
     "text": [
      "c:\\Users\\TimoAntoniak\\miniconda3\\envs\\vdb\\Lib\\site-packages\\sklearn\\cluster\\_kmeans.py:1419: UserWarning: KMeans is known to have a memory leak on Windows with MKL, when there are less chunks than available threads. You can avoid it by setting the environment variable OMP_NUM_THREADS=1.\n",
      "  warnings.warn(\n"
     ]
    },
    {
     "name": "stdout",
     "output_type": "stream",
     "text": [
      "k=190: Silhouette-Score=0.1525\n"
     ]
    },
    {
     "name": "stderr",
     "output_type": "stream",
     "text": [
      "c:\\Users\\TimoAntoniak\\miniconda3\\envs\\vdb\\Lib\\site-packages\\sklearn\\cluster\\_kmeans.py:1419: UserWarning: KMeans is known to have a memory leak on Windows with MKL, when there are less chunks than available threads. You can avoid it by setting the environment variable OMP_NUM_THREADS=1.\n",
      "  warnings.warn(\n"
     ]
    },
    {
     "name": "stdout",
     "output_type": "stream",
     "text": [
      "k=191: Silhouette-Score=0.1513\n"
     ]
    },
    {
     "name": "stderr",
     "output_type": "stream",
     "text": [
      "c:\\Users\\TimoAntoniak\\miniconda3\\envs\\vdb\\Lib\\site-packages\\sklearn\\cluster\\_kmeans.py:1419: UserWarning: KMeans is known to have a memory leak on Windows with MKL, when there are less chunks than available threads. You can avoid it by setting the environment variable OMP_NUM_THREADS=1.\n",
      "  warnings.warn(\n"
     ]
    },
    {
     "name": "stdout",
     "output_type": "stream",
     "text": [
      "k=192: Silhouette-Score=0.1519\n"
     ]
    },
    {
     "name": "stderr",
     "output_type": "stream",
     "text": [
      "c:\\Users\\TimoAntoniak\\miniconda3\\envs\\vdb\\Lib\\site-packages\\sklearn\\cluster\\_kmeans.py:1419: UserWarning: KMeans is known to have a memory leak on Windows with MKL, when there are less chunks than available threads. You can avoid it by setting the environment variable OMP_NUM_THREADS=1.\n",
      "  warnings.warn(\n"
     ]
    },
    {
     "name": "stdout",
     "output_type": "stream",
     "text": [
      "k=193: Silhouette-Score=0.1502\n"
     ]
    },
    {
     "name": "stderr",
     "output_type": "stream",
     "text": [
      "c:\\Users\\TimoAntoniak\\miniconda3\\envs\\vdb\\Lib\\site-packages\\sklearn\\cluster\\_kmeans.py:1419: UserWarning: KMeans is known to have a memory leak on Windows with MKL, when there are less chunks than available threads. You can avoid it by setting the environment variable OMP_NUM_THREADS=1.\n",
      "  warnings.warn(\n"
     ]
    },
    {
     "name": "stdout",
     "output_type": "stream",
     "text": [
      "k=194: Silhouette-Score=0.1497\n"
     ]
    },
    {
     "name": "stderr",
     "output_type": "stream",
     "text": [
      "c:\\Users\\TimoAntoniak\\miniconda3\\envs\\vdb\\Lib\\site-packages\\sklearn\\cluster\\_kmeans.py:1419: UserWarning: KMeans is known to have a memory leak on Windows with MKL, when there are less chunks than available threads. You can avoid it by setting the environment variable OMP_NUM_THREADS=1.\n",
      "  warnings.warn(\n"
     ]
    },
    {
     "name": "stdout",
     "output_type": "stream",
     "text": [
      "k=195: Silhouette-Score=0.1487\n"
     ]
    },
    {
     "name": "stderr",
     "output_type": "stream",
     "text": [
      "c:\\Users\\TimoAntoniak\\miniconda3\\envs\\vdb\\Lib\\site-packages\\sklearn\\cluster\\_kmeans.py:1419: UserWarning: KMeans is known to have a memory leak on Windows with MKL, when there are less chunks than available threads. You can avoid it by setting the environment variable OMP_NUM_THREADS=1.\n",
      "  warnings.warn(\n"
     ]
    },
    {
     "name": "stdout",
     "output_type": "stream",
     "text": [
      "k=196: Silhouette-Score=0.1478\n"
     ]
    },
    {
     "name": "stderr",
     "output_type": "stream",
     "text": [
      "c:\\Users\\TimoAntoniak\\miniconda3\\envs\\vdb\\Lib\\site-packages\\sklearn\\cluster\\_kmeans.py:1419: UserWarning: KMeans is known to have a memory leak on Windows with MKL, when there are less chunks than available threads. You can avoid it by setting the environment variable OMP_NUM_THREADS=1.\n",
      "  warnings.warn(\n"
     ]
    },
    {
     "name": "stdout",
     "output_type": "stream",
     "text": [
      "k=197: Silhouette-Score=0.1469\n"
     ]
    },
    {
     "name": "stderr",
     "output_type": "stream",
     "text": [
      "c:\\Users\\TimoAntoniak\\miniconda3\\envs\\vdb\\Lib\\site-packages\\sklearn\\cluster\\_kmeans.py:1419: UserWarning: KMeans is known to have a memory leak on Windows with MKL, when there are less chunks than available threads. You can avoid it by setting the environment variable OMP_NUM_THREADS=1.\n",
      "  warnings.warn(\n"
     ]
    },
    {
     "name": "stdout",
     "output_type": "stream",
     "text": [
      "k=198: Silhouette-Score=0.1460\n"
     ]
    },
    {
     "name": "stderr",
     "output_type": "stream",
     "text": [
      "c:\\Users\\TimoAntoniak\\miniconda3\\envs\\vdb\\Lib\\site-packages\\sklearn\\cluster\\_kmeans.py:1419: UserWarning: KMeans is known to have a memory leak on Windows with MKL, when there are less chunks than available threads. You can avoid it by setting the environment variable OMP_NUM_THREADS=1.\n",
      "  warnings.warn(\n"
     ]
    },
    {
     "name": "stdout",
     "output_type": "stream",
     "text": [
      "k=199: Silhouette-Score=0.1455\n"
     ]
    },
    {
     "data": {
      "image/png": "[encoded data removed]",
      "text/plain": [
       "<Figure size 800x400 with 1 Axes>"
      ]
     },
     "metadata": {},
     "output_type": "display_data"
    }
   ],
   "source": [
    "from sklearn.metrics import silhouette_score\n",
    "\n",
    "silhouette_scores = []\n",
    "K_sil = range(2, 200)  # Silhouette-Score ist für k=1 nicht definiert\n",
    "\n",
    "for k in K_sil:\n",
    "    kmeans = KMeans(n_clusters=k, random_state=42).fit(embeddings_np)\n",
    "    labels = kmeans.labels_\n",
    "    score = silhouette_score(embeddings_np, labels)\n",
    "    silhouette_scores.append(score)\n",
    "    print(f\"k={k}: Silhouette-Score={score:.4f}\")\n",
    "\n",
    "plt.figure(figsize=(8, 4))\n",
    "plt.plot(K_sil, silhouette_scores, 'bo-')\n",
    "plt.xlabel('Number of Clusters (k)')\n",
    "plt.ylabel('Silhouette-Score')\n",
    "plt.title('Silhouette-Score für verschiedene Clusteranzahlen')\n",
    "plt.show()"
   ]
  },
  {
   "cell_type": "code",
   "execution_count": 52,
   "id": "69bd5d7c",
   "metadata": {},
   "outputs": [
    {
     "name": "stdout",
     "output_type": "stream",
     "text": [
      "Cluster-Zugehörigkeiten für k=8: [0 5 1 3 0 3 7 2 1 5 0 1 1 7 0 2 5 0 2 4 0 1 0 0 2 7 1 0 1 7 1 2 3 0 7 0 0\n",
      " 4 4 2 6 4 1 7 3 0 5 2 4 7 1 2 4 5 1 4 5 1 6 4 0 7 1 2 7 5 7 5 2 0 5 1 2 5\n",
      " 2 0 6 5 5 3 7 6 6 1 6 0 0 5 1 1 3 2 1 7 7 0 2 3 7 5 5 0 1 5 6 0 5 1 5 2 0\n",
      " 0 5 3 5 3 6 1 5 6 6 3 0 0 1 1 3 3 0 6 5 1 1 4 4 6 6 2 2 3 7 5 2 3 6 5 1 4\n",
      " 4 1 4 4 7 7 2 1 1 6 7 3 2 1 1 1 4 5 7 3 4 3 5 2 4 2 5 4 5 0 6 6 1 5 1 3 6\n",
      " 4 2 5 0 5 2 0 2 1 0 6 0 3 6 1 1 5 2 6 2 5 4 5 6 6 5 0 4 5 5 2 5 1 7 3 1 3\n",
      " 1 0 4 1 3 5]\n"
     ]
    },
    {
     "name": "stderr",
     "output_type": "stream",
     "text": [
      "c:\\Users\\TimoAntoniak\\miniconda3\\envs\\vdb\\Lib\\site-packages\\sklearn\\cluster\\_kmeans.py:1419: UserWarning: KMeans is known to have a memory leak on Windows with MKL, when there are less chunks than available threads. You can avoid it by setting the environment variable OMP_NUM_THREADS=1.\n",
      "  warnings.warn(\n"
     ]
    }
   ],
   "source": [
    "# Wähle die optimale Anzahl an Clustern (z.B. aus dem Elbow-Plot)\n",
    "k_optimal = 8  # Passe diesen Wert ggf. nach Betrachtung des Elbow-Plots an\n",
    "\n",
    "kmeans = KMeans(n_clusters=k_optimal, random_state=42)\n",
    "clusters = kmeans.fit_predict(embeddings_np)\n",
    "\n",
    "print(f\"Cluster-Zugehörigkeiten für k={k_optimal}:\", clusters)"
   ]
  },
  {
   "cell_type": "markdown",
   "id": "7c6f01b7",
   "metadata": {},
   "source": [
    "## Suche in der Vektordatenbank"
   ]
  },
  {
   "cell_type": "code",
   "execution_count": 53,
   "id": "c99ae979",
   "metadata": {},
   "outputs": [
    {
     "name": "stdout",
     "output_type": "stream",
     "text": [
      "Distances: [[1.3219886 1.3232605 1.3464255 1.3523738 1.3574529]]\n",
      "Indices: [[ 99  15  39 127 218]]\n",
      "Mitarbeiter:\n",
      "  Name: Linda Voigt\n",
      "  Skills:\n",
      "    MySQL: vor 230 Tagen\n",
      "    Confluence: vor 641 Tagen\n",
      "    TensorFlow: vor 539 Tagen\n",
      "    Jenkins: vor 84 Tagen\n",
      "    Angular: vor 185 Tagen\n",
      "Mitarbeiter:\n",
      "  Name: Finn Neumann\n",
      "  Skills:\n",
      "    MySQL: vor 219 Tagen\n",
      "Mitarbeiter:\n",
      "  Name: Lena Richter\n",
      "  Skills:\n",
      "    Git: vor 635 Tagen\n",
      "    JavaScript: vor 409 Tagen\n",
      "Mitarbeiter:\n",
      "  Name: Carla Pietsch\n",
      "  Skills:\n",
      "    React: vor 660 Tagen\n",
      "    PHP: vor 137 Tagen\n",
      "    Django: vor 304 Tagen\n",
      "    Java: vor 565 Tagen\n",
      "Mitarbeiter:\n",
      "  Name: Dorothee Hermes\n",
      "  Skills:\n",
      "    Azure: vor 585 Tagen\n",
      "    Confluence: vor 49 Tagen\n",
      "    Tableau: vor 212 Tagen\n"
     ]
    }
   ],
   "source": [
    "query = \"Backend Technologien\"\n",
    "query_vector = client.embeddings.create(input=query, model=\"text-embedding-3-small\").data[0].embedding\n",
    "\n",
    "search_vector = np.array([query_vector]).astype('float32')\n",
    "\n",
    "erg_anzahl = 5\n",
    "\n",
    "D, indices = index.search(search_vector, erg_anzahl)\n",
    "\n",
    "print(f\"Distances: {D}\")\n",
    "print(f\"Indices: {indices}\")\n",
    "\n",
    "for i in indices[0]:\n",
    "    print(data[i])"
   ]
  },
  {
   "cell_type": "markdown",
   "id": "6c6952c1",
   "metadata": {},
   "source": [
    "## Darstellen mit t-SNE"
   ]
  },
  {
   "cell_type": "code",
   "execution_count": 56,
   "id": "6c6952c1",
   "metadata": {},
   "outputs": [
    {
     "data": {
      "image/png": "[encoded data removed]",
      "text/plain": [
       "<Figure size 1000x800 with 1 Axes>"
      ]
     },
     "metadata": {},
     "output_type": "display_data"
    }
   ],
   "source": [
    "import numpy as np\n",
    "from sklearn.manifold import TSNE\n",
    "from scipy.spatial import ConvexHull\n",
    "import matplotlib\n",
    "\n",
    "# Kombiniere Embeddings und Query-Vektor für t-SNE\n",
    "all_embeddings = np.vstack([embeddings_np, search_vector])\n",
    "tsne = TSNE(n_components=2, random_state=42, perplexity=5, max_iter=300)\n",
    "reduced_all = tsne.fit_transform(all_embeddings)\n",
    "reduced_embeddings = reduced_all[:-1]\n",
    "query_tsne = reduced_all[-1]\n",
    "\n",
    "# Plotten der reduzierten Embeddings\n",
    "plt.figure(figsize=(10, 8))\n",
    "cmap = plt.get_cmap('jet')\n",
    "scatter = plt.scatter(reduced_embeddings[:, 0], reduced_embeddings[:, 1], c=clusters, cmap=cmap, s=10)\n",
    "plt.scatter(query_tsne[0], query_tsne[1], s=200, c=\"red\", marker=\"*\", edgecolor=\"black\", linewidths=1.5, label=\"Query-Vektor\")\n",
    "\n",
    "# ConvexHull für jeden Cluster zeichnen, Farbe passend zu den Punkten\n",
    "unique_clusters = np.unique(clusters)\n",
    "for cluster_id in unique_clusters:\n",
    "    points = reduced_embeddings[clusters == cluster_id]\n",
    "    if len(points) >= 3:\n",
    "        hull = ConvexHull(points)\n",
    "        hull_points = points[hull.vertices]\n",
    "        color = cmap(cluster_id / (len(unique_clusters)-1) if len(unique_clusters) > 1 else 0)\n",
    "        plt.fill(hull_points[:, 0], hull_points[:, 1], alpha=0.2, color=color, edgecolor=color)\n",
    "\n",
    "# Optional: Titel und Achsenbeschriftungen hinzufügen\n",
    "plt.legend(*scatter.legend_elements(), title=\"Cluster\")\n",
    "plt.title(\"t-SNE Visualisierung der Embeddings mit K-Means-Clustering und ConvexHull\")\n",
    "plt.xlabel(\"t-SNE 1\")\n",
    "plt.ylabel(\"t-SNE 2\")\n",
    "\n",
    "plt.show()\n",
    "\n"
   ]
  },
  {
   "cell_type": "code",
   "execution_count": null,
   "id": "bb924611",
   "metadata": {},
   "outputs": [],
   "source": []
  }
 ],
 "metadata": {
  "kernelspec": {
   "display_name": "vdb",
   "language": "python",
   "name": "python3"
  },
  "language_info": {
   "codemirror_mode": {
    "name": "ipython",
    "version": 3
   },
   "file_extension": ".py",
   "mimetype": "text/x-python",
   "name": "python",
   "nbconvert_exporter": "python",
   "pygments_lexer": "ipython3",
   "version": "3.12.11"
  }
 },
 "nbformat": 4,
 "nbformat_minor": 5
}
